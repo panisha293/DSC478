{
 "cells": [
  {
   "cell_type": "raw",
   "id": "938ef9b7",
   "metadata": {},
   "source": [
    "Anisha Patel\n",
    "DSC478 \n",
    "Hw2"
   ]
  },
  {
   "cell_type": "code",
   "execution_count": 1,
   "id": "29b21759",
   "metadata": {},
   "outputs": [],
   "source": [
    "import numpy as np\n",
    "import pandas as pd\n",
    "import matplotlib.pyplot as plt"
   ]
  },
  {
   "cell_type": "code",
   "execution_count": 2,
   "id": "2b63406c",
   "metadata": {},
   "outputs": [],
   "source": [
    "trainMatrix = pd.read_table(\"/Users/vinodpatel/Desktop/DePaul/DSC 478 Programming machine learning/Untitled Folder/trainMatrixModified.txt\", header = None)\n",
    "testMatrix = pd.read_table(\"/Users/vinodpatel/Desktop/DePaul/DSC 478 Programming machine learning/Untitled Folder/testMatrixModified.txt\", header = None)\n",
    "trainlables = pd.read_table(\"/Users/vinodpatel/Desktop/DePaul/DSC 478 Programming machine learning/Untitled Folder/trainClasses.txt\",header = None, index_col=0)\n",
    "testlables = pd.read_table(\"/Users/vinodpatel/Desktop/DePaul/DSC 478 Programming machine learning/Untitled Folder/testClasses.txt\",header = None, index_col=0)\n",
    "terms = pd.read_table(\"/Users/vinodpatel/Desktop/DePaul/DSC 478 Programming machine learning/Untitled Folder/modifiedterms.txt\", header = None)"
   ]
  },
  {
   "cell_type": "code",
   "execution_count": 3,
   "id": "30b69c06",
   "metadata": {},
   "outputs": [
    {
     "data": {
      "text/plain": [
       "(5500, 200)"
      ]
     },
     "execution_count": 3,
     "metadata": {},
     "output_type": "execute_result"
    }
   ],
   "source": [
    "testMatrix.shape"
   ]
  },
  {
   "cell_type": "code",
   "execution_count": 4,
   "id": "64d71765",
   "metadata": {},
   "outputs": [
    {
     "data": {
      "text/html": [
       "<div>\n",
       "<style scoped>\n",
       "    .dataframe tbody tr th:only-of-type {\n",
       "        vertical-align: middle;\n",
       "    }\n",
       "\n",
       "    .dataframe tbody tr th {\n",
       "        vertical-align: top;\n",
       "    }\n",
       "\n",
       "    .dataframe thead th {\n",
       "        text-align: right;\n",
       "    }\n",
       "</style>\n",
       "<table border=\"1\" class=\"dataframe\">\n",
       "  <thead>\n",
       "    <tr style=\"text-align: right;\">\n",
       "      <th></th>\n",
       "      <th>0</th>\n",
       "      <th>1</th>\n",
       "      <th>2</th>\n",
       "      <th>3</th>\n",
       "      <th>4</th>\n",
       "      <th>5</th>\n",
       "      <th>6</th>\n",
       "      <th>7</th>\n",
       "      <th>8</th>\n",
       "      <th>9</th>\n",
       "      <th>...</th>\n",
       "      <th>790</th>\n",
       "      <th>791</th>\n",
       "      <th>792</th>\n",
       "      <th>793</th>\n",
       "      <th>794</th>\n",
       "      <th>795</th>\n",
       "      <th>796</th>\n",
       "      <th>797</th>\n",
       "      <th>798</th>\n",
       "      <th>799</th>\n",
       "    </tr>\n",
       "  </thead>\n",
       "  <tbody>\n",
       "    <tr>\n",
       "      <th>0</th>\n",
       "      <td>2.0</td>\n",
       "      <td>0.0</td>\n",
       "      <td>0.0</td>\n",
       "      <td>2.0</td>\n",
       "      <td>2.0</td>\n",
       "      <td>0.0</td>\n",
       "      <td>0.0</td>\n",
       "      <td>0.0</td>\n",
       "      <td>0.0</td>\n",
       "      <td>0.0</td>\n",
       "      <td>...</td>\n",
       "      <td>0.0</td>\n",
       "      <td>0.0</td>\n",
       "      <td>0.0</td>\n",
       "      <td>0.0</td>\n",
       "      <td>0.0</td>\n",
       "      <td>0.0</td>\n",
       "      <td>0.0</td>\n",
       "      <td>0.0</td>\n",
       "      <td>0.0</td>\n",
       "      <td>0.0</td>\n",
       "    </tr>\n",
       "    <tr>\n",
       "      <th>1</th>\n",
       "      <td>2.0</td>\n",
       "      <td>0.0</td>\n",
       "      <td>0.0</td>\n",
       "      <td>0.0</td>\n",
       "      <td>0.0</td>\n",
       "      <td>0.0</td>\n",
       "      <td>0.0</td>\n",
       "      <td>0.0</td>\n",
       "      <td>0.0</td>\n",
       "      <td>0.0</td>\n",
       "      <td>...</td>\n",
       "      <td>0.0</td>\n",
       "      <td>0.0</td>\n",
       "      <td>3.0</td>\n",
       "      <td>0.0</td>\n",
       "      <td>0.0</td>\n",
       "      <td>0.0</td>\n",
       "      <td>0.0</td>\n",
       "      <td>0.0</td>\n",
       "      <td>0.0</td>\n",
       "      <td>0.0</td>\n",
       "    </tr>\n",
       "    <tr>\n",
       "      <th>2</th>\n",
       "      <td>2.0</td>\n",
       "      <td>0.0</td>\n",
       "      <td>0.0</td>\n",
       "      <td>0.0</td>\n",
       "      <td>0.0</td>\n",
       "      <td>0.0</td>\n",
       "      <td>0.0</td>\n",
       "      <td>0.0</td>\n",
       "      <td>0.0</td>\n",
       "      <td>0.0</td>\n",
       "      <td>...</td>\n",
       "      <td>0.0</td>\n",
       "      <td>0.0</td>\n",
       "      <td>0.0</td>\n",
       "      <td>0.0</td>\n",
       "      <td>0.0</td>\n",
       "      <td>0.0</td>\n",
       "      <td>0.0</td>\n",
       "      <td>0.0</td>\n",
       "      <td>0.0</td>\n",
       "      <td>0.0</td>\n",
       "    </tr>\n",
       "    <tr>\n",
       "      <th>3</th>\n",
       "      <td>1.0</td>\n",
       "      <td>1.0</td>\n",
       "      <td>1.0</td>\n",
       "      <td>1.0</td>\n",
       "      <td>1.0</td>\n",
       "      <td>1.0</td>\n",
       "      <td>2.0</td>\n",
       "      <td>1.0</td>\n",
       "      <td>1.0</td>\n",
       "      <td>1.0</td>\n",
       "      <td>...</td>\n",
       "      <td>1.0</td>\n",
       "      <td>1.0</td>\n",
       "      <td>1.0</td>\n",
       "      <td>1.0</td>\n",
       "      <td>1.0</td>\n",
       "      <td>1.0</td>\n",
       "      <td>1.0</td>\n",
       "      <td>1.0</td>\n",
       "      <td>1.0</td>\n",
       "      <td>1.0</td>\n",
       "    </tr>\n",
       "    <tr>\n",
       "      <th>4</th>\n",
       "      <td>8.0</td>\n",
       "      <td>1.0</td>\n",
       "      <td>0.0</td>\n",
       "      <td>0.0</td>\n",
       "      <td>0.0</td>\n",
       "      <td>0.0</td>\n",
       "      <td>0.0</td>\n",
       "      <td>0.0</td>\n",
       "      <td>0.0</td>\n",
       "      <td>0.0</td>\n",
       "      <td>...</td>\n",
       "      <td>0.0</td>\n",
       "      <td>0.0</td>\n",
       "      <td>2.0</td>\n",
       "      <td>0.0</td>\n",
       "      <td>0.0</td>\n",
       "      <td>0.0</td>\n",
       "      <td>0.0</td>\n",
       "      <td>0.0</td>\n",
       "      <td>0.0</td>\n",
       "      <td>1.0</td>\n",
       "    </tr>\n",
       "  </tbody>\n",
       "</table>\n",
       "<p>5 rows × 800 columns</p>\n",
       "</div>"
      ],
      "text/plain": [
       "   0    1    2    3    4    5    6    7    8    9    ...  790  791  792  793  \\\n",
       "0  2.0  0.0  0.0  2.0  2.0  0.0  0.0  0.0  0.0  0.0  ...  0.0  0.0  0.0  0.0   \n",
       "1  2.0  0.0  0.0  0.0  0.0  0.0  0.0  0.0  0.0  0.0  ...  0.0  0.0  3.0  0.0   \n",
       "2  2.0  0.0  0.0  0.0  0.0  0.0  0.0  0.0  0.0  0.0  ...  0.0  0.0  0.0  0.0   \n",
       "3  1.0  1.0  1.0  1.0  1.0  1.0  2.0  1.0  1.0  1.0  ...  1.0  1.0  1.0  1.0   \n",
       "4  8.0  1.0  0.0  0.0  0.0  0.0  0.0  0.0  0.0  0.0  ...  0.0  0.0  2.0  0.0   \n",
       "\n",
       "   794  795  796  797  798  799  \n",
       "0  0.0  0.0  0.0  0.0  0.0  0.0  \n",
       "1  0.0  0.0  0.0  0.0  0.0  0.0  \n",
       "2  0.0  0.0  0.0  0.0  0.0  0.0  \n",
       "3  1.0  1.0  1.0  1.0  1.0  1.0  \n",
       "4  0.0  0.0  0.0  0.0  0.0  1.0  \n",
       "\n",
       "[5 rows x 800 columns]"
      ]
     },
     "execution_count": 4,
     "metadata": {},
     "output_type": "execute_result"
    }
   ],
   "source": [
    "trainMatrix.head()"
   ]
  },
  {
   "cell_type": "code",
   "execution_count": 5,
   "id": "bb205ec8",
   "metadata": {},
   "outputs": [
    {
     "data": {
      "text/plain": [
       "(5500, 1)"
      ]
     },
     "execution_count": 5,
     "metadata": {},
     "output_type": "execute_result"
    }
   ],
   "source": [
    "terms.shape"
   ]
  },
  {
   "cell_type": "code",
   "execution_count": 6,
   "id": "65cb97d5",
   "metadata": {},
   "outputs": [],
   "source": [
    "DT_train = trainMatrix.T\n",
    "DT_test = testMatrix.T"
   ]
  },
  {
   "cell_type": "code",
   "execution_count": 7,
   "id": "a811742a",
   "metadata": {},
   "outputs": [
    {
     "data": {
      "text/plain": [
       "0     102.0\n",
       "1      11.0\n",
       "2      22.0\n",
       "3     959.0\n",
       "4     222.0\n",
       "5      84.0\n",
       "6     108.0\n",
       "7     262.0\n",
       "8      55.0\n",
       "9     318.0\n",
       "10     69.0\n",
       "11     41.0\n",
       "12    148.0\n",
       "13    128.0\n",
       "14    128.0\n",
       "15    146.0\n",
       "16    201.0\n",
       "17     39.0\n",
       "18    159.0\n",
       "19      6.0\n",
       "dtype: float64"
      ]
     },
     "execution_count": 7,
     "metadata": {},
     "output_type": "execute_result"
    }
   ],
   "source": [
    "termFreqs = trainMatrix.sum(axis=1)\n",
    "termFreqs[0:20]"
   ]
  },
  {
   "cell_type": "code",
   "execution_count": 8,
   "id": "d6fb1a6e",
   "metadata": {},
   "outputs": [
    {
     "data": {
      "image/png": "[encoded data removed]",
      "text/plain": [
       "<Figure size 432x288 with 1 Axes>"
      ]
     },
     "metadata": {
      "needs_background": "light"
     },
     "output_type": "display_data"
    }
   ],
   "source": [
    "plt.plot(sorted(termFreqs, reverse = True));"
   ]
  },
  {
   "cell_type": "markdown",
   "id": "dbd06a3d",
   "metadata": {},
   "source": [
    "# Question 2"
   ]
  },
  {
   "cell_type": "markdown",
   "id": "ba48ce9a",
   "metadata": {},
   "source": [
    "Create your own K-Nearest-Neighbor classifier function. Your classifier should allow as input the training data matrix, the training labels, the instance to be classified, the value of K (number of neighbors), and should return the predicted class for the instance and the indices of the top K neighbors. Your classifier should work with Euclidean distance as well as Cosine distance (which is 1 minus the Cosine similarity). You may create two separate classifiers, or add the distance metric as a parameter in the classifier function (an example implementation of a KNN classifier was provided in class examples). Show that your classifier works by running it on the first two instances in the test data using both Cosine and Euclidean distance in each case.\n",
    " "
   ]
  },
  {
   "cell_type": "code",
   "execution_count": 9,
   "id": "779dae58",
   "metadata": {},
   "outputs": [],
   "source": [
    "\n",
    "def knn_search(x, D, K, measure):\n",
    "    \"\"\" find K nearest neighbors of an instance x among the instances in D \"\"\"\n",
    "    if measure == 0:\n",
    "        # euclidean distances from the other points\n",
    "        dists = np.sqrt(((D - x)**2).sum(axis=1))\n",
    "    elif measure == 1:\n",
    "        # first find the vector norm for each instance in D as wel as the norm for vector x\n",
    "        D_norm = np.array([np.linalg.norm(D[i]) for i in range(len(D))])\n",
    "        x_norm = np.linalg.norm(x)\n",
    "        # Compute Cosine: divide the dot product o x and each instance in D by the product of the two norms\n",
    "        sims = np.dot(D,x)/(D_norm * x_norm)\n",
    "        # The distance measure will be the inverse of Cosine similarity\n",
    "        dists = 1 - sims\n",
    "    idx = np.argsort(dists) # sorting\n",
    "    # return the indexes of K nearest neighbors\n",
    "    return idx[:K], dists"
   ]
  },
  {
   "cell_type": "code",
   "execution_count": 10,
   "id": "f9825db7",
   "metadata": {},
   "outputs": [],
   "source": [
    "def knn_classify(x, D, K, labels, measure):\n",
    "    from collections import Counter\n",
    "    neigh_idx, distances = knn_search(x, D, K, measure)\n",
    "    neigh_labels = labels[neigh_idx]\n",
    "    count = Counter(neigh_labels)\n",
    "    predicted_label = count.most_common(1)[0][0]\n",
    "    return neigh_idx, predicted_label"
   ]
  },
  {
   "cell_type": "code",
   "execution_count": 11,
   "id": "cf6d72e0",
   "metadata": {},
   "outputs": [],
   "source": [
    "DT_train = np.array(DT_train)\n",
    "DT_test = np.array(DT_test)\n",
    "terms_train = np.array(trainlables).flatten()\n",
    "terms_test = np.array(testlables).flatten()"
   ]
  },
  {
   "cell_type": "code",
   "execution_count": 12,
   "id": "8fda2cfc",
   "metadata": {},
   "outputs": [],
   "source": [
    "from sklearn import preprocessing\n",
    "min_max_scaler = preprocessing.MinMaxScaler()\n",
    "train_norm = min_max_scaler.fit_transform(DT_train)\n",
    "test_norm = min_max_scaler.fit_transform(DT_test)"
   ]
  },
  {
   "cell_type": "code",
   "execution_count": 13,
   "id": "d764b559",
   "metadata": {},
   "outputs": [
    {
     "name": "stdout",
     "output_type": "stream",
     "text": [
      "[685 757 798 711  38 342 326 224 554 743] 0\n"
     ]
    }
   ],
   "source": [
    "top_K_neighors, predicted_class = knn_classify(test_norm[0], train_norm, 10, terms_train, 0)\n",
    "print(top_K_neighors, predicted_class)"
   ]
  },
  {
   "cell_type": "code",
   "execution_count": 14,
   "id": "f113f17d",
   "metadata": {},
   "outputs": [
    {
     "name": "stdout",
     "output_type": "stream",
     "text": [
      "[685 628 152 570  24 675   1 763 109 194] 1\n"
     ]
    }
   ],
   "source": [
    "top_K_neighors, predicted_class = knn_classify(test_norm[0], train_norm,10, terms_train, 1)\n",
    "print(top_K_neighors, predicted_class)"
   ]
  },
  {
   "cell_type": "code",
   "execution_count": 15,
   "id": "d38a39c0",
   "metadata": {},
   "outputs": [
    {
     "name": "stdout",
     "output_type": "stream",
     "text": [
      "[757 798 711  38 342 554 326 224 743  20] 0\n"
     ]
    }
   ],
   "source": [
    "top_K_neighors, predicted_class = knn_classify(test_norm[1], train_norm,10, terms_train, 0)\n",
    "print(top_K_neighors, predicted_class)"
   ]
  },
  {
   "cell_type": "code",
   "execution_count": 16,
   "id": "20654040",
   "metadata": {},
   "outputs": [
    {
     "name": "stdout",
     "output_type": "stream",
     "text": [
      "[587 269 199 779 550 458 461 784 498 686] 0\n"
     ]
    }
   ],
   "source": [
    "top_K_neighors, predicted_class = knn_classify(test_norm[1], train_norm,10, terms_train, 1)\n",
    "print(top_K_neighors, predicted_class)"
   ]
  },
  {
   "cell_type": "markdown",
   "id": "edc99636",
   "metadata": {},
   "source": [
    "# Question 1-c"
   ]
  },
  {
   "cell_type": "markdown",
   "id": "356fdbb7",
   "metadata": {},
   "source": [
    "Create an evaluation function to measure the accuracy of your classifier. This function will call the classifier function in part a on all the test instances and in each case compares the actual test class label to the predicted class label. It should take as input the training data, the training labels, the test instances, the labels for test instances, and the value of K. Your evaluation function should return the Classification Accuracy (ratio of correct predictions to the number of test instances) [See class notes: Classification & Prediction - Review of Basic Concepts]."
   ]
  },
  {
   "cell_type": "code",
   "execution_count": 17,
   "id": "9b4fc25a",
   "metadata": {},
   "outputs": [],
   "source": [
    "def knn_evaluate(test, test_labs, train, train_labs, K, measure):\n",
    "    # Inputs:\n",
    "    # test: an array or list of test instances\n",
    "    # test_labs: an array or list of class labels for the corresponding test instances in test\n",
    "    # train: the training instances\n",
    "    # train_labs: class labels for the corresponding training instances in train\n",
    "    # K: number of neighbors\n",
    "    # measure: 0 = Euclidean distance; 1 = Cosine distance\n",
    "\n",
    "    T=0 # no. of correctly classified instances\n",
    "    F=0 # no. of incorrectly classified instances\n",
    "    for i in range(len(test)):\n",
    "        \n",
    "        actual=test_labs[i]\n",
    "        \n",
    "        top_K_neighbors, predicted = knn_classify(test[i], train, K, train_labs, measure)\n",
    "        if actual == predicted:\n",
    "            T += 1       \n",
    "        else:\n",
    "            F += 1     \n",
    "    accuracy = float(T)/float(T+F) \n",
    "    return accuracy"
   ]
  },
  {
   "cell_type": "code",
   "execution_count": 18,
   "id": "636c208c",
   "metadata": {},
   "outputs": [
    {
     "name": "stdout",
     "output_type": "stream",
     "text": [
      "KNN classification accuracy:  0.525\n"
     ]
    }
   ],
   "source": [
    "accuracy = knn_evaluate(test_norm, terms_test, train_norm, terms_train, 10, 0)\n",
    "print(\"KNN classification accuracy: \", accuracy)"
   ]
  },
  {
   "cell_type": "markdown",
   "id": "673df6c0",
   "metadata": {},
   "source": [
    "# Question 1- D"
   ]
  },
  {
   "cell_type": "markdown",
   "id": "bd20a3c3",
   "metadata": {},
   "source": [
    "Run your evaluation function on a range of values for K from 5 to 100 (in increments of 5) in order to compare accuracy values for different numbers of neighbors. Do this both using Euclidean Distance as well as Cosine similarity measure. Present the results as graphs with K in the x-axis and the evaluation metric (accuracy) on the y-axis. Use a single plot to compare the two version of the classifier (Euclidean distance version vs. cosine similarity version).\n",
    " "
   ]
  },
  {
   "cell_type": "code",
   "execution_count": 19,
   "id": "8c1f3520",
   "metadata": {},
   "outputs": [],
   "source": [
    "def incrementK(test, test_labs, train, train_labs):\n",
    "    accuracyMatrix = np.zeros([20,3])\n",
    "    index=0\n",
    "    for K in range(5, 105, 5):\n",
    "        euclidianAcc= knn_evaluate(test, test_labs, train, train_labs, K, 0)\n",
    "        cosineAcc = knn_evaluate(test, test_labs, train, train_labs, K, 1)\n",
    "        accuracyMatrix[index]= [K, euclidianAcc, cosineAcc]\n",
    "        index +=1\n",
    "    return accuracyMatrix"
   ]
  },
  {
   "cell_type": "code",
   "execution_count": 20,
   "id": "679da2db",
   "metadata": {},
   "outputs": [
    {
     "name": "stdout",
     "output_type": "stream",
     "text": [
      " 5   0.61    0.96\n",
      "10   0.53    0.96\n",
      "15   0.51    0.95\n",
      "20   0.49    0.95\n",
      "25   0.49    0.94\n",
      "30   0.49    0.94\n",
      "35   0.49    0.94\n",
      "40   0.49    0.94\n",
      "45   0.49    0.94\n",
      "50   0.49    0.94\n",
      "55   0.49    0.94\n",
      "60   0.49    0.94\n",
      "65   0.49    0.94\n",
      "70   0.49    0.94\n",
      "75   0.49    0.94\n",
      "80   0.49    0.93\n",
      "85   0.49    0.93\n",
      "90   0.49    0.94\n",
      "95   0.49    0.93\n",
      "100   0.49    0.93\n"
     ]
    }
   ],
   "source": [
    "accuracyMatrix = incrementK(test_norm, terms_test, train_norm, terms_train )\n",
    "\n",
    "for row in accuracyMatrix:\n",
    "    print(\"%2.0f   %.2f    %.2f\" % (row[0], row[1], row[2]))"
   ]
  },
  {
   "cell_type": "code",
   "execution_count": 21,
   "id": "b533d336",
   "metadata": {},
   "outputs": [],
   "source": [
    "df = pd.DataFrame(accuracyMatrix, columns = ['K', 'euclidianAcc', 'cosineAcc'])"
   ]
  },
  {
   "cell_type": "code",
   "execution_count": 22,
   "id": "58b10932",
   "metadata": {},
   "outputs": [
    {
     "data": {
      "image/png": "[encoded data removed]",
      "text/plain": [
       "<Figure size 576x360 with 1 Axes>"
      ]
     },
     "metadata": {
      "needs_background": "light"
     },
     "output_type": "display_data"
    }
   ],
   "source": [
    "plt.figure(figsize=(8,5))\n",
    "plt.plot(df['K'], df['euclidianAcc'], label =\"Euclid\")\n",
    "plt.plot(df['K'], df['cosineAcc'], label =\"Cosine\")\n",
    "plt.xlabel('K')\n",
    "plt.ylabel('Accuracy')\n",
    "plt.title(\"KNN Classifier Accurcy\")\n",
    "plt.grid(linestyle = '--')\n",
    "plt.xticks(df['K'])\n",
    "plt.legend(loc='center left', bbox_to_anchor=(1,0.5))\n",
    "plt.show()"
   ]
  },
  {
   "cell_type": "markdown",
   "id": "67bc7cf4",
   "metadata": {},
   "source": [
    "# Question 1-E"
   ]
  },
  {
   "cell_type": "markdown",
   "id": "ef61bfa0",
   "metadata": {},
   "source": [
    " Next, modify the training and test data sets so that term weights are converted to TFxIDF weights (instead of raw term frequencies). [See class notes on Text Categorization]. Then, rerun your evaluation (only for the Cosine similarity version of the classifier) on the range of K values (as above) and create a chart comparing the results with and without using TFxIDF weights."
   ]
  },
  {
   "cell_type": "code",
   "execution_count": 23,
   "id": "4186e039",
   "metadata": {},
   "outputs": [
    {
     "data": {
      "text/plain": [
       "5500"
      ]
     },
     "execution_count": 23,
     "metadata": {},
     "output_type": "execute_result"
    }
   ],
   "source": [
    "nTerms = DT_train.shape[1]\n",
    "nTerms"
   ]
  },
  {
   "cell_type": "code",
   "execution_count": 24,
   "id": "ded052e9",
   "metadata": {},
   "outputs": [
    {
     "data": {
      "text/plain": [
       "(200, 5500)"
      ]
     },
     "execution_count": 24,
     "metadata": {},
     "output_type": "execute_result"
    }
   ],
   "source": [
    "DT_test.shape"
   ]
  },
  {
   "cell_type": "code",
   "execution_count": 25,
   "id": "48a5415e",
   "metadata": {},
   "outputs": [
    {
     "data": {
      "text/plain": [
       "800"
      ]
     },
     "execution_count": 25,
     "metadata": {},
     "output_type": "execute_result"
    }
   ],
   "source": [
    "nDocs = DT_train.shape[0]\n",
    "nDocs"
   ]
  },
  {
   "cell_type": "code",
   "execution_count": 26,
   "id": "120362bc",
   "metadata": {},
   "outputs": [
    {
     "data": {
      "text/html": [
       "<div>\n",
       "<style scoped>\n",
       "    .dataframe tbody tr th:only-of-type {\n",
       "        vertical-align: middle;\n",
       "    }\n",
       "\n",
       "    .dataframe tbody tr th {\n",
       "        vertical-align: top;\n",
       "    }\n",
       "\n",
       "    .dataframe thead th {\n",
       "        text-align: right;\n",
       "    }\n",
       "</style>\n",
       "<table border=\"1\" class=\"dataframe\">\n",
       "  <thead>\n",
       "    <tr style=\"text-align: right;\">\n",
       "      <th></th>\n",
       "      <th>0</th>\n",
       "    </tr>\n",
       "  </thead>\n",
       "  <tbody>\n",
       "    <tr>\n",
       "      <th>0</th>\n",
       "      <td>50</td>\n",
       "    </tr>\n",
       "    <tr>\n",
       "      <th>1</th>\n",
       "      <td>7</td>\n",
       "    </tr>\n",
       "    <tr>\n",
       "      <th>2</th>\n",
       "      <td>10</td>\n",
       "    </tr>\n",
       "    <tr>\n",
       "      <th>3</th>\n",
       "      <td>800</td>\n",
       "    </tr>\n",
       "    <tr>\n",
       "      <th>4</th>\n",
       "      <td>108</td>\n",
       "    </tr>\n",
       "    <tr>\n",
       "      <th>...</th>\n",
       "      <td>...</td>\n",
       "    </tr>\n",
       "    <tr>\n",
       "      <th>5495</th>\n",
       "      <td>3</td>\n",
       "    </tr>\n",
       "    <tr>\n",
       "      <th>5496</th>\n",
       "      <td>3</td>\n",
       "    </tr>\n",
       "    <tr>\n",
       "      <th>5497</th>\n",
       "      <td>2</td>\n",
       "    </tr>\n",
       "    <tr>\n",
       "      <th>5498</th>\n",
       "      <td>2</td>\n",
       "    </tr>\n",
       "    <tr>\n",
       "      <th>5499</th>\n",
       "      <td>2</td>\n",
       "    </tr>\n",
       "  </tbody>\n",
       "</table>\n",
       "<p>5500 rows × 1 columns</p>\n",
       "</div>"
      ],
      "text/plain": [
       "        0\n",
       "0      50\n",
       "1       7\n",
       "2      10\n",
       "3     800\n",
       "4     108\n",
       "...   ...\n",
       "5495    3\n",
       "5496    3\n",
       "5497    2\n",
       "5498    2\n",
       "5499    2\n",
       "\n",
       "[5500 rows x 1 columns]"
      ]
     },
     "execution_count": 26,
     "metadata": {},
     "output_type": "execute_result"
    }
   ],
   "source": [
    "# first let's find the doc counts for each term\n",
    "doc_terms = pd.DataFrame([(DT_train.T!=0).sum(1)]).T\n",
    "doc_terms"
   ]
  },
  {
   "cell_type": "code",
   "execution_count": 27,
   "id": "4ab0d3db",
   "metadata": {},
   "outputs": [
    {
     "name": "stdout",
     "output_type": "stream",
     "text": [
      "[[800. 800. 800. ... 800. 800. 800.]\n",
      " [800. 800. 800. ... 800. 800. 800.]\n",
      " [800. 800. 800. ... 800. 800. 800.]\n",
      " ...\n",
      " [800. 800. 800. ... 800. 800. 800.]\n",
      " [800. 800. 800. ... 800. 800. 800.]\n",
      " [800. 800. 800. ... 800. 800. 800.]]\n"
     ]
    }
   ],
   "source": [
    "#create matrix with all entries = NDocs for Training data \n",
    "NMatrix = np.ones(np.shape(DT_train.T), dtype=float)*nDocs\n",
    "np.set_printoptions(precision=2,suppress=True,linewidth=120)\n",
    "print(NMatrix)"
   ]
  },
  {
   "cell_type": "code",
   "execution_count": 28,
   "id": "55733234",
   "metadata": {},
   "outputs": [
    {
     "name": "stdout",
     "output_type": "stream",
     "text": [
      "[[4.   4.   4.   ... 4.   4.   4.  ]\n",
      " [6.84 6.84 6.84 ... 6.84 6.84 6.84]\n",
      " [6.32 6.32 6.32 ... 6.32 6.32 6.32]\n",
      " [0.   0.   0.   ... 0.   0.   0.  ]\n",
      " [2.89 2.89 2.89 ... 2.89 2.89 2.89]]\n"
     ]
    }
   ],
   "source": [
    "#Convert each entry into IDF values\n",
    "#First: Divide the NMatrix by numpy array train_df and same for test data\n",
    "#Second: get log2 of the output\n",
    "IDF = np.log2(np.divide(NMatrix, np.array(doc_terms)))\n",
    "print(IDF[0:5])\n"
   ]
  },
  {
   "cell_type": "code",
   "execution_count": 29,
   "id": "6c598b75",
   "metadata": {},
   "outputs": [
    {
     "data": {
      "text/plain": [
       "array([[ 8.  ,  0.  ,  0.  , ...,  0.  ,  0.  ,  0.  ],\n",
       "       [13.67,  0.  ,  0.  , ...,  0.  ,  0.  ,  0.  ],\n",
       "       [12.64,  0.  ,  0.  , ...,  0.  ,  0.  ,  0.  ],\n",
       "       ...,\n",
       "       [ 0.  ,  0.  ,  0.  , ...,  0.  ,  0.  ,  0.  ],\n",
       "       [ 0.  ,  0.  ,  0.  , ...,  0.  ,  0.  ,  0.  ],\n",
       "       [ 0.  ,  0.  ,  0.  , ...,  0.  ,  0.  ,  0.  ]])"
      ]
     },
     "execution_count": 29,
     "metadata": {},
     "output_type": "execute_result"
    }
   ],
   "source": [
    "#Compute TF*IDF for test and train data\n",
    "TD_tfidf = DT_train.T * IDF\n",
    "pd.set_option(\"display.precision\", 2)\n",
    "TD_tfidf"
   ]
  },
  {
   "cell_type": "code",
   "execution_count": 30,
   "id": "afd6a02a",
   "metadata": {},
   "outputs": [
    {
     "data": {
      "text/plain": [
       "array([[ 8.  , 13.67, 12.64, ...,  0.  ,  0.  ,  0.  ],\n",
       "       [ 0.  ,  0.  ,  0.  , ...,  0.  ,  0.  ,  0.  ],\n",
       "       [ 0.  ,  0.  ,  0.  , ...,  0.  ,  0.  ,  0.  ],\n",
       "       ...,\n",
       "       [ 0.  ,  0.  ,  0.  , ...,  0.  ,  0.  ,  0.  ],\n",
       "       [ 0.  ,  0.  ,  0.  , ...,  0.  ,  0.  ,  0.  ],\n",
       "       [ 0.  ,  0.  ,  0.  , ...,  0.  ,  0.  ,  0.  ]])"
      ]
     },
     "execution_count": 30,
     "metadata": {},
     "output_type": "execute_result"
    }
   ],
   "source": [
    "#The Knn functions require numpy arrays and document by term\n",
    "DT_tfidf = TD_tfidf.T\n",
    "dtm_train_idf = np.array(DT_tfidf)\n",
    "dtm_train_idf"
   ]
  },
  {
   "cell_type": "code",
   "execution_count": 31,
   "id": "7f1f7195",
   "metadata": {},
   "outputs": [],
   "source": [
    "def Knn_Cosine_IncrementK(test, test_labs, train, train_labs):\n",
    "    accuracyMatrix = np.zeros([20,2])\n",
    "    index=0\n",
    "    for K in range(5, 105, 5):\n",
    "        for i in range(len(test)):\n",
    "            x_IDF_Test= test[i] * IDF.T[i]\n",
    "            cosineAcc = knn_evaluate(x_IDF_Test, test_labs, train, train_labs, K, 1)\n",
    "            accuracyMatrix[index]= [K, cosineAcc]\n",
    "            index +=1\n",
    "    return accuracyMatrix"
   ]
  },
  {
   "cell_type": "code",
   "execution_count": 32,
   "id": "e7895883",
   "metadata": {},
   "outputs": [
    {
     "data": {
      "text/plain": [
       "(200, 5500)"
      ]
     },
     "execution_count": 32,
     "metadata": {},
     "output_type": "execute_result"
    }
   ],
   "source": [
    "dt_test = np.array(DT_test)\n",
    "dt_test.shape"
   ]
  },
  {
   "cell_type": "code",
   "execution_count": 33,
   "id": "100ff7a1",
   "metadata": {},
   "outputs": [],
   "source": [
    "def knn_evaluate_idf(test_data, test_labels, train_data, train_labels, K, measure):\n",
    "    correct=0 # no. of correctly classified instances\n",
    "    total = len(test_data)\n",
    "    for i in range(total):\n",
    "        x_tfidf = test_data[i] * IDF.T[i]\n",
    "        top_K_neighbors, predicted = knn_classify(x_tfidf, train_data, K, train_labels, measure)\n",
    "        if(test_labels[i] == predicted):\n",
    "            correct += 1       \n",
    "         \n",
    "    accuracy = correct/total\n",
    "    return accuracy"
   ]
  },
  {
   "cell_type": "code",
   "execution_count": 34,
   "id": "cf3c5ff1",
   "metadata": {},
   "outputs": [
    {
     "name": "stdout",
     "output_type": "stream",
     "text": [
      "0.99\n",
      "CPU times: user 22.2 s, sys: 638 ms, total: 22.8 s\n",
      "Wall time: 13.1 s\n"
     ]
    }
   ],
   "source": [
    "%%time\n",
    "cosine=(knn_evaluate_idf(dt_test,  terms_test, dtm_train_idf, terms_train, 10, 1))\n",
    "print(cosine)"
   ]
  },
  {
   "cell_type": "code",
   "execution_count": 35,
   "id": "48206358",
   "metadata": {},
   "outputs": [],
   "source": [
    "cosine_idf =[]\n",
    "for K in range(5, 101, 5):\n",
    "    cosine_idf.append(knn_evaluate_idf(dt_test,  terms_test, dtm_train_idf, terms_train, K, 1))"
   ]
  },
  {
   "cell_type": "code",
   "execution_count": 36,
   "id": "9fb2c1b2",
   "metadata": {},
   "outputs": [
    {
     "data": {
      "image/png": "[encoded data removed]",
      "text/plain": [
       "<Figure size 432x288 with 1 Axes>"
      ]
     },
     "metadata": {
      "needs_background": "light"
     },
     "output_type": "display_data"
    }
   ],
   "source": [
    "x = accuracyMatrix[:,0]\n",
    "cosine= accuracyMatrix[:,2]\n",
    "cosine_reg= accuracyMatrix[2]\n",
    "plt.plot(x, cosine, label =\"Cosine Distance\", marker =\"s\")\n",
    "plt.plot(x, cosine_idf, label =\"Cosine IDF Distance\", marker =\"s\")\n",
    "\n",
    "plt.xlabel('K')\n",
    "plt.ylabel('Accuracy')\n",
    "plt.title('KNN Accuracy vs. K for Cosine Distance (TD-IDF)')\n",
    "plt.legend(loc=\"best\")\n",
    "plt.show()"
   ]
  },
  {
   "cell_type": "markdown",
   "id": "550e75b6",
   "metadata": {},
   "source": [
    "Comparing the two Cosine Distributions above, we can say that the IDF weighted has higher accuracy than KNN without IDf by about 4-5% on average. "
   ]
  },
  {
   "cell_type": "markdown",
   "id": "25ca0c04",
   "metadata": {},
   "source": [
    "## Question 1 E"
   ]
  },
  {
   "cell_type": "markdown",
   "id": "133018f0",
   "metadata": {},
   "source": [
    "Create a new classifier based on the Rocchio Method (also know as the \"nearest centroid\" method) adapted for text categorization [See class notes on Text Categorization]. You should separate the training function from the classification function. The training part for the classifier can be implemented as a function that takes as input the training data matrix and the training labels, returning the prototype vectors for each class. The classification part can be implemented as another function that would take as input the prototypes returned from the training function and the instance to be classified. This function should measure Cosine similarity of the test instance to each prototype vector. Your output should indicate the predicted class for the test instance and the similarity values of the instance to each of the category prototypes.  Finally, use your evaluation function to compare your results to the best KNN results you obtained in part d. [Note: your functions should work regardless of the number of categories (class labels) and should not be limited to two-class categorization scenario. The number of classes should not be hardcoded in your implementat"
   ]
  },
  {
   "cell_type": "code",
   "execution_count": 37,
   "id": "2e969310",
   "metadata": {},
   "outputs": [],
   "source": [
    "# Creating the training function separate from the classification function \n",
    "# that takes as input training data matrix and labels.\n",
    "# Based on description in lecture slides.\n",
    "# Couldn't get the entire part of this problem to work as I wasn't able to find anything online or in the example code that could help me in fixing my errors\n",
    "# In the future I will make a greater effort to do more research for methods not in the example code\n",
    "def rocchio_training(train_data, train_labels):\n",
    "    numClass = np.unique(train_labels)\n",
    "    prototypeVector = {}\n",
    "    \n",
    "    # For each class we want to get all of the indexes that match our class then get the rows that pertain to each matched class.\n",
    "    # Then we add up the rows to get the prototype and add it to our prototype vector\n",
    "    for (i, cls) in enumerate(numClass):\n",
    "        indexes = np.array(train_labels.index[train_labels.iloc[:, 0] == cls])\n",
    "        rows = train_data[indexes]\n",
    "        prototype = np.sum(rows, axis=0)\n",
    "        prototypeVector.update({i : prototype})\n",
    "        \n",
    "    return prototypeVector"
   ]
  },
  {
   "cell_type": "code",
   "execution_count": 38,
   "id": "61ac3251",
   "metadata": {},
   "outputs": [],
   "source": [
    "from numpy import dot\n",
    "from numpy.linalg import norm"
   ]
  },
  {
   "cell_type": "code",
   "execution_count": 39,
   "id": "a087c0e4",
   "metadata": {},
   "outputs": [],
   "source": [
    "def rocchio_classification(prototypes, instance):\n",
    "    cosineMax = -1\n",
    "    proto = -1\n",
    "    \n",
    "    # get cosine similarity between prototype and instance then update the cosineMax if greater than current max.\n",
    "    # Also update the prototype if the cosineMax is updated.\n",
    "    for k, v in prototypes.items():\n",
    "        cosine = dot(instance, v)/(norm(instance)*norm(v))\n",
    "        if cosine > cosineMax:\n",
    "            cosineMac = cosine\n",
    "            proto = k\n",
    "    return proto"
   ]
  },
  {
   "cell_type": "code",
   "execution_count": 40,
   "id": "9a9c445a",
   "metadata": {},
   "outputs": [],
   "source": [
    "# Function to compute the classification accuracy using the test instances\n",
    "def rocchio_compute(data, labels, prototypes):\n",
    "    total = len(data)\n",
    "    corr = 0\n",
    "    \n",
    "    for i in range(total):\n",
    "        label = rocchio_classification(prototypes, data[i])\n",
    "\n",
    "        if label == labels[i]:\n",
    "            corr += 1\n",
    "    print(\"Correct: {}, Total: {}\".format(corr, total))\n",
    "    return corr/total"
   ]
  },
  {
   "cell_type": "code",
   "execution_count": 41,
   "id": "c1bfc33f",
   "metadata": {},
   "outputs": [],
   "source": [
    "prototypes = rocchio_training(DT_train, trainlables)"
   ]
  },
  {
   "cell_type": "code",
   "execution_count": 42,
   "id": "5b3d8230",
   "metadata": {},
   "outputs": [
    {
     "name": "stdout",
     "output_type": "stream",
     "text": [
      "Correct: 101, Total: 200\n"
     ]
    },
    {
     "data": {
      "text/plain": [
       "0.505"
      ]
     },
     "execution_count": 42,
     "metadata": {},
     "output_type": "execute_result"
    }
   ],
   "source": [
    "rocchio_compute(DT_test, terms_test, prototypes)"
   ]
  },
  {
   "cell_type": "code",
   "execution_count": 43,
   "id": "92ac1a1f",
   "metadata": {},
   "outputs": [],
   "source": [
    "prototypes_idf = rocchio_training(dtm_train_idf, trainlables)"
   ]
  },
  {
   "cell_type": "code",
   "execution_count": 44,
   "id": "29f032d5",
   "metadata": {},
   "outputs": [],
   "source": [
    "def rocchio_evaluate_idf(data, labels, prototypes):\n",
    "    total = len(data)\n",
    "    correct = 0\n",
    "    \n",
    "    for i in range(len(data)):\n",
    "        x_tfidf = data[i] * IDF.T[i]\n",
    "        label = rocchio_classification(prototypes, x_tfidf)\n",
    "        if label == labels[i]:\n",
    "            correct +=1\n",
    "    print(\"Correct: {}, Total: {}\".format(correct, total))\n",
    "    return correct/total\n"
   ]
  },
  {
   "cell_type": "code",
   "execution_count": 45,
   "id": "bde4f146",
   "metadata": {},
   "outputs": [
    {
     "name": "stdout",
     "output_type": "stream",
     "text": [
      "Correct: 101, Total: 200\n"
     ]
    },
    {
     "data": {
      "text/plain": [
       "0.505"
      ]
     },
     "execution_count": 45,
     "metadata": {},
     "output_type": "execute_result"
    }
   ],
   "source": [
    "rocchio_evaluate_idf(DT_test, terms_test, prototypes_idf)"
   ]
  },
  {
   "cell_type": "markdown",
   "id": "095b0bdb",
   "metadata": {},
   "source": [
    "# Qestion 1-G"
   ]
  },
  {
   "cell_type": "markdown",
   "id": "89255f84",
   "metadata": {},
   "source": [
    "Using scikit-learn's Nearest Centroid classifier to perform classification of the test instances, as in the previous part. Compare the classification accuracy of your Rocchio implementation to the classification results using scikit-learn."
   ]
  },
  {
   "cell_type": "code",
   "execution_count": 46,
   "id": "7a375332",
   "metadata": {},
   "outputs": [
    {
     "name": "stderr",
     "output_type": "stream",
     "text": [
      "/Users/vinodpatel/opt/anaconda3/lib/python3.9/site-packages/sklearn/utils/validation.py:63: DataConversionWarning: A column-vector y was passed when a 1d array was expected. Please change the shape of y to (n_samples, ), for example using ravel().\n",
      "  return f(*args, **kwargs)\n"
     ]
    },
    {
     "data": {
      "text/plain": [
       "NearestCentroid()"
      ]
     },
     "execution_count": 46,
     "metadata": {},
     "output_type": "execute_result"
    }
   ],
   "source": [
    "from sklearn.neighbors import NearestCentroid\n",
    "clf = NearestCentroid()\n",
    "clf.fit(DT_train, trainlables)\n",
    "NearestCentroid()"
   ]
  },
  {
   "cell_type": "code",
   "execution_count": 47,
   "id": "261b9223",
   "metadata": {},
   "outputs": [],
   "source": [
    "prediction = clf.predict(DT_test)"
   ]
  },
  {
   "cell_type": "code",
   "execution_count": 48,
   "id": "41a349df",
   "metadata": {},
   "outputs": [
    {
     "name": "stdout",
     "output_type": "stream",
     "text": [
      "0.94\n"
     ]
    }
   ],
   "source": [
    "accuracy = clf.score(DT_test, testlables)\n",
    "print(accuracy)"
   ]
  },
  {
   "cell_type": "markdown",
   "id": "060cfbe7",
   "metadata": {},
   "source": [
    "The best KNN score I got was 100% when K=20 and using KNN Cosine Distance IDF. The average for KNN Cosine Distance IDF was about 99%. Rocchio did not predict well, however it was faster compared to KNN."
   ]
  },
  {
   "cell_type": "markdown",
   "id": "1ced19a7",
   "metadata": {},
   "source": [
    "# Question 2 A"
   ]
  },
  {
   "cell_type": "markdown",
   "id": "d6545b77",
   "metadata": {},
   "source": [
    "Load the data into a Pandas dataframe. Create dummy variables for the categorical attributes so that the data set is fully numeric. Then separate the attribute (\"income_>50K\") from the remaining attributes; this will be used as the target attribute for classification.  [Note: you need to drop \"income_<=50K\" which is also created as a dummy variable in earlier step]. Finally, split the transformed data into training and test sets (using 80%-20% randomized split). Note: use the train_test_split function from the sklearn.model_selection module with random_state = 111 to perform the split."
   ]
  },
  {
   "cell_type": "code",
   "execution_count": 49,
   "id": "c08a4096",
   "metadata": {},
   "outputs": [],
   "source": [
    "adult_df = pd.read_csv(\"/Users/vinodpatel/Desktop/DePaul/DSC 478 Programming machine learning/Untitled Folder/adult-modified (1).csv\")"
   ]
  },
  {
   "cell_type": "code",
   "execution_count": 50,
   "id": "85a60b50",
   "metadata": {},
   "outputs": [
    {
     "data": {
      "text/html": [
       "<div>\n",
       "<style scoped>\n",
       "    .dataframe tbody tr th:only-of-type {\n",
       "        vertical-align: middle;\n",
       "    }\n",
       "\n",
       "    .dataframe tbody tr th {\n",
       "        vertical-align: top;\n",
       "    }\n",
       "\n",
       "    .dataframe thead th {\n",
       "        text-align: right;\n",
       "    }\n",
       "</style>\n",
       "<table border=\"1\" class=\"dataframe\">\n",
       "  <thead>\n",
       "    <tr style=\"text-align: right;\">\n",
       "      <th></th>\n",
       "      <th>age</th>\n",
       "      <th>workclass</th>\n",
       "      <th>education</th>\n",
       "      <th>marital-status</th>\n",
       "      <th>race</th>\n",
       "      <th>sex</th>\n",
       "      <th>hours-per-week</th>\n",
       "      <th>income</th>\n",
       "    </tr>\n",
       "  </thead>\n",
       "  <tbody>\n",
       "    <tr>\n",
       "      <th>0</th>\n",
       "      <td>39</td>\n",
       "      <td>Public</td>\n",
       "      <td>13</td>\n",
       "      <td>Single</td>\n",
       "      <td>White</td>\n",
       "      <td>Male</td>\n",
       "      <td>40</td>\n",
       "      <td>&lt;=50K</td>\n",
       "    </tr>\n",
       "    <tr>\n",
       "      <th>1</th>\n",
       "      <td>50</td>\n",
       "      <td>Self-emp</td>\n",
       "      <td>13</td>\n",
       "      <td>Married</td>\n",
       "      <td>White</td>\n",
       "      <td>Male</td>\n",
       "      <td>13</td>\n",
       "      <td>&lt;=50K</td>\n",
       "    </tr>\n",
       "    <tr>\n",
       "      <th>2</th>\n",
       "      <td>38</td>\n",
       "      <td>Private</td>\n",
       "      <td>9</td>\n",
       "      <td>Single</td>\n",
       "      <td>White</td>\n",
       "      <td>Male</td>\n",
       "      <td>40</td>\n",
       "      <td>&lt;=50K</td>\n",
       "    </tr>\n",
       "    <tr>\n",
       "      <th>3</th>\n",
       "      <td>53</td>\n",
       "      <td>Private</td>\n",
       "      <td>7</td>\n",
       "      <td>Married</td>\n",
       "      <td>Black</td>\n",
       "      <td>Male</td>\n",
       "      <td>40</td>\n",
       "      <td>&lt;=50K</td>\n",
       "    </tr>\n",
       "    <tr>\n",
       "      <th>4</th>\n",
       "      <td>28</td>\n",
       "      <td>Private</td>\n",
       "      <td>13</td>\n",
       "      <td>Married</td>\n",
       "      <td>Black</td>\n",
       "      <td>Female</td>\n",
       "      <td>40</td>\n",
       "      <td>&lt;=50K</td>\n",
       "    </tr>\n",
       "  </tbody>\n",
       "</table>\n",
       "</div>"
      ],
      "text/plain": [
       "   age workclass  education marital-status   race     sex  hours-per-week  \\\n",
       "0   39    Public         13         Single  White    Male              40   \n",
       "1   50  Self-emp         13        Married  White    Male              13   \n",
       "2   38   Private          9         Single  White    Male              40   \n",
       "3   53   Private          7        Married  Black    Male              40   \n",
       "4   28   Private         13        Married  Black  Female              40   \n",
       "\n",
       "  income  \n",
       "0  <=50K  \n",
       "1  <=50K  \n",
       "2  <=50K  \n",
       "3  <=50K  \n",
       "4  <=50K  "
      ]
     },
     "execution_count": 50,
     "metadata": {},
     "output_type": "execute_result"
    }
   ],
   "source": [
    "adult_df.head()"
   ]
  },
  {
   "cell_type": "code",
   "execution_count": 51,
   "id": "428d1655",
   "metadata": {},
   "outputs": [
    {
     "data": {
      "text/html": [
       "<div>\n",
       "<style scoped>\n",
       "    .dataframe tbody tr th:only-of-type {\n",
       "        vertical-align: middle;\n",
       "    }\n",
       "\n",
       "    .dataframe tbody tr th {\n",
       "        vertical-align: top;\n",
       "    }\n",
       "\n",
       "    .dataframe thead th {\n",
       "        text-align: right;\n",
       "    }\n",
       "</style>\n",
       "<table border=\"1\" class=\"dataframe\">\n",
       "  <thead>\n",
       "    <tr style=\"text-align: right;\">\n",
       "      <th></th>\n",
       "      <th>age</th>\n",
       "      <th>education</th>\n",
       "      <th>hours-per-week</th>\n",
       "      <th>workclass_Private</th>\n",
       "      <th>workclass_Public</th>\n",
       "      <th>workclass_Self-emp</th>\n",
       "      <th>marital-status_Married</th>\n",
       "      <th>marital-status_Single</th>\n",
       "      <th>race_Amer-Indian</th>\n",
       "      <th>race_Asian</th>\n",
       "      <th>race_Black</th>\n",
       "      <th>race_Hispanic</th>\n",
       "      <th>race_White</th>\n",
       "      <th>sex_Female</th>\n",
       "      <th>sex_Male</th>\n",
       "      <th>income_&lt;=50K</th>\n",
       "      <th>income_&gt;50K</th>\n",
       "    </tr>\n",
       "  </thead>\n",
       "  <tbody>\n",
       "    <tr>\n",
       "      <th>0</th>\n",
       "      <td>39</td>\n",
       "      <td>13</td>\n",
       "      <td>40</td>\n",
       "      <td>0</td>\n",
       "      <td>1</td>\n",
       "      <td>0</td>\n",
       "      <td>0</td>\n",
       "      <td>1</td>\n",
       "      <td>0</td>\n",
       "      <td>0</td>\n",
       "      <td>0</td>\n",
       "      <td>0</td>\n",
       "      <td>1</td>\n",
       "      <td>0</td>\n",
       "      <td>1</td>\n",
       "      <td>1</td>\n",
       "      <td>0</td>\n",
       "    </tr>\n",
       "    <tr>\n",
       "      <th>1</th>\n",
       "      <td>50</td>\n",
       "      <td>13</td>\n",
       "      <td>13</td>\n",
       "      <td>0</td>\n",
       "      <td>0</td>\n",
       "      <td>1</td>\n",
       "      <td>1</td>\n",
       "      <td>0</td>\n",
       "      <td>0</td>\n",
       "      <td>0</td>\n",
       "      <td>0</td>\n",
       "      <td>0</td>\n",
       "      <td>1</td>\n",
       "      <td>0</td>\n",
       "      <td>1</td>\n",
       "      <td>1</td>\n",
       "      <td>0</td>\n",
       "    </tr>\n",
       "    <tr>\n",
       "      <th>2</th>\n",
       "      <td>38</td>\n",
       "      <td>9</td>\n",
       "      <td>40</td>\n",
       "      <td>1</td>\n",
       "      <td>0</td>\n",
       "      <td>0</td>\n",
       "      <td>0</td>\n",
       "      <td>1</td>\n",
       "      <td>0</td>\n",
       "      <td>0</td>\n",
       "      <td>0</td>\n",
       "      <td>0</td>\n",
       "      <td>1</td>\n",
       "      <td>0</td>\n",
       "      <td>1</td>\n",
       "      <td>1</td>\n",
       "      <td>0</td>\n",
       "    </tr>\n",
       "    <tr>\n",
       "      <th>3</th>\n",
       "      <td>53</td>\n",
       "      <td>7</td>\n",
       "      <td>40</td>\n",
       "      <td>1</td>\n",
       "      <td>0</td>\n",
       "      <td>0</td>\n",
       "      <td>1</td>\n",
       "      <td>0</td>\n",
       "      <td>0</td>\n",
       "      <td>0</td>\n",
       "      <td>1</td>\n",
       "      <td>0</td>\n",
       "      <td>0</td>\n",
       "      <td>0</td>\n",
       "      <td>1</td>\n",
       "      <td>1</td>\n",
       "      <td>0</td>\n",
       "    </tr>\n",
       "    <tr>\n",
       "      <th>4</th>\n",
       "      <td>28</td>\n",
       "      <td>13</td>\n",
       "      <td>40</td>\n",
       "      <td>1</td>\n",
       "      <td>0</td>\n",
       "      <td>0</td>\n",
       "      <td>1</td>\n",
       "      <td>0</td>\n",
       "      <td>0</td>\n",
       "      <td>0</td>\n",
       "      <td>1</td>\n",
       "      <td>0</td>\n",
       "      <td>0</td>\n",
       "      <td>1</td>\n",
       "      <td>0</td>\n",
       "      <td>1</td>\n",
       "      <td>0</td>\n",
       "    </tr>\n",
       "  </tbody>\n",
       "</table>\n",
       "</div>"
      ],
      "text/plain": [
       "   age  education  hours-per-week  workclass_Private  workclass_Public  \\\n",
       "0   39         13              40                  0                 1   \n",
       "1   50         13              13                  0                 0   \n",
       "2   38          9              40                  1                 0   \n",
       "3   53          7              40                  1                 0   \n",
       "4   28         13              40                  1                 0   \n",
       "\n",
       "   workclass_Self-emp  marital-status_Married  marital-status_Single  \\\n",
       "0                   0                       0                      1   \n",
       "1                   1                       1                      0   \n",
       "2                   0                       0                      1   \n",
       "3                   0                       1                      0   \n",
       "4                   0                       1                      0   \n",
       "\n",
       "   race_Amer-Indian  race_Asian  race_Black  race_Hispanic  race_White  \\\n",
       "0                 0           0           0              0           1   \n",
       "1                 0           0           0              0           1   \n",
       "2                 0           0           0              0           1   \n",
       "3                 0           0           1              0           0   \n",
       "4                 0           0           1              0           0   \n",
       "\n",
       "   sex_Female  sex_Male  income_<=50K  income_>50K  \n",
       "0           0         1             1            0  \n",
       "1           0         1             1            0  \n",
       "2           0         1             1            0  \n",
       "3           0         1             1            0  \n",
       "4           1         0             1            0  "
      ]
     },
     "execution_count": 51,
     "metadata": {},
     "output_type": "execute_result"
    }
   ],
   "source": [
    "adult_num = pd.get_dummies(adult_df)\n",
    "adult_num.head()"
   ]
  },
  {
   "cell_type": "code",
   "execution_count": 52,
   "id": "ce7f6d82",
   "metadata": {},
   "outputs": [
    {
     "data": {
      "text/plain": [
       "0       0\n",
       "1       0\n",
       "2       0\n",
       "3       0\n",
       "4       0\n",
       "       ..\n",
       "9407    1\n",
       "9408    0\n",
       "9409    0\n",
       "9410    0\n",
       "9411    0\n",
       "Name: income_>50K, Length: 9412, dtype: uint8"
      ]
     },
     "execution_count": 52,
     "metadata": {},
     "output_type": "execute_result"
    }
   ],
   "source": [
    "#Getting the income>50K as tatget variable\n",
    "adult_target = adult_num.iloc[:,-1]\n",
    "adult_target"
   ]
  },
  {
   "cell_type": "code",
   "execution_count": 53,
   "id": "51a5f8e7",
   "metadata": {},
   "outputs": [
    {
     "data": {
      "text/html": [
       "<div>\n",
       "<style scoped>\n",
       "    .dataframe tbody tr th:only-of-type {\n",
       "        vertical-align: middle;\n",
       "    }\n",
       "\n",
       "    .dataframe tbody tr th {\n",
       "        vertical-align: top;\n",
       "    }\n",
       "\n",
       "    .dataframe thead th {\n",
       "        text-align: right;\n",
       "    }\n",
       "</style>\n",
       "<table border=\"1\" class=\"dataframe\">\n",
       "  <thead>\n",
       "    <tr style=\"text-align: right;\">\n",
       "      <th></th>\n",
       "      <th>age</th>\n",
       "      <th>education</th>\n",
       "      <th>hours-per-week</th>\n",
       "      <th>workclass_Private</th>\n",
       "      <th>workclass_Public</th>\n",
       "      <th>workclass_Self-emp</th>\n",
       "      <th>marital-status_Married</th>\n",
       "      <th>marital-status_Single</th>\n",
       "      <th>race_Amer-Indian</th>\n",
       "      <th>race_Asian</th>\n",
       "      <th>race_Black</th>\n",
       "      <th>race_Hispanic</th>\n",
       "      <th>race_White</th>\n",
       "      <th>sex_Female</th>\n",
       "      <th>sex_Male</th>\n",
       "    </tr>\n",
       "  </thead>\n",
       "  <tbody>\n",
       "    <tr>\n",
       "      <th>0</th>\n",
       "      <td>39</td>\n",
       "      <td>13</td>\n",
       "      <td>40</td>\n",
       "      <td>0</td>\n",
       "      <td>1</td>\n",
       "      <td>0</td>\n",
       "      <td>0</td>\n",
       "      <td>1</td>\n",
       "      <td>0</td>\n",
       "      <td>0</td>\n",
       "      <td>0</td>\n",
       "      <td>0</td>\n",
       "      <td>1</td>\n",
       "      <td>0</td>\n",
       "      <td>1</td>\n",
       "    </tr>\n",
       "    <tr>\n",
       "      <th>1</th>\n",
       "      <td>50</td>\n",
       "      <td>13</td>\n",
       "      <td>13</td>\n",
       "      <td>0</td>\n",
       "      <td>0</td>\n",
       "      <td>1</td>\n",
       "      <td>1</td>\n",
       "      <td>0</td>\n",
       "      <td>0</td>\n",
       "      <td>0</td>\n",
       "      <td>0</td>\n",
       "      <td>0</td>\n",
       "      <td>1</td>\n",
       "      <td>0</td>\n",
       "      <td>1</td>\n",
       "    </tr>\n",
       "    <tr>\n",
       "      <th>2</th>\n",
       "      <td>38</td>\n",
       "      <td>9</td>\n",
       "      <td>40</td>\n",
       "      <td>1</td>\n",
       "      <td>0</td>\n",
       "      <td>0</td>\n",
       "      <td>0</td>\n",
       "      <td>1</td>\n",
       "      <td>0</td>\n",
       "      <td>0</td>\n",
       "      <td>0</td>\n",
       "      <td>0</td>\n",
       "      <td>1</td>\n",
       "      <td>0</td>\n",
       "      <td>1</td>\n",
       "    </tr>\n",
       "    <tr>\n",
       "      <th>3</th>\n",
       "      <td>53</td>\n",
       "      <td>7</td>\n",
       "      <td>40</td>\n",
       "      <td>1</td>\n",
       "      <td>0</td>\n",
       "      <td>0</td>\n",
       "      <td>1</td>\n",
       "      <td>0</td>\n",
       "      <td>0</td>\n",
       "      <td>0</td>\n",
       "      <td>1</td>\n",
       "      <td>0</td>\n",
       "      <td>0</td>\n",
       "      <td>0</td>\n",
       "      <td>1</td>\n",
       "    </tr>\n",
       "    <tr>\n",
       "      <th>4</th>\n",
       "      <td>28</td>\n",
       "      <td>13</td>\n",
       "      <td>40</td>\n",
       "      <td>1</td>\n",
       "      <td>0</td>\n",
       "      <td>0</td>\n",
       "      <td>1</td>\n",
       "      <td>0</td>\n",
       "      <td>0</td>\n",
       "      <td>0</td>\n",
       "      <td>1</td>\n",
       "      <td>0</td>\n",
       "      <td>0</td>\n",
       "      <td>1</td>\n",
       "      <td>0</td>\n",
       "    </tr>\n",
       "    <tr>\n",
       "      <th>...</th>\n",
       "      <td>...</td>\n",
       "      <td>...</td>\n",
       "      <td>...</td>\n",
       "      <td>...</td>\n",
       "      <td>...</td>\n",
       "      <td>...</td>\n",
       "      <td>...</td>\n",
       "      <td>...</td>\n",
       "      <td>...</td>\n",
       "      <td>...</td>\n",
       "      <td>...</td>\n",
       "      <td>...</td>\n",
       "      <td>...</td>\n",
       "      <td>...</td>\n",
       "      <td>...</td>\n",
       "    </tr>\n",
       "    <tr>\n",
       "      <th>9407</th>\n",
       "      <td>38</td>\n",
       "      <td>10</td>\n",
       "      <td>60</td>\n",
       "      <td>1</td>\n",
       "      <td>0</td>\n",
       "      <td>0</td>\n",
       "      <td>1</td>\n",
       "      <td>0</td>\n",
       "      <td>0</td>\n",
       "      <td>0</td>\n",
       "      <td>0</td>\n",
       "      <td>0</td>\n",
       "      <td>1</td>\n",
       "      <td>0</td>\n",
       "      <td>1</td>\n",
       "    </tr>\n",
       "    <tr>\n",
       "      <th>9408</th>\n",
       "      <td>25</td>\n",
       "      <td>9</td>\n",
       "      <td>8</td>\n",
       "      <td>1</td>\n",
       "      <td>0</td>\n",
       "      <td>0</td>\n",
       "      <td>0</td>\n",
       "      <td>1</td>\n",
       "      <td>0</td>\n",
       "      <td>0</td>\n",
       "      <td>0</td>\n",
       "      <td>0</td>\n",
       "      <td>1</td>\n",
       "      <td>1</td>\n",
       "      <td>0</td>\n",
       "    </tr>\n",
       "    <tr>\n",
       "      <th>9409</th>\n",
       "      <td>21</td>\n",
       "      <td>10</td>\n",
       "      <td>40</td>\n",
       "      <td>1</td>\n",
       "      <td>0</td>\n",
       "      <td>0</td>\n",
       "      <td>0</td>\n",
       "      <td>1</td>\n",
       "      <td>0</td>\n",
       "      <td>0</td>\n",
       "      <td>1</td>\n",
       "      <td>0</td>\n",
       "      <td>0</td>\n",
       "      <td>0</td>\n",
       "      <td>1</td>\n",
       "    </tr>\n",
       "    <tr>\n",
       "      <th>9410</th>\n",
       "      <td>38</td>\n",
       "      <td>2</td>\n",
       "      <td>53</td>\n",
       "      <td>1</td>\n",
       "      <td>0</td>\n",
       "      <td>0</td>\n",
       "      <td>1</td>\n",
       "      <td>0</td>\n",
       "      <td>0</td>\n",
       "      <td>0</td>\n",
       "      <td>0</td>\n",
       "      <td>0</td>\n",
       "      <td>1</td>\n",
       "      <td>0</td>\n",
       "      <td>1</td>\n",
       "    </tr>\n",
       "    <tr>\n",
       "      <th>9411</th>\n",
       "      <td>39</td>\n",
       "      <td>10</td>\n",
       "      <td>40</td>\n",
       "      <td>1</td>\n",
       "      <td>0</td>\n",
       "      <td>0</td>\n",
       "      <td>0</td>\n",
       "      <td>1</td>\n",
       "      <td>0</td>\n",
       "      <td>0</td>\n",
       "      <td>0</td>\n",
       "      <td>0</td>\n",
       "      <td>1</td>\n",
       "      <td>1</td>\n",
       "      <td>0</td>\n",
       "    </tr>\n",
       "  </tbody>\n",
       "</table>\n",
       "<p>9412 rows × 15 columns</p>\n",
       "</div>"
      ],
      "text/plain": [
       "      age  education  hours-per-week  workclass_Private  workclass_Public  \\\n",
       "0      39         13              40                  0                 1   \n",
       "1      50         13              13                  0                 0   \n",
       "2      38          9              40                  1                 0   \n",
       "3      53          7              40                  1                 0   \n",
       "4      28         13              40                  1                 0   \n",
       "...   ...        ...             ...                ...               ...   \n",
       "9407   38         10              60                  1                 0   \n",
       "9408   25          9               8                  1                 0   \n",
       "9409   21         10              40                  1                 0   \n",
       "9410   38          2              53                  1                 0   \n",
       "9411   39         10              40                  1                 0   \n",
       "\n",
       "      workclass_Self-emp  marital-status_Married  marital-status_Single  \\\n",
       "0                      0                       0                      1   \n",
       "1                      1                       1                      0   \n",
       "2                      0                       0                      1   \n",
       "3                      0                       1                      0   \n",
       "4                      0                       1                      0   \n",
       "...                  ...                     ...                    ...   \n",
       "9407                   0                       1                      0   \n",
       "9408                   0                       0                      1   \n",
       "9409                   0                       0                      1   \n",
       "9410                   0                       1                      0   \n",
       "9411                   0                       0                      1   \n",
       "\n",
       "      race_Amer-Indian  race_Asian  race_Black  race_Hispanic  race_White  \\\n",
       "0                    0           0           0              0           1   \n",
       "1                    0           0           0              0           1   \n",
       "2                    0           0           0              0           1   \n",
       "3                    0           0           1              0           0   \n",
       "4                    0           0           1              0           0   \n",
       "...                ...         ...         ...            ...         ...   \n",
       "9407                 0           0           0              0           1   \n",
       "9408                 0           0           0              0           1   \n",
       "9409                 0           0           1              0           0   \n",
       "9410                 0           0           0              0           1   \n",
       "9411                 0           0           0              0           1   \n",
       "\n",
       "      sex_Female  sex_Male  \n",
       "0              0         1  \n",
       "1              0         1  \n",
       "2              0         1  \n",
       "3              0         1  \n",
       "4              1         0  \n",
       "...          ...       ...  \n",
       "9407           0         1  \n",
       "9408           1         0  \n",
       "9409           0         1  \n",
       "9410           0         1  \n",
       "9411           1         0  \n",
       "\n",
       "[9412 rows x 15 columns]"
      ]
     },
     "execution_count": 53,
     "metadata": {},
     "output_type": "execute_result"
    }
   ],
   "source": [
    "#dropping income>50K from the dataset\n",
    "adult_data = adult_num.iloc[:,0:-2]\n",
    "adult_data"
   ]
  },
  {
   "cell_type": "code",
   "execution_count": 54,
   "id": "20fe2b7a",
   "metadata": {},
   "outputs": [
    {
     "name": "stdout",
     "output_type": "stream",
     "text": [
      "(1883, 15)\n",
      "(1883,)\n",
      "(7529, 15)\n",
      "(7529,)\n"
     ]
    }
   ],
   "source": [
    "#Dividing the tarining and testing data using sklearn into 80-20 ratio with random state = 111\n",
    "from sklearn.model_selection import train_test_split\n",
    "adult_train, adult_test, adult_target_train, adult_target_test = train_test_split(adult_data, adult_target, test_size=0.2, random_state=111)\n",
    "print(adult_test.shape)\n",
    "print(adult_target_test.shape)\n",
    "\n",
    "print(adult_train.shape)\n",
    "print(adult_target_train.shape)"
   ]
  },
  {
   "cell_type": "markdown",
   "id": "e9c46f4b",
   "metadata": {},
   "source": [
    "# Question 2-b"
   ]
  },
  {
   "cell_type": "markdown",
   "id": "de37e875",
   "metadata": {},
   "source": [
    "Use scikit-learn's KNN implementation for classification.\n"
   ]
  },
  {
   "cell_type": "markdown",
   "id": "bd5245db",
   "metadata": {},
   "source": [
    "Question 2-b-i"
   ]
  },
  {
   "cell_type": "markdown",
   "id": "f10e19e8",
   "metadata": {},
   "source": [
    "First normalize the data so that all attributes are in the same scale (normalize so that the values are between 0 and 1). Run your KNN classifier using K=10. Generate the confusion matrix (visualize it using Matplotlib) as well as the classification report. Report the model accuracy for both the training and the test sets."
   ]
  },
  {
   "cell_type": "code",
   "execution_count": 55,
   "id": "543261ad",
   "metadata": {},
   "outputs": [],
   "source": [
    "from sklearn import preprocessing"
   ]
  },
  {
   "cell_type": "code",
   "execution_count": 56,
   "id": "4e542cd3",
   "metadata": {},
   "outputs": [],
   "source": [
    "min_max_scaler = preprocessing.MinMaxScaler().fit(adult_train)\n",
    "\n",
    "adult_train_norm = min_max_scaler.transform(adult_train)\n",
    "adult_train_norm = pd.DataFrame(adult_train_norm, columns = adult_train.columns, index = adult_train.index)\n",
    "\n",
    "adult_test_norm = min_max_scaler.transform(adult_test)\n",
    "adult_test_norm = pd.DataFrame(adult_test_norm, columns = adult_test.columns, index = adult_test.index)"
   ]
  },
  {
   "cell_type": "code",
   "execution_count": 57,
   "id": "a30115c7",
   "metadata": {},
   "outputs": [
    {
     "data": {
      "text/html": [
       "<div>\n",
       "<style scoped>\n",
       "    .dataframe tbody tr th:only-of-type {\n",
       "        vertical-align: middle;\n",
       "    }\n",
       "\n",
       "    .dataframe tbody tr th {\n",
       "        vertical-align: top;\n",
       "    }\n",
       "\n",
       "    .dataframe thead th {\n",
       "        text-align: right;\n",
       "    }\n",
       "</style>\n",
       "<table border=\"1\" class=\"dataframe\">\n",
       "  <thead>\n",
       "    <tr style=\"text-align: right;\">\n",
       "      <th></th>\n",
       "      <th>age</th>\n",
       "      <th>education</th>\n",
       "      <th>hours-per-week</th>\n",
       "      <th>workclass_Private</th>\n",
       "      <th>workclass_Public</th>\n",
       "      <th>workclass_Self-emp</th>\n",
       "      <th>marital-status_Married</th>\n",
       "      <th>marital-status_Single</th>\n",
       "      <th>race_Amer-Indian</th>\n",
       "      <th>race_Asian</th>\n",
       "      <th>race_Black</th>\n",
       "      <th>race_Hispanic</th>\n",
       "      <th>race_White</th>\n",
       "      <th>sex_Female</th>\n",
       "      <th>sex_Male</th>\n",
       "    </tr>\n",
       "  </thead>\n",
       "  <tbody>\n",
       "    <tr>\n",
       "      <th>1699</th>\n",
       "      <td>0.07</td>\n",
       "      <td>0.40</td>\n",
       "      <td>0.35</td>\n",
       "      <td>1.0</td>\n",
       "      <td>0.0</td>\n",
       "      <td>0.0</td>\n",
       "      <td>1.0</td>\n",
       "      <td>0.0</td>\n",
       "      <td>0.0</td>\n",
       "      <td>0.0</td>\n",
       "      <td>1.0</td>\n",
       "      <td>0.0</td>\n",
       "      <td>0.0</td>\n",
       "      <td>1.0</td>\n",
       "      <td>0.0</td>\n",
       "    </tr>\n",
       "    <tr>\n",
       "      <th>542</th>\n",
       "      <td>0.12</td>\n",
       "      <td>0.60</td>\n",
       "      <td>0.45</td>\n",
       "      <td>0.0</td>\n",
       "      <td>0.0</td>\n",
       "      <td>1.0</td>\n",
       "      <td>1.0</td>\n",
       "      <td>0.0</td>\n",
       "      <td>0.0</td>\n",
       "      <td>0.0</td>\n",
       "      <td>0.0</td>\n",
       "      <td>0.0</td>\n",
       "      <td>1.0</td>\n",
       "      <td>0.0</td>\n",
       "      <td>1.0</td>\n",
       "    </tr>\n",
       "    <tr>\n",
       "      <th>2985</th>\n",
       "      <td>0.58</td>\n",
       "      <td>0.53</td>\n",
       "      <td>0.40</td>\n",
       "      <td>1.0</td>\n",
       "      <td>0.0</td>\n",
       "      <td>0.0</td>\n",
       "      <td>0.0</td>\n",
       "      <td>1.0</td>\n",
       "      <td>0.0</td>\n",
       "      <td>0.0</td>\n",
       "      <td>1.0</td>\n",
       "      <td>0.0</td>\n",
       "      <td>0.0</td>\n",
       "      <td>1.0</td>\n",
       "      <td>0.0</td>\n",
       "    </tr>\n",
       "    <tr>\n",
       "      <th>699</th>\n",
       "      <td>0.21</td>\n",
       "      <td>0.60</td>\n",
       "      <td>0.40</td>\n",
       "      <td>1.0</td>\n",
       "      <td>0.0</td>\n",
       "      <td>0.0</td>\n",
       "      <td>0.0</td>\n",
       "      <td>1.0</td>\n",
       "      <td>0.0</td>\n",
       "      <td>0.0</td>\n",
       "      <td>1.0</td>\n",
       "      <td>0.0</td>\n",
       "      <td>0.0</td>\n",
       "      <td>1.0</td>\n",
       "      <td>0.0</td>\n",
       "    </tr>\n",
       "    <tr>\n",
       "      <th>1090</th>\n",
       "      <td>0.29</td>\n",
       "      <td>0.80</td>\n",
       "      <td>0.60</td>\n",
       "      <td>1.0</td>\n",
       "      <td>0.0</td>\n",
       "      <td>0.0</td>\n",
       "      <td>1.0</td>\n",
       "      <td>0.0</td>\n",
       "      <td>0.0</td>\n",
       "      <td>0.0</td>\n",
       "      <td>0.0</td>\n",
       "      <td>0.0</td>\n",
       "      <td>1.0</td>\n",
       "      <td>0.0</td>\n",
       "      <td>1.0</td>\n",
       "    </tr>\n",
       "  </tbody>\n",
       "</table>\n",
       "</div>"
      ],
      "text/plain": [
       "       age  education  hours-per-week  workclass_Private  workclass_Public  \\\n",
       "1699  0.07       0.40            0.35                1.0               0.0   \n",
       "542   0.12       0.60            0.45                0.0               0.0   \n",
       "2985  0.58       0.53            0.40                1.0               0.0   \n",
       "699   0.21       0.60            0.40                1.0               0.0   \n",
       "1090  0.29       0.80            0.60                1.0               0.0   \n",
       "\n",
       "      workclass_Self-emp  marital-status_Married  marital-status_Single  \\\n",
       "1699                 0.0                     1.0                    0.0   \n",
       "542                  1.0                     1.0                    0.0   \n",
       "2985                 0.0                     0.0                    1.0   \n",
       "699                  0.0                     0.0                    1.0   \n",
       "1090                 0.0                     1.0                    0.0   \n",
       "\n",
       "      race_Amer-Indian  race_Asian  race_Black  race_Hispanic  race_White  \\\n",
       "1699               0.0         0.0         1.0            0.0         0.0   \n",
       "542                0.0         0.0         0.0            0.0         1.0   \n",
       "2985               0.0         0.0         1.0            0.0         0.0   \n",
       "699                0.0         0.0         1.0            0.0         0.0   \n",
       "1090               0.0         0.0         0.0            0.0         1.0   \n",
       "\n",
       "      sex_Female  sex_Male  \n",
       "1699         1.0       0.0  \n",
       "542          0.0       1.0  \n",
       "2985         1.0       0.0  \n",
       "699          1.0       0.0  \n",
       "1090         0.0       1.0  "
      ]
     },
     "execution_count": 57,
     "metadata": {},
     "output_type": "execute_result"
    }
   ],
   "source": [
    "adult_test_norm.head()"
   ]
  },
  {
   "cell_type": "code",
   "execution_count": 58,
   "id": "afa5d616",
   "metadata": {},
   "outputs": [],
   "source": [
    "#Using Knn from Sklearn\n",
    "from sklearn import neighbors, tree, naive_bayes"
   ]
  },
  {
   "cell_type": "code",
   "execution_count": 59,
   "id": "4573d23e",
   "metadata": {},
   "outputs": [
    {
     "data": {
      "text/plain": [
       "KNeighborsClassifier(n_neighbors=10)"
      ]
     },
     "execution_count": 59,
     "metadata": {},
     "output_type": "execute_result"
    }
   ],
   "source": [
    "#Use Knn Classifier\n",
    "N_neigh = 10\n",
    "knnclf = neighbors.KNeighborsClassifier(N_neigh)\n",
    "knnclf.fit(adult_train_norm, adult_target_train)"
   ]
  },
  {
   "cell_type": "code",
   "execution_count": 60,
   "id": "b5524cab",
   "metadata": {},
   "outputs": [],
   "source": [
    "#Call predict function on test instances \n",
    "knnpreds_test = knnclf.predict(adult_test_norm)"
   ]
  },
  {
   "cell_type": "code",
   "execution_count": 61,
   "id": "d654ec24",
   "metadata": {},
   "outputs": [
    {
     "name": "stdout",
     "output_type": "stream",
     "text": [
      "[0 0 0 ... 0 0 1]\n"
     ]
    }
   ],
   "source": [
    "print(knnpreds_test)"
   ]
  },
  {
   "cell_type": "code",
   "execution_count": 62,
   "id": "6accec51",
   "metadata": {},
   "outputs": [],
   "source": [
    "#Evaluating the classifier accuracy using classification matrix\n",
    "from sklearn.metrics import classification_report"
   ]
  },
  {
   "cell_type": "code",
   "execution_count": 63,
   "id": "9879d7a1",
   "metadata": {},
   "outputs": [
    {
     "name": "stdout",
     "output_type": "stream",
     "text": [
      "              precision    recall  f1-score   support\n",
      "\n",
      "           0       0.84      0.91      0.87      1417\n",
      "           1       0.64      0.48      0.55       466\n",
      "\n",
      "    accuracy                           0.80      1883\n",
      "   macro avg       0.74      0.69      0.71      1883\n",
      "weighted avg       0.79      0.80      0.79      1883\n",
      "\n"
     ]
    }
   ],
   "source": [
    "print(classification_report(adult_target_test, knnpreds_test))"
   ]
  },
  {
   "cell_type": "code",
   "execution_count": 64,
   "id": "885c0c36",
   "metadata": {},
   "outputs": [],
   "source": [
    "#Evaluating the classifier accuracy using confusion matrix\n",
    "from sklearn.metrics import confusion_matrix"
   ]
  },
  {
   "cell_type": "code",
   "execution_count": 65,
   "id": "a89ea29d",
   "metadata": {},
   "outputs": [
    {
     "name": "stdout",
     "output_type": "stream",
     "text": [
      "[[1290  127]\n",
      " [ 243  223]]\n"
     ]
    }
   ],
   "source": [
    "knncm = confusion_matrix(adult_target_test, knnpreds_test)\n",
    "print(knncm)"
   ]
  },
  {
   "cell_type": "code",
   "execution_count": 66,
   "id": "6ed6556c",
   "metadata": {},
   "outputs": [
    {
     "data": {
      "image/png": "[encoded data removed]",
      "text/plain": [
       "<Figure size 288x288 with 2 Axes>"
      ]
     },
     "metadata": {
      "needs_background": "light"
     },
     "output_type": "display_data"
    }
   ],
   "source": [
    "#Visualizing the confusion Matrix\n",
    "import pylab as plt\n",
    "%matplotlib inline\n",
    "plt.matshow(knncm)\n",
    "plt.title('KNN Confusion Matrix')\n",
    "plt.colorbar()\n",
    "plt.ylabel('Actuatl')\n",
    "plt.xlabel('Predicted')\n",
    "plt.show()"
   ]
  },
  {
   "cell_type": "code",
   "execution_count": 67,
   "id": "f252d7e2",
   "metadata": {},
   "outputs": [
    {
     "name": "stdout",
     "output_type": "stream",
     "text": [
      "0.8435383185017931\n"
     ]
    }
   ],
   "source": [
    "# Compute the average accuracy score for training data\n",
    "print(knnclf.score(adult_train_norm, adult_target_train))"
   ]
  },
  {
   "cell_type": "code",
   "execution_count": 68,
   "id": "07e3c66b",
   "metadata": {},
   "outputs": [
    {
     "name": "stdout",
     "output_type": "stream",
     "text": [
      "0.8035050451407328\n"
     ]
    }
   ],
   "source": [
    "# Compute the average accuracy score for Test data\n",
    "print(knnclf.score(adult_test_norm, adult_target_test))"
   ]
  },
  {
   "cell_type": "markdown",
   "id": "a8425743",
   "metadata": {},
   "source": [
    "# Question 2-b-ii"
   ]
  },
  {
   "cell_type": "markdown",
   "id": "a3e86cc3",
   "metadata": {},
   "source": [
    "Next, experiment with different values of K (say from 5 to 100) and the weight parameter (i.e., with or without distance weighting) to see if you can improve accuracy of the KNN classifier. Show the results in a single plot comparing distance and uniform weighting schemes across the different values of K. Use the best values of these parameter (K and weighting scheme) to train a new KNN classifier and report the accuracy of this classifier on the training and test sets."
   ]
  },
  {
   "cell_type": "code",
   "execution_count": 69,
   "id": "805d1608",
   "metadata": {},
   "outputs": [],
   "source": [
    "def diffK(adult_test_norm, adult_target_test, adult_train_norm, adult_target_train):\n",
    "    accuracy= np.zeros([100,5], dtype = float)\n",
    "    index=0\n",
    "    for K in range(1,101):\n",
    "        knnclf = neighbors.KNeighborsClassifier(K)\n",
    "        knnclf.fit(adult_train_norm, adult_target_train)\n",
    "        accuracy_noWeight_train =(knnclf.score(adult_train_norm, adult_target_train))\n",
    "        accuracy_noWeight_test =(knnclf.score(adult_test_norm, adult_target_test))\n",
    "\n",
    "        knnclf_dist = neighbors.KNeighborsClassifier(K, weights = 'distance')\n",
    "        knnclf_dist.fit(adult_train_norm, adult_target_train)\n",
    "        accuracy_distance_train =(knnclf_dist.score(adult_train_norm, adult_target_train))\n",
    "        accuracy_distance_test =(knnclf_dist.score(adult_test_norm, adult_target_test))\n",
    "\n",
    "        accuracy[index] = [K, accuracy_noWeight_train,accuracy_noWeight_test,  accuracy_distance_train, accuracy_distance_test]\n",
    "        index +=1\n",
    "    \n",
    "    return accuracy"
   ]
  },
  {
   "cell_type": "code",
   "execution_count": 70,
   "id": "d7b7ad85",
   "metadata": {},
   "outputs": [],
   "source": [
    "accuracy = diffK(adult_test_norm, adult_target_test, adult_train_norm, adult_target_train)"
   ]
  },
  {
   "cell_type": "code",
   "execution_count": 71,
   "id": "c09112d9",
   "metadata": {},
   "outputs": [
    {
     "data": {
      "text/html": [
       "<div>\n",
       "<style scoped>\n",
       "    .dataframe tbody tr th:only-of-type {\n",
       "        vertical-align: middle;\n",
       "    }\n",
       "\n",
       "    .dataframe tbody tr th {\n",
       "        vertical-align: top;\n",
       "    }\n",
       "\n",
       "    .dataframe thead th {\n",
       "        text-align: right;\n",
       "    }\n",
       "</style>\n",
       "<table border=\"1\" class=\"dataframe\">\n",
       "  <thead>\n",
       "    <tr style=\"text-align: right;\">\n",
       "      <th></th>\n",
       "      <th>K</th>\n",
       "      <th>NoWeight Train</th>\n",
       "      <th>NoWeight Test</th>\n",
       "      <th>DistanceWeight Train</th>\n",
       "      <th>DistanceWeight Test</th>\n",
       "    </tr>\n",
       "  </thead>\n",
       "  <tbody>\n",
       "    <tr>\n",
       "      <th>0</th>\n",
       "      <td>1.0</td>\n",
       "      <td>0.93</td>\n",
       "      <td>0.76</td>\n",
       "      <td>0.93</td>\n",
       "      <td>0.76</td>\n",
       "    </tr>\n",
       "    <tr>\n",
       "      <th>1</th>\n",
       "      <td>2.0</td>\n",
       "      <td>0.87</td>\n",
       "      <td>0.79</td>\n",
       "      <td>0.93</td>\n",
       "      <td>0.76</td>\n",
       "    </tr>\n",
       "    <tr>\n",
       "      <th>2</th>\n",
       "      <td>3.0</td>\n",
       "      <td>0.87</td>\n",
       "      <td>0.78</td>\n",
       "      <td>0.94</td>\n",
       "      <td>0.77</td>\n",
       "    </tr>\n",
       "    <tr>\n",
       "      <th>3</th>\n",
       "      <td>4.0</td>\n",
       "      <td>0.85</td>\n",
       "      <td>0.79</td>\n",
       "      <td>0.94</td>\n",
       "      <td>0.77</td>\n",
       "    </tr>\n",
       "    <tr>\n",
       "      <th>4</th>\n",
       "      <td>5.0</td>\n",
       "      <td>0.85</td>\n",
       "      <td>0.79</td>\n",
       "      <td>0.94</td>\n",
       "      <td>0.78</td>\n",
       "    </tr>\n",
       "  </tbody>\n",
       "</table>\n",
       "</div>"
      ],
      "text/plain": [
       "     K  NoWeight Train  NoWeight Test  DistanceWeight Train  \\\n",
       "0  1.0            0.93           0.76                  0.93   \n",
       "1  2.0            0.87           0.79                  0.93   \n",
       "2  3.0            0.87           0.78                  0.94   \n",
       "3  4.0            0.85           0.79                  0.94   \n",
       "4  5.0            0.85           0.79                  0.94   \n",
       "\n",
       "   DistanceWeight Test  \n",
       "0                 0.76  \n",
       "1                 0.76  \n",
       "2                 0.77  \n",
       "3                 0.77  \n",
       "4                 0.78  "
      ]
     },
     "execution_count": 71,
     "metadata": {},
     "output_type": "execute_result"
    }
   ],
   "source": [
    "accuracyDF = pd.DataFrame(accuracy, columns = ['K', 'NoWeight Train', 'NoWeight Test','DistanceWeight Train', 'DistanceWeight Test',] )\n",
    "accuracyDF.head()"
   ]
  },
  {
   "cell_type": "code",
   "execution_count": 72,
   "id": "24da29f1",
   "metadata": {},
   "outputs": [
    {
     "data": {
      "image/png": "[encoded data removed]",
      "text/plain": [
       "<Figure size 576x360 with 1 Axes>"
      ]
     },
     "metadata": {
      "needs_background": "light"
     },
     "output_type": "display_data"
    }
   ],
   "source": [
    "plt.figure(figsize=(8,5))\n",
    "\n",
    "plt.plot(accuracyDF['K'], accuracyDF['NoWeight Train'], label =\"Uniform Train\")\n",
    "plt.plot(accuracyDF['K'], accuracyDF['NoWeight Test'], label =\"Uniform Test\")\n",
    "\n",
    "plt.plot(accuracyDF['K'], accuracyDF['DistanceWeight Train'], label =\"DistanceWeight Train\")\n",
    "plt.plot(accuracyDF['K'], accuracyDF['DistanceWeight Test'], label =\"DistanceWeight Test\")\n",
    "\n",
    "plt.xlabel('K')\n",
    "plt.ylabel('Accuracy')\n",
    "plt.title(\"KNN Classifier Accurcy\")\n",
    "\n",
    "plt.grid(linestyle = '--')\n",
    "plt.xticks(df['K'])\n",
    "plt.legend(loc='center left', bbox_to_anchor=(1,0.5))\n",
    "plt.show()"
   ]
  },
  {
   "cell_type": "code",
   "execution_count": 73,
   "id": "0530f3c2",
   "metadata": {},
   "outputs": [
    {
     "name": "stdout",
     "output_type": "stream",
     "text": [
      "Training Accuracy when K=4: 0.8237481737282507\n",
      "Testing Accuracy when K=4: 0.813595326606479\n"
     ]
    }
   ],
   "source": [
    "#Uniform distance had the lesser gap between testing and training scores compared to distance weight\n",
    "#There fore uniform diatance has less chances of getting overfit\n",
    "#K= 27 has the highest accuracy for uniform distance for the smallest K\n",
    "K = 27\n",
    "knnclf = neighbors.KNeighborsClassifier(K)\n",
    "knnclf.fit(adult_train_norm, adult_target_train)\n",
    "train_accuracy = knnclf.score(adult_train_norm, adult_target_train)\n",
    "test_accuracy = knnclf.score(adult_test_norm, adult_target_test)\n",
    "print(\"Training Accuracy when K=4: \" + str(train_accuracy))\n",
    "print(\"Testing Accuracy when K=4: \" + str(test_accuracy))"
   ]
  },
  {
   "cell_type": "markdown",
   "id": "b3d8bf1b",
   "metadata": {},
   "source": [
    "# Question 2-b -iii"
   ]
  },
  {
   "cell_type": "markdown",
   "id": "2dbdf058",
   "metadata": {},
   "source": [
    "Next, using only \"uniform\" weights, compare the accuracy of the KNN classifier across the different values of K on the training and the test data. You should show the results in a single figure with two line plots for the test and training accuracy values (y-axis) and with values of K in the x-axis. What range of values of K represent overfitting? Briefly explain."
   ]
  },
  {
   "cell_type": "code",
   "execution_count": 74,
   "id": "a7d4befb",
   "metadata": {},
   "outputs": [],
   "source": [
    "def knn_test_trainAccuract(adult_test_norm, adult_target_test, adult_train_norm, adult_target_train):\n",
    "    accuracy= np.zeros([100,3], dtype = float)\n",
    "    index=0\n",
    "    for K in range(1,101):\n",
    "        knnclf_train = neighbors.KNeighborsClassifier(K)\n",
    "        knnclf_train.fit(adult_train_norm, adult_target_train)\n",
    "        accuracy_train =(knnclf_train.score(adult_train_norm, adult_target_train))\n",
    "\n",
    "        knnclf_test = neighbors.KNeighborsClassifier(K)\n",
    "        knnclf_test.fit(adult_test_norm, adult_target_test)\n",
    "        accuracy_test =(knnclf_train.score(adult_test_norm, adult_target_test))\n",
    "\n",
    "        accuracy[index] = [K, accuracy_train, accuracy_test]\n",
    "        index +=1\n",
    "    \n",
    "    return accuracy"
   ]
  },
  {
   "cell_type": "code",
   "execution_count": 75,
   "id": "9498107e",
   "metadata": {},
   "outputs": [],
   "source": [
    "accuracy = knn_test_trainAccuract(adult_test_norm, adult_target_test, adult_train_norm, adult_target_train)"
   ]
  },
  {
   "cell_type": "code",
   "execution_count": 76,
   "id": "63e1f2c8",
   "metadata": {},
   "outputs": [
    {
     "data": {
      "text/html": [
       "<div>\n",
       "<style scoped>\n",
       "    .dataframe tbody tr th:only-of-type {\n",
       "        vertical-align: middle;\n",
       "    }\n",
       "\n",
       "    .dataframe tbody tr th {\n",
       "        vertical-align: top;\n",
       "    }\n",
       "\n",
       "    .dataframe thead th {\n",
       "        text-align: right;\n",
       "    }\n",
       "</style>\n",
       "<table border=\"1\" class=\"dataframe\">\n",
       "  <thead>\n",
       "    <tr style=\"text-align: right;\">\n",
       "      <th></th>\n",
       "      <th>K</th>\n",
       "      <th>Training Accuracy</th>\n",
       "      <th>Testing Accuracy</th>\n",
       "    </tr>\n",
       "  </thead>\n",
       "  <tbody>\n",
       "    <tr>\n",
       "      <th>0</th>\n",
       "      <td>1.0</td>\n",
       "      <td>0.93</td>\n",
       "      <td>0.76</td>\n",
       "    </tr>\n",
       "    <tr>\n",
       "      <th>1</th>\n",
       "      <td>2.0</td>\n",
       "      <td>0.87</td>\n",
       "      <td>0.79</td>\n",
       "    </tr>\n",
       "    <tr>\n",
       "      <th>2</th>\n",
       "      <td>3.0</td>\n",
       "      <td>0.87</td>\n",
       "      <td>0.78</td>\n",
       "    </tr>\n",
       "    <tr>\n",
       "      <th>3</th>\n",
       "      <td>4.0</td>\n",
       "      <td>0.85</td>\n",
       "      <td>0.79</td>\n",
       "    </tr>\n",
       "    <tr>\n",
       "      <th>4</th>\n",
       "      <td>5.0</td>\n",
       "      <td>0.85</td>\n",
       "      <td>0.79</td>\n",
       "    </tr>\n",
       "  </tbody>\n",
       "</table>\n",
       "</div>"
      ],
      "text/plain": [
       "     K  Training Accuracy  Testing Accuracy\n",
       "0  1.0               0.93              0.76\n",
       "1  2.0               0.87              0.79\n",
       "2  3.0               0.87              0.78\n",
       "3  4.0               0.85              0.79\n",
       "4  5.0               0.85              0.79"
      ]
     },
     "execution_count": 76,
     "metadata": {},
     "output_type": "execute_result"
    }
   ],
   "source": [
    "accuracy_train_test = pd.DataFrame(accuracy, columns = ['K', 'Training Accuracy', 'Testing Accuracy'] )\n",
    "accuracy_train_test.head()"
   ]
  },
  {
   "cell_type": "code",
   "execution_count": 77,
   "id": "23c625b0",
   "metadata": {
    "scrolled": true
   },
   "outputs": [
    {
     "data": {
      "image/png": "[encoded data removed]",
      "text/plain": [
       "<Figure size 576x360 with 1 Axes>"
      ]
     },
     "metadata": {
      "needs_background": "light"
     },
     "output_type": "display_data"
    }
   ],
   "source": [
    "plt.figure(figsize=(8,5))\n",
    "plt.plot(accuracy_train_test['K'], accuracy_train_test['Training Accuracy'], label =\"Training Accuracy\")\n",
    "plt.plot(accuracy_train_test['K'], accuracy_train_test['Testing Accuracy'], label =\"Testing Accuracy\")\n",
    "plt.xlabel('K')\n",
    "plt.ylabel('Accuracy')\n",
    "plt.title(\"KNN Classifier Accurcy\")\n",
    "plt.grid(linestyle = '--')\n",
    "plt.xticks(df['K'])\n",
    "plt.legend(loc='center left', bbox_to_anchor=(1,0.5))\n",
    "plt.show()"
   ]
  },
  {
   "cell_type": "markdown",
   "id": "90a34b98",
   "metadata": {},
   "source": [
    "K Values from 3-20 seem to have overfitting by 1% +/- 1.5%. As the value of K increases, the gap between training and testing seems to getting smaller, reflecting less over fitting."
   ]
  },
  {
   "cell_type": "markdown",
   "id": "0f6e85bf",
   "metadata": {},
   "source": [
    "# Question 2-C"
   ]
  },
  {
   "cell_type": "markdown",
   "id": "7f72d164",
   "metadata": {},
   "source": [
    "Using the non-normalized training and test data, perform classification using scikit-learn's decision tree classifier (using the default parameters). As above, generate the confusion matrix, classification report, and average accuracy scores of the classifier. Compare the average accuracy score on the test and the training data sets. What does the comparison tell you in terms of bias-variance trade-off? Next, create another decision tree model (trained on the non-normalized training data) using \"gini\" index as the selection criteria, min_samples_split=10, and max_depth=4. Show the accuracy results for both the training and test sets. For this model generate a visualization of tree  embedded in the Jupyter Notebook."
   ]
  },
  {
   "cell_type": "code",
   "execution_count": 78,
   "id": "d5faa864",
   "metadata": {},
   "outputs": [],
   "source": [
    "treeclf = tree.DecisionTreeClassifier(criterion='entropy', min_samples_split=3)"
   ]
  },
  {
   "cell_type": "code",
   "execution_count": 79,
   "id": "7b0a0b10",
   "metadata": {},
   "outputs": [],
   "source": [
    "treeclf = treeclf.fit(adult_train, adult_target_train)"
   ]
  },
  {
   "cell_type": "code",
   "execution_count": 80,
   "id": "5edd2809",
   "metadata": {},
   "outputs": [
    {
     "name": "stdout",
     "output_type": "stream",
     "text": [
      "[0 0 0 ... 0 0 0]\n"
     ]
    }
   ],
   "source": [
    "treepreds_test = treeclf.predict(adult_test)\n",
    "print(treepreds_test)"
   ]
  },
  {
   "cell_type": "code",
   "execution_count": 81,
   "id": "7dd28cec",
   "metadata": {},
   "outputs": [
    {
     "name": "stdout",
     "output_type": "stream",
     "text": [
      "0.758364312267658\n"
     ]
    }
   ],
   "source": [
    "print(treeclf.score(adult_test, adult_target_test))"
   ]
  },
  {
   "cell_type": "code",
   "execution_count": 82,
   "id": "9dde655a",
   "metadata": {},
   "outputs": [
    {
     "name": "stdout",
     "output_type": "stream",
     "text": [
      "0.9302696241200691\n"
     ]
    }
   ],
   "source": [
    "print(treeclf.score(adult_train, adult_target_train))"
   ]
  },
  {
   "cell_type": "code",
   "execution_count": 83,
   "id": "846fc46c",
   "metadata": {},
   "outputs": [
    {
     "name": "stdout",
     "output_type": "stream",
     "text": [
      "              precision    recall  f1-score   support\n",
      "\n",
      "           0       0.82      0.87      0.84      1417\n",
      "           1       0.51      0.43      0.47       466\n",
      "\n",
      "    accuracy                           0.76      1883\n",
      "   macro avg       0.67      0.65      0.66      1883\n",
      "weighted avg       0.75      0.76      0.75      1883\n",
      "\n"
     ]
    }
   ],
   "source": [
    "print(classification_report(adult_target_test, treepreds_test))"
   ]
  },
  {
   "cell_type": "code",
   "execution_count": 84,
   "id": "e926dcef",
   "metadata": {},
   "outputs": [
    {
     "name": "stdout",
     "output_type": "stream",
     "text": [
      "[[1226  191]\n",
      " [ 264  202]]\n"
     ]
    }
   ],
   "source": [
    "treecm = confusion_matrix(adult_target_test, treepreds_test)\n",
    "print(treecm)"
   ]
  },
  {
   "cell_type": "markdown",
   "id": "b9d9d98a",
   "metadata": {},
   "source": [
    "The Decision tree is overfitting, there is a gap of 18% between testing and training accuracy. There was a high bias for one class comapred to the other."
   ]
  },
  {
   "cell_type": "code",
   "execution_count": 85,
   "id": "2b0bd51a",
   "metadata": {},
   "outputs": [],
   "source": [
    "treeclf2 = tree.DecisionTreeClassifier(criterion ='gini', min_samples_split = 10, max_depth =4)"
   ]
  },
  {
   "cell_type": "code",
   "execution_count": 86,
   "id": "d92191e3",
   "metadata": {},
   "outputs": [],
   "source": [
    "treeclf2 = treeclf2.fit(adult_train, adult_target_train)"
   ]
  },
  {
   "cell_type": "code",
   "execution_count": 87,
   "id": "4995d1f2",
   "metadata": {},
   "outputs": [
    {
     "name": "stdout",
     "output_type": "stream",
     "text": [
      "[0 0 0 ... 0 0 0]\n"
     ]
    }
   ],
   "source": [
    "treepreds_test2 = treeclf2.predict(adult_test)\n",
    "print(treepreds_test2)"
   ]
  },
  {
   "cell_type": "code",
   "execution_count": 88,
   "id": "27714851",
   "metadata": {},
   "outputs": [
    {
     "name": "stdout",
     "output_type": "stream",
     "text": [
      "0.8130642591609134\n"
     ]
    }
   ],
   "source": [
    "print(treeclf2.score(adult_test, adult_target_test))"
   ]
  },
  {
   "cell_type": "code",
   "execution_count": 89,
   "id": "16bc6bd9",
   "metadata": {},
   "outputs": [
    {
     "name": "stdout",
     "output_type": "stream",
     "text": [
      "0.817638464603533\n"
     ]
    }
   ],
   "source": [
    "print(treeclf2.score(adult_train, adult_target_train))"
   ]
  },
  {
   "cell_type": "code",
   "execution_count": 90,
   "id": "4800cfc9",
   "metadata": {},
   "outputs": [
    {
     "name": "stdout",
     "output_type": "stream",
     "text": [
      "              precision    recall  f1-score   support\n",
      "\n",
      "           0       0.84      0.94      0.88      1417\n",
      "           1       0.69      0.44      0.54       466\n",
      "\n",
      "    accuracy                           0.81      1883\n",
      "   macro avg       0.76      0.69      0.71      1883\n",
      "weighted avg       0.80      0.81      0.80      1883\n",
      "\n"
     ]
    }
   ],
   "source": [
    "print(classification_report(adult_target_test, treepreds_test2))"
   ]
  },
  {
   "cell_type": "code",
   "execution_count": 91,
   "id": "82fca2b4",
   "metadata": {},
   "outputs": [
    {
     "name": "stdout",
     "output_type": "stream",
     "text": [
      "[[1327   90]\n",
      " [ 262  204]]\n"
     ]
    }
   ],
   "source": [
    "treecm2 = confusion_matrix(adult_target_test, treepreds_test2)\n",
    "print(treecm2)"
   ]
  },
  {
   "cell_type": "code",
   "execution_count": 92,
   "id": "b89ee3a3",
   "metadata": {},
   "outputs": [],
   "source": [
    "from sklearn.tree import export_graphviz\n",
    "from IPython.display import SVG\n",
    "from graphviz import Source\n",
    "from IPython.display import display"
   ]
  },
  {
   "cell_type": "code",
   "execution_count": 93,
   "id": "223a83e8",
   "metadata": {},
   "outputs": [],
   "source": [
    "tree = export_graphviz(treeclf2, out_file=None, feature_names= adult_train.columns, class_names=['0','1'])\n",
    "graph = Source(tree)"
   ]
  },
  {
   "cell_type": "code",
   "execution_count": 94,
   "id": "8184e967",
   "metadata": {},
   "outputs": [
    {
     "ename": "ExecutableNotFound",
     "evalue": "failed to execute PosixPath('dot'), make sure the Graphviz executables are on your systems' PATH",
     "output_type": "error",
     "traceback": [
      "\u001b[0;31m---------------------------------------------------------------------------\u001b[0m",
      "\u001b[0;31mFileNotFoundError\u001b[0m                         Traceback (most recent call last)",
      "\u001b[0;32m~/opt/anaconda3/lib/python3.9/site-packages/graphviz/backend/execute.py\u001b[0m in \u001b[0;36mrun_check\u001b[0;34m(cmd, input_lines, encoding, quiet, **kwargs)\u001b[0m\n\u001b[1;32m     78\u001b[0m                 \u001b[0mkwargs\u001b[0m\u001b[0;34m[\u001b[0m\u001b[0;34m'stdout'\u001b[0m\u001b[0;34m]\u001b[0m \u001b[0;34m=\u001b[0m \u001b[0mkwargs\u001b[0m\u001b[0;34m[\u001b[0m\u001b[0;34m'stderr'\u001b[0m\u001b[0;34m]\u001b[0m \u001b[0;34m=\u001b[0m \u001b[0msubprocess\u001b[0m\u001b[0;34m.\u001b[0m\u001b[0mPIPE\u001b[0m\u001b[0;34m\u001b[0m\u001b[0;34m\u001b[0m\u001b[0m\n\u001b[0;32m---> 79\u001b[0;31m             \u001b[0mproc\u001b[0m \u001b[0;34m=\u001b[0m \u001b[0m_run_input_lines\u001b[0m\u001b[0;34m(\u001b[0m\u001b[0mcmd\u001b[0m\u001b[0;34m,\u001b[0m \u001b[0minput_lines\u001b[0m\u001b[0;34m,\u001b[0m \u001b[0mkwargs\u001b[0m\u001b[0;34m=\u001b[0m\u001b[0mkwargs\u001b[0m\u001b[0;34m)\u001b[0m\u001b[0;34m\u001b[0m\u001b[0;34m\u001b[0m\u001b[0m\n\u001b[0m\u001b[1;32m     80\u001b[0m         \u001b[0;32melse\u001b[0m\u001b[0;34m:\u001b[0m\u001b[0;34m\u001b[0m\u001b[0;34m\u001b[0m\u001b[0m\n",
      "\u001b[0;32m~/opt/anaconda3/lib/python3.9/site-packages/graphviz/backend/execute.py\u001b[0m in \u001b[0;36m_run_input_lines\u001b[0;34m(cmd, input_lines, kwargs)\u001b[0m\n\u001b[1;32m     98\u001b[0m \u001b[0;32mdef\u001b[0m \u001b[0m_run_input_lines\u001b[0m\u001b[0;34m(\u001b[0m\u001b[0mcmd\u001b[0m\u001b[0;34m,\u001b[0m \u001b[0minput_lines\u001b[0m\u001b[0;34m,\u001b[0m \u001b[0;34m*\u001b[0m\u001b[0;34m,\u001b[0m \u001b[0mkwargs\u001b[0m\u001b[0;34m)\u001b[0m\u001b[0;34m:\u001b[0m\u001b[0;34m\u001b[0m\u001b[0;34m\u001b[0m\u001b[0m\n\u001b[0;32m---> 99\u001b[0;31m     \u001b[0mpopen\u001b[0m \u001b[0;34m=\u001b[0m \u001b[0msubprocess\u001b[0m\u001b[0;34m.\u001b[0m\u001b[0mPopen\u001b[0m\u001b[0;34m(\u001b[0m\u001b[0mcmd\u001b[0m\u001b[0;34m,\u001b[0m \u001b[0mstdin\u001b[0m\u001b[0;34m=\u001b[0m\u001b[0msubprocess\u001b[0m\u001b[0;34m.\u001b[0m\u001b[0mPIPE\u001b[0m\u001b[0;34m,\u001b[0m \u001b[0;34m**\u001b[0m\u001b[0mkwargs\u001b[0m\u001b[0;34m)\u001b[0m\u001b[0;34m\u001b[0m\u001b[0;34m\u001b[0m\u001b[0m\n\u001b[0m\u001b[1;32m    100\u001b[0m \u001b[0;34m\u001b[0m\u001b[0m\n",
      "\u001b[0;32m~/opt/anaconda3/lib/python3.9/subprocess.py\u001b[0m in \u001b[0;36m__init__\u001b[0;34m(self, args, bufsize, executable, stdin, stdout, stderr, preexec_fn, close_fds, shell, cwd, env, universal_newlines, startupinfo, creationflags, restore_signals, start_new_session, pass_fds, user, group, extra_groups, encoding, errors, text, umask)\u001b[0m\n\u001b[1;32m    950\u001b[0m \u001b[0;34m\u001b[0m\u001b[0m\n\u001b[0;32m--> 951\u001b[0;31m             self._execute_child(args, executable, preexec_fn, close_fds,\n\u001b[0m\u001b[1;32m    952\u001b[0m                                 \u001b[0mpass_fds\u001b[0m\u001b[0;34m,\u001b[0m \u001b[0mcwd\u001b[0m\u001b[0;34m,\u001b[0m \u001b[0menv\u001b[0m\u001b[0;34m,\u001b[0m\u001b[0;34m\u001b[0m\u001b[0;34m\u001b[0m\u001b[0m\n",
      "\u001b[0;32m~/opt/anaconda3/lib/python3.9/subprocess.py\u001b[0m in \u001b[0;36m_execute_child\u001b[0;34m(self, args, executable, preexec_fn, close_fds, pass_fds, cwd, env, startupinfo, creationflags, shell, p2cread, p2cwrite, c2pread, c2pwrite, errread, errwrite, restore_signals, gid, gids, uid, umask, start_new_session)\u001b[0m\n\u001b[1;32m   1820\u001b[0m                         \u001b[0merr_msg\u001b[0m \u001b[0;34m=\u001b[0m \u001b[0mos\u001b[0m\u001b[0;34m.\u001b[0m\u001b[0mstrerror\u001b[0m\u001b[0;34m(\u001b[0m\u001b[0merrno_num\u001b[0m\u001b[0;34m)\u001b[0m\u001b[0;34m\u001b[0m\u001b[0;34m\u001b[0m\u001b[0m\n\u001b[0;32m-> 1821\u001b[0;31m                     \u001b[0;32mraise\u001b[0m \u001b[0mchild_exception_type\u001b[0m\u001b[0;34m(\u001b[0m\u001b[0merrno_num\u001b[0m\u001b[0;34m,\u001b[0m \u001b[0merr_msg\u001b[0m\u001b[0;34m,\u001b[0m \u001b[0merr_filename\u001b[0m\u001b[0;34m)\u001b[0m\u001b[0;34m\u001b[0m\u001b[0;34m\u001b[0m\u001b[0m\n\u001b[0m\u001b[1;32m   1822\u001b[0m                 \u001b[0;32mraise\u001b[0m \u001b[0mchild_exception_type\u001b[0m\u001b[0;34m(\u001b[0m\u001b[0merr_msg\u001b[0m\u001b[0;34m)\u001b[0m\u001b[0;34m\u001b[0m\u001b[0;34m\u001b[0m\u001b[0m\n",
      "\u001b[0;31mFileNotFoundError\u001b[0m: [Errno 2] No such file or directory: PosixPath('dot')",
      "\nThe above exception was the direct cause of the following exception:\n",
      "\u001b[0;31mExecutableNotFound\u001b[0m                        Traceback (most recent call last)",
      "\u001b[0;32m/var/folders/y1/rcx3rhfx4dj1v_rvs8qnbc0c0000gn/T/ipykernel_9747/2994742669.py\u001b[0m in \u001b[0;36m<module>\u001b[0;34m\u001b[0m\n\u001b[1;32m      2\u001b[0m \u001b[0;31m#I tried bunch of stuff, videos and all but couldn't get it to work.\u001b[0m\u001b[0;34m\u001b[0m\u001b[0;34m\u001b[0m\u001b[0m\n\u001b[1;32m      3\u001b[0m \u001b[0;34m\u001b[0m\u001b[0m\n\u001b[0;32m----> 4\u001b[0;31m \u001b[0mdisplay\u001b[0m\u001b[0;34m(\u001b[0m\u001b[0mSVG\u001b[0m\u001b[0;34m(\u001b[0m\u001b[0mgraph\u001b[0m\u001b[0;34m.\u001b[0m\u001b[0mpipe\u001b[0m\u001b[0;34m(\u001b[0m\u001b[0mformat\u001b[0m \u001b[0;34m=\u001b[0m \u001b[0;34m'svg'\u001b[0m\u001b[0;34m)\u001b[0m\u001b[0;34m)\u001b[0m\u001b[0;34m)\u001b[0m\u001b[0;34m\u001b[0m\u001b[0;34m\u001b[0m\u001b[0m\n\u001b[0m",
      "\u001b[0;32m~/opt/anaconda3/lib/python3.9/site-packages/graphviz/piping.py\u001b[0m in \u001b[0;36mpipe\u001b[0;34m(self, format, renderer, formatter, neato_no_op, quiet, engine, encoding)\u001b[0m\n\u001b[1;32m    102\u001b[0m             \u001b[0;34m'<?xml version='\u001b[0m\u001b[0;34m\u001b[0m\u001b[0;34m\u001b[0m\u001b[0m\n\u001b[1;32m    103\u001b[0m         \"\"\"\n\u001b[0;32m--> 104\u001b[0;31m         return self._pipe_legacy(format,\n\u001b[0m\u001b[1;32m    105\u001b[0m                                  \u001b[0mrenderer\u001b[0m\u001b[0;34m=\u001b[0m\u001b[0mrenderer\u001b[0m\u001b[0;34m,\u001b[0m\u001b[0;34m\u001b[0m\u001b[0;34m\u001b[0m\u001b[0m\n\u001b[1;32m    106\u001b[0m                                  \u001b[0mformatter\u001b[0m\u001b[0;34m=\u001b[0m\u001b[0mformatter\u001b[0m\u001b[0;34m,\u001b[0m\u001b[0;34m\u001b[0m\u001b[0;34m\u001b[0m\u001b[0m\n",
      "\u001b[0;32m~/opt/anaconda3/lib/python3.9/site-packages/graphviz/_tools.py\u001b[0m in \u001b[0;36mwrapper\u001b[0;34m(*args, **kwargs)\u001b[0m\n\u001b[1;32m    169\u001b[0m                               category=category)\n\u001b[1;32m    170\u001b[0m \u001b[0;34m\u001b[0m\u001b[0m\n\u001b[0;32m--> 171\u001b[0;31m             \u001b[0;32mreturn\u001b[0m \u001b[0mfunc\u001b[0m\u001b[0;34m(\u001b[0m\u001b[0;34m*\u001b[0m\u001b[0margs\u001b[0m\u001b[0;34m,\u001b[0m \u001b[0;34m**\u001b[0m\u001b[0mkwargs\u001b[0m\u001b[0;34m)\u001b[0m\u001b[0;34m\u001b[0m\u001b[0;34m\u001b[0m\u001b[0m\n\u001b[0m\u001b[1;32m    172\u001b[0m \u001b[0;34m\u001b[0m\u001b[0m\n\u001b[1;32m    173\u001b[0m         \u001b[0;32mreturn\u001b[0m \u001b[0mwrapper\u001b[0m\u001b[0;34m\u001b[0m\u001b[0;34m\u001b[0m\u001b[0m\n",
      "\u001b[0;32m~/opt/anaconda3/lib/python3.9/site-packages/graphviz/piping.py\u001b[0m in \u001b[0;36m_pipe_legacy\u001b[0;34m(self, format, renderer, formatter, neato_no_op, quiet, engine, encoding)\u001b[0m\n\u001b[1;32m    119\u001b[0m                      \u001b[0mengine\u001b[0m\u001b[0;34m:\u001b[0m \u001b[0mtyping\u001b[0m\u001b[0;34m.\u001b[0m\u001b[0mOptional\u001b[0m\u001b[0;34m[\u001b[0m\u001b[0mstr\u001b[0m\u001b[0;34m]\u001b[0m \u001b[0;34m=\u001b[0m \u001b[0;32mNone\u001b[0m\u001b[0;34m,\u001b[0m\u001b[0;34m\u001b[0m\u001b[0;34m\u001b[0m\u001b[0m\n\u001b[1;32m    120\u001b[0m                      encoding: typing.Optional[str] = None) -> typing.Union[bytes, str]:\n\u001b[0;32m--> 121\u001b[0;31m         return self._pipe_future(format,\n\u001b[0m\u001b[1;32m    122\u001b[0m                                  \u001b[0mrenderer\u001b[0m\u001b[0;34m=\u001b[0m\u001b[0mrenderer\u001b[0m\u001b[0;34m,\u001b[0m\u001b[0;34m\u001b[0m\u001b[0;34m\u001b[0m\u001b[0m\n\u001b[1;32m    123\u001b[0m                                  \u001b[0mformatter\u001b[0m\u001b[0;34m=\u001b[0m\u001b[0mformatter\u001b[0m\u001b[0;34m,\u001b[0m\u001b[0;34m\u001b[0m\u001b[0;34m\u001b[0m\u001b[0m\n",
      "\u001b[0;32m~/opt/anaconda3/lib/python3.9/site-packages/graphviz/piping.py\u001b[0m in \u001b[0;36m_pipe_future\u001b[0;34m(self, format, renderer, formatter, neato_no_op, quiet, engine, encoding)\u001b[0m\n\u001b[1;32m    159\u001b[0m             \u001b[0;32melse\u001b[0m\u001b[0;34m:\u001b[0m\u001b[0;34m\u001b[0m\u001b[0;34m\u001b[0m\u001b[0m\n\u001b[1;32m    160\u001b[0m                 \u001b[0;32mreturn\u001b[0m \u001b[0mraw\u001b[0m\u001b[0;34m.\u001b[0m\u001b[0mdecode\u001b[0m\u001b[0;34m(\u001b[0m\u001b[0mencoding\u001b[0m\u001b[0;34m)\u001b[0m\u001b[0;34m\u001b[0m\u001b[0;34m\u001b[0m\u001b[0m\n\u001b[0;32m--> 161\u001b[0;31m         \u001b[0;32mreturn\u001b[0m \u001b[0mself\u001b[0m\u001b[0;34m.\u001b[0m\u001b[0m_pipe_lines\u001b[0m\u001b[0;34m(\u001b[0m\u001b[0;34m*\u001b[0m\u001b[0margs\u001b[0m\u001b[0;34m,\u001b[0m \u001b[0minput_encoding\u001b[0m\u001b[0;34m=\u001b[0m\u001b[0mself\u001b[0m\u001b[0;34m.\u001b[0m\u001b[0mencoding\u001b[0m\u001b[0;34m,\u001b[0m \u001b[0;34m**\u001b[0m\u001b[0mkwargs\u001b[0m\u001b[0;34m)\u001b[0m\u001b[0;34m\u001b[0m\u001b[0;34m\u001b[0m\u001b[0m\n\u001b[0m",
      "\u001b[0;32m~/opt/anaconda3/lib/python3.9/site-packages/graphviz/backend/piping.py\u001b[0m in \u001b[0;36mpipe_lines\u001b[0;34m(engine, format, input_lines, input_encoding, renderer, formatter, neato_no_op, quiet)\u001b[0m\n\u001b[1;32m    159\u001b[0m     \u001b[0mkwargs\u001b[0m \u001b[0;34m=\u001b[0m \u001b[0;34m{\u001b[0m\u001b[0;34m'input_lines'\u001b[0m\u001b[0;34m:\u001b[0m \u001b[0;34m(\u001b[0m\u001b[0mline\u001b[0m\u001b[0;34m.\u001b[0m\u001b[0mencode\u001b[0m\u001b[0;34m(\u001b[0m\u001b[0minput_encoding\u001b[0m\u001b[0;34m)\u001b[0m \u001b[0;32mfor\u001b[0m \u001b[0mline\u001b[0m \u001b[0;32min\u001b[0m \u001b[0minput_lines\u001b[0m\u001b[0;34m)\u001b[0m\u001b[0;34m}\u001b[0m\u001b[0;34m\u001b[0m\u001b[0;34m\u001b[0m\u001b[0m\n\u001b[1;32m    160\u001b[0m \u001b[0;34m\u001b[0m\u001b[0m\n\u001b[0;32m--> 161\u001b[0;31m     \u001b[0mproc\u001b[0m \u001b[0;34m=\u001b[0m \u001b[0mexecute\u001b[0m\u001b[0;34m.\u001b[0m\u001b[0mrun_check\u001b[0m\u001b[0;34m(\u001b[0m\u001b[0mcmd\u001b[0m\u001b[0;34m,\u001b[0m \u001b[0mcapture_output\u001b[0m\u001b[0;34m=\u001b[0m\u001b[0;32mTrue\u001b[0m\u001b[0;34m,\u001b[0m \u001b[0mquiet\u001b[0m\u001b[0;34m=\u001b[0m\u001b[0mquiet\u001b[0m\u001b[0;34m,\u001b[0m \u001b[0;34m**\u001b[0m\u001b[0mkwargs\u001b[0m\u001b[0;34m)\u001b[0m\u001b[0;34m\u001b[0m\u001b[0;34m\u001b[0m\u001b[0m\n\u001b[0m\u001b[1;32m    162\u001b[0m     \u001b[0;32mreturn\u001b[0m \u001b[0mproc\u001b[0m\u001b[0;34m.\u001b[0m\u001b[0mstdout\u001b[0m\u001b[0;34m\u001b[0m\u001b[0;34m\u001b[0m\u001b[0m\n\u001b[1;32m    163\u001b[0m \u001b[0;34m\u001b[0m\u001b[0m\n",
      "\u001b[0;32m~/opt/anaconda3/lib/python3.9/site-packages/graphviz/backend/execute.py\u001b[0m in \u001b[0;36mrun_check\u001b[0;34m(cmd, input_lines, encoding, quiet, **kwargs)\u001b[0m\n\u001b[1;32m     82\u001b[0m     \u001b[0;32mexcept\u001b[0m \u001b[0mOSError\u001b[0m \u001b[0;32mas\u001b[0m \u001b[0me\u001b[0m\u001b[0;34m:\u001b[0m\u001b[0;34m\u001b[0m\u001b[0;34m\u001b[0m\u001b[0m\n\u001b[1;32m     83\u001b[0m         \u001b[0;32mif\u001b[0m \u001b[0me\u001b[0m\u001b[0;34m.\u001b[0m\u001b[0merrno\u001b[0m \u001b[0;34m==\u001b[0m \u001b[0merrno\u001b[0m\u001b[0;34m.\u001b[0m\u001b[0mENOENT\u001b[0m\u001b[0;34m:\u001b[0m\u001b[0;34m\u001b[0m\u001b[0;34m\u001b[0m\u001b[0m\n\u001b[0;32m---> 84\u001b[0;31m             \u001b[0;32mraise\u001b[0m \u001b[0mExecutableNotFound\u001b[0m\u001b[0;34m(\u001b[0m\u001b[0mcmd\u001b[0m\u001b[0;34m)\u001b[0m \u001b[0;32mfrom\u001b[0m \u001b[0me\u001b[0m\u001b[0;34m\u001b[0m\u001b[0;34m\u001b[0m\u001b[0m\n\u001b[0m\u001b[1;32m     85\u001b[0m         \u001b[0;32mraise\u001b[0m\u001b[0;34m\u001b[0m\u001b[0;34m\u001b[0m\u001b[0m\n\u001b[1;32m     86\u001b[0m \u001b[0;34m\u001b[0m\u001b[0m\n",
      "\u001b[0;31mExecutableNotFound\u001b[0m: failed to execute PosixPath('dot'), make sure the Graphviz executables are on your systems' PATH"
     ]
    }
   ],
   "source": [
    "#I get an error saying asking to make sure that executales are in the system. \n",
    "#I tried bunch of stuff, videos and all but couldn't get it to work. \n",
    "\n",
    "display(SVG(graph.pipe(format = 'svg')))"
   ]
  },
  {
   "cell_type": "markdown",
   "id": "e05c113e",
   "metadata": {},
   "source": [
    "# Question 2 D"
   ]
  },
  {
   "cell_type": "markdown",
   "id": "3ff2dfaf",
   "metadata": {},
   "source": [
    "Use scikit-learn to build classifiers using Naive Bayes (Gaussian) and linear discriminant analysis (LDA).  For each of these perform 10-fold cross-validation on the 80% training data (using cross-validation module in scikit-learn) and report the overall average accuracy. Compare this cross-validation accuracy to the model accuracy on the training data as a whole. Finally, run your model on the set-aside 20% test data.\n"
   ]
  },
  {
   "cell_type": "code",
   "execution_count": 95,
   "id": "95d7f12e",
   "metadata": {},
   "outputs": [],
   "source": [
    "from sklearn.model_selection import cross_val_score"
   ]
  },
  {
   "cell_type": "code",
   "execution_count": 96,
   "id": "967278f1",
   "metadata": {},
   "outputs": [
    {
     "name": "stdout",
     "output_type": "stream",
     "text": [
      "Score on Training:  0.7218754150617612\n",
      "Score on Test:  0.7110993096123208\n"
     ]
    }
   ],
   "source": [
    "nbclf = naive_bayes.GaussianNB()\n",
    "nbclf = nbclf.fit(adult_train, adult_target_train)\n",
    "print(\"Score on Training: \", nbclf.score(adult_train, adult_target_train))\n",
    "print(\"Score on Test: \", nbclf.score(adult_test, adult_target_test))"
   ]
  },
  {
   "cell_type": "code",
   "execution_count": 97,
   "id": "a39ae2d7",
   "metadata": {},
   "outputs": [
    {
     "name": "stdout",
     "output_type": "stream",
     "text": [
      "[0.72 0.71 0.74 0.71 0.72]\n"
     ]
    }
   ],
   "source": [
    "cv_scores = cross_val_score(nbclf, adult_train, adult_target_train, cv=5)\n",
    "print(cv_scores)"
   ]
  },
  {
   "cell_type": "code",
   "execution_count": 98,
   "id": "a215b07f",
   "metadata": {},
   "outputs": [
    {
     "name": "stdout",
     "output_type": "stream",
     "text": [
      "Overall Accuracy: 0.72 (+/- 0.02)\n"
     ]
    }
   ],
   "source": [
    "print(\"Overall Accuracy: %0.2f (+/- %0.2f)\" % (cv_scores.mean(), cv_scores.std() * 2))"
   ]
  },
  {
   "cell_type": "code",
   "execution_count": 99,
   "id": "dadb2146",
   "metadata": {},
   "outputs": [
    {
     "name": "stdout",
     "output_type": "stream",
     "text": [
      "[0 0 0 ... 0 0 0]\n"
     ]
    }
   ],
   "source": [
    "from sklearn.discriminant_analysis import LinearDiscriminantAnalysis\n",
    "\n",
    "ldclf = LinearDiscriminantAnalysis()\n",
    "ldclf = ldclf.fit(adult_train, adult_target_train)\n",
    "ldpreds_test = ldclf.predict(adult_test)\n",
    "print(ldpreds_test)"
   ]
  },
  {
   "cell_type": "code",
   "execution_count": 100,
   "id": "64d6e5e8",
   "metadata": {},
   "outputs": [
    {
     "name": "stdout",
     "output_type": "stream",
     "text": [
      "0.8115287554788152\n"
     ]
    }
   ],
   "source": [
    "print(ldclf.score(adult_train, adult_target_train))"
   ]
  },
  {
   "cell_type": "code",
   "execution_count": 101,
   "id": "5bbd0ae0",
   "metadata": {},
   "outputs": [
    {
     "name": "stdout",
     "output_type": "stream",
     "text": [
      "0.7992565055762082\n"
     ]
    }
   ],
   "source": [
    "print(ldclf.score(adult_test, adult_target_test))"
   ]
  },
  {
   "cell_type": "code",
   "execution_count": 105,
   "id": "a1134331",
   "metadata": {},
   "outputs": [
    {
     "name": "stdout",
     "output_type": "stream",
     "text": [
      "[0.81 0.81 0.81 0.8  0.82]\n"
     ]
    }
   ],
   "source": [
    "cv_scoresLDtrain = cross_val_score(ldclf, adult_train, adult_target_train, cv=5)\n",
    "print(cv_scoresLDtrain)"
   ]
  },
  {
   "cell_type": "code",
   "execution_count": 106,
   "id": "6ec4042b",
   "metadata": {},
   "outputs": [
    {
     "name": "stdout",
     "output_type": "stream",
     "text": [
      "Overall Accuracy for training: 0.81 (+/- 0.02)\n"
     ]
    }
   ],
   "source": [
    "print(\"Overall Accuracy for training: %0.2f (+/- %0.2f)\" % (cv_scoresLDtrain.mean(), cv_scores.std() * 2))"
   ]
  },
  {
   "cell_type": "code",
   "execution_count": 107,
   "id": "8eaafc99",
   "metadata": {},
   "outputs": [],
   "source": [
    "cv_scoresLDtest = cross_val_score(ldclf, adult_test, adult_target_test, cv=5)"
   ]
  },
  {
   "cell_type": "code",
   "execution_count": 108,
   "id": "f745fe96",
   "metadata": {},
   "outputs": [
    {
     "name": "stdout",
     "output_type": "stream",
     "text": [
      "Overall Accuracy for testing: 0.80 (+/- 0.02)\n"
     ]
    }
   ],
   "source": [
    "print(\"Overall Accuracy for testing: %0.2f (+/- %0.2f)\" % (cv_scoresLDtest.mean(), cv_scores.std() * 2))"
   ]
  },
  {
   "attachments": {},
   "cell_type": "raw",
   "id": "94c79e00",
   "metadata": {},
   "source": [
    "                                    Train\tTest\n",
    "KNN(without any parameter)\t        0.843\t0.804\n",
    "KNN(K=27 and Uniform)\t            0.828\t0.817\n",
    "DT(W/o parameter)\t                0.931\t0.760\n",
    "DT(gini, min_split=10, depth =4)\t0.819\t0.813\n",
    "Naïve\t                            0.720\t0.711\n",
    "LD\t                                0.811\t0.799"
   ]
  },
  {
   "cell_type": "markdown",
   "id": "4e0e2472",
   "metadata": {},
   "source": [
    "Decision Tree with out the parameters had the highest overfitting. The best Accuracy was from KNN with K =27. "
   ]
  },
  {
   "cell_type": "code",
   "execution_count": null,
   "id": "c494f1f9",
   "metadata": {},
   "outputs": [],
   "source": []
  }
 ],
 "metadata": {
  "kernelspec": {
   "display_name": "Python 3 (ipykernel)",
   "language": "python",
   "name": "python3"
  },
  "language_info": {
   "codemirror_mode": {
    "name": "ipython",
    "version": 3
   },
   "file_extension": ".py",
   "mimetype": "text/x-python",
   "name": "python",
   "nbconvert_exporter": "python",
   "pygments_lexer": "ipython3",
   "version": "3.9.7"
  }
 },
 "nbformat": 4,
 "nbformat_minor": 5
}
