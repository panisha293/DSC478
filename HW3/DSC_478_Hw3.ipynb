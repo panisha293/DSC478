{
 "cells": [
  {
   "cell_type": "markdown",
   "id": "1a4f0a66",
   "metadata": {},
   "source": [
    "# Anisha Patel\n",
    "DSC 478"
   ]
  },
  {
   "cell_type": "code",
   "execution_count": 107,
   "id": "b11dab3a",
   "metadata": {},
   "outputs": [],
   "source": [
    "import pandas as pd\n",
    "import numpy as np\n",
    "import pylab as pl\n",
    "import matplotlib.pyplot as plt\n",
    "%matplotlib inline\n",
    "\n",
    "from sklearn.model_selection import KFold, train_test_split, cross_val_score, cross_validate\n",
    "from sklearn.linear_model import LinearRegression, Lasso, Ridge, ElasticNet, SGDRegressor\n",
    "from sklearn import feature_selection\n",
    "from sklearn.preprocessing import StandardScaler\n",
    "from sklearn.model_selection import GridSearchCV\n"
   ]
  },
  {
   "cell_type": "code",
   "execution_count": 108,
   "id": "b440105d",
   "metadata": {},
   "outputs": [],
   "source": [
    "community = pd.read_csv(\"/Users/vinodpatel/Desktop/DePaul/DSC 478 Programming machine learning/Hw3/communities/communities.csv\", na_values =[\"?\", \"Null\", \"missing\"])"
   ]
  },
  {
   "cell_type": "code",
   "execution_count": 109,
   "id": "6b1e8dbb",
   "metadata": {},
   "outputs": [
    {
     "data": {
      "text/html": [
       "<div>\n",
       "<style scoped>\n",
       "    .dataframe tbody tr th:only-of-type {\n",
       "        vertical-align: middle;\n",
       "    }\n",
       "\n",
       "    .dataframe tbody tr th {\n",
       "        vertical-align: top;\n",
       "    }\n",
       "\n",
       "    .dataframe thead th {\n",
       "        text-align: right;\n",
       "    }\n",
       "</style>\n",
       "<table border=\"1\" class=\"dataframe\">\n",
       "  <thead>\n",
       "    <tr style=\"text-align: right;\">\n",
       "      <th></th>\n",
       "      <th>state</th>\n",
       "      <th>communityname</th>\n",
       "      <th>population</th>\n",
       "      <th>householdsize</th>\n",
       "      <th>racepctblack</th>\n",
       "      <th>racePctWhite</th>\n",
       "      <th>racePctAsian</th>\n",
       "      <th>racePctHisp</th>\n",
       "      <th>agePct12t21</th>\n",
       "      <th>agePct12t29</th>\n",
       "      <th>...</th>\n",
       "      <th>NumStreet</th>\n",
       "      <th>PctForeignBorn</th>\n",
       "      <th>PctBornSameState</th>\n",
       "      <th>PctSameHouse85</th>\n",
       "      <th>PctSameCity85</th>\n",
       "      <th>PctSameState85</th>\n",
       "      <th>LandArea</th>\n",
       "      <th>PopDens</th>\n",
       "      <th>PctUsePubTrans</th>\n",
       "      <th>ViolentCrimesPerPop</th>\n",
       "    </tr>\n",
       "  </thead>\n",
       "  <tbody>\n",
       "    <tr>\n",
       "      <th>0</th>\n",
       "      <td>8</td>\n",
       "      <td>Lakewoodcity</td>\n",
       "      <td>0.19</td>\n",
       "      <td>0.33</td>\n",
       "      <td>0.02</td>\n",
       "      <td>0.90</td>\n",
       "      <td>0.12</td>\n",
       "      <td>0.17</td>\n",
       "      <td>0.34</td>\n",
       "      <td>0.47</td>\n",
       "      <td>...</td>\n",
       "      <td>0.0</td>\n",
       "      <td>0.12</td>\n",
       "      <td>0.42</td>\n",
       "      <td>0.50</td>\n",
       "      <td>0.51</td>\n",
       "      <td>0.64</td>\n",
       "      <td>0.12</td>\n",
       "      <td>0.26</td>\n",
       "      <td>0.20</td>\n",
       "      <td>0.20</td>\n",
       "    </tr>\n",
       "    <tr>\n",
       "      <th>1</th>\n",
       "      <td>53</td>\n",
       "      <td>Tukwilacity</td>\n",
       "      <td>0.00</td>\n",
       "      <td>0.16</td>\n",
       "      <td>0.12</td>\n",
       "      <td>0.74</td>\n",
       "      <td>0.45</td>\n",
       "      <td>0.07</td>\n",
       "      <td>0.26</td>\n",
       "      <td>0.59</td>\n",
       "      <td>...</td>\n",
       "      <td>0.0</td>\n",
       "      <td>0.21</td>\n",
       "      <td>0.50</td>\n",
       "      <td>0.34</td>\n",
       "      <td>0.60</td>\n",
       "      <td>0.52</td>\n",
       "      <td>0.02</td>\n",
       "      <td>0.12</td>\n",
       "      <td>0.45</td>\n",
       "      <td>0.67</td>\n",
       "    </tr>\n",
       "    <tr>\n",
       "      <th>2</th>\n",
       "      <td>24</td>\n",
       "      <td>Aberdeentown</td>\n",
       "      <td>0.00</td>\n",
       "      <td>0.42</td>\n",
       "      <td>0.49</td>\n",
       "      <td>0.56</td>\n",
       "      <td>0.17</td>\n",
       "      <td>0.04</td>\n",
       "      <td>0.39</td>\n",
       "      <td>0.47</td>\n",
       "      <td>...</td>\n",
       "      <td>0.0</td>\n",
       "      <td>0.14</td>\n",
       "      <td>0.49</td>\n",
       "      <td>0.54</td>\n",
       "      <td>0.67</td>\n",
       "      <td>0.56</td>\n",
       "      <td>0.01</td>\n",
       "      <td>0.21</td>\n",
       "      <td>0.02</td>\n",
       "      <td>0.43</td>\n",
       "    </tr>\n",
       "    <tr>\n",
       "      <th>3</th>\n",
       "      <td>34</td>\n",
       "      <td>Willingborotownship</td>\n",
       "      <td>0.04</td>\n",
       "      <td>0.77</td>\n",
       "      <td>1.00</td>\n",
       "      <td>0.08</td>\n",
       "      <td>0.12</td>\n",
       "      <td>0.10</td>\n",
       "      <td>0.51</td>\n",
       "      <td>0.50</td>\n",
       "      <td>...</td>\n",
       "      <td>0.0</td>\n",
       "      <td>0.19</td>\n",
       "      <td>0.30</td>\n",
       "      <td>0.73</td>\n",
       "      <td>0.64</td>\n",
       "      <td>0.65</td>\n",
       "      <td>0.02</td>\n",
       "      <td>0.39</td>\n",
       "      <td>0.28</td>\n",
       "      <td>0.12</td>\n",
       "    </tr>\n",
       "    <tr>\n",
       "      <th>4</th>\n",
       "      <td>42</td>\n",
       "      <td>Bethlehemtownship</td>\n",
       "      <td>0.01</td>\n",
       "      <td>0.55</td>\n",
       "      <td>0.02</td>\n",
       "      <td>0.95</td>\n",
       "      <td>0.09</td>\n",
       "      <td>0.05</td>\n",
       "      <td>0.38</td>\n",
       "      <td>0.38</td>\n",
       "      <td>...</td>\n",
       "      <td>0.0</td>\n",
       "      <td>0.11</td>\n",
       "      <td>0.72</td>\n",
       "      <td>0.64</td>\n",
       "      <td>0.61</td>\n",
       "      <td>0.53</td>\n",
       "      <td>0.04</td>\n",
       "      <td>0.09</td>\n",
       "      <td>0.02</td>\n",
       "      <td>0.03</td>\n",
       "    </tr>\n",
       "  </tbody>\n",
       "</table>\n",
       "<p>5 rows × 100 columns</p>\n",
       "</div>"
      ],
      "text/plain": [
       "   state        communityname  population  householdsize  racepctblack  \\\n",
       "0      8         Lakewoodcity        0.19           0.33          0.02   \n",
       "1     53          Tukwilacity        0.00           0.16          0.12   \n",
       "2     24         Aberdeentown        0.00           0.42          0.49   \n",
       "3     34  Willingborotownship        0.04           0.77          1.00   \n",
       "4     42    Bethlehemtownship        0.01           0.55          0.02   \n",
       "\n",
       "   racePctWhite  racePctAsian  racePctHisp  agePct12t21  agePct12t29  ...  \\\n",
       "0          0.90          0.12         0.17         0.34         0.47  ...   \n",
       "1          0.74          0.45         0.07         0.26         0.59  ...   \n",
       "2          0.56          0.17         0.04         0.39         0.47  ...   \n",
       "3          0.08          0.12         0.10         0.51         0.50  ...   \n",
       "4          0.95          0.09         0.05         0.38         0.38  ...   \n",
       "\n",
       "   NumStreet  PctForeignBorn  PctBornSameState  PctSameHouse85  PctSameCity85  \\\n",
       "0        0.0            0.12              0.42            0.50           0.51   \n",
       "1        0.0            0.21              0.50            0.34           0.60   \n",
       "2        0.0            0.14              0.49            0.54           0.67   \n",
       "3        0.0            0.19              0.30            0.73           0.64   \n",
       "4        0.0            0.11              0.72            0.64           0.61   \n",
       "\n",
       "   PctSameState85  LandArea  PopDens  PctUsePubTrans  ViolentCrimesPerPop  \n",
       "0            0.64      0.12     0.26            0.20                 0.20  \n",
       "1            0.52      0.02     0.12            0.45                 0.67  \n",
       "2            0.56      0.01     0.21            0.02                 0.43  \n",
       "3            0.65      0.02     0.39            0.28                 0.12  \n",
       "4            0.53      0.04     0.09            0.02                 0.03  \n",
       "\n",
       "[5 rows x 100 columns]"
      ]
     },
     "execution_count": 109,
     "metadata": {},
     "output_type": "execute_result"
    }
   ],
   "source": [
    "community.head()"
   ]
  },
  {
   "cell_type": "code",
   "execution_count": 110,
   "id": "11e4a54a",
   "metadata": {},
   "outputs": [
    {
     "name": "stdout",
     "output_type": "stream",
     "text": [
      "<class 'pandas.core.frame.DataFrame'>\n",
      "RangeIndex: 1994 entries, 0 to 1993\n",
      "Data columns (total 100 columns):\n",
      " #   Column                 Non-Null Count  Dtype  \n",
      "---  ------                 --------------  -----  \n",
      " 0   state                  1994 non-null   int64  \n",
      " 1   communityname          1994 non-null   object \n",
      " 2   population             1994 non-null   float64\n",
      " 3   householdsize          1994 non-null   float64\n",
      " 4   racepctblack           1994 non-null   float64\n",
      " 5   racePctWhite           1994 non-null   float64\n",
      " 6   racePctAsian           1994 non-null   float64\n",
      " 7   racePctHisp            1994 non-null   float64\n",
      " 8   agePct12t21            1994 non-null   float64\n",
      " 9   agePct12t29            1994 non-null   float64\n",
      " 10  agePct16t24            1994 non-null   float64\n",
      " 11  agePct65up             1994 non-null   float64\n",
      " 12  numbUrban              1994 non-null   float64\n",
      " 13  pctUrban               1994 non-null   float64\n",
      " 14  medIncome              1994 non-null   float64\n",
      " 15  pctWWage               1994 non-null   float64\n",
      " 16  pctWFarmSelf           1994 non-null   float64\n",
      " 17  pctWInvInc             1994 non-null   float64\n",
      " 18  pctWSocSec             1994 non-null   float64\n",
      " 19  pctWPubAsst            1994 non-null   float64\n",
      " 20  pctWRetire             1994 non-null   float64\n",
      " 21  medFamInc              1994 non-null   float64\n",
      " 22  perCapInc              1994 non-null   float64\n",
      " 23  whitePerCap            1994 non-null   float64\n",
      " 24  blackPerCap            1994 non-null   float64\n",
      " 25  indianPerCap           1994 non-null   float64\n",
      " 26  AsianPerCap            1994 non-null   float64\n",
      " 27  OtherPerCap            1993 non-null   float64\n",
      " 28  HispPerCap             1994 non-null   float64\n",
      " 29  NumUnderPov            1994 non-null   float64\n",
      " 30  PctPopUnderPov         1994 non-null   float64\n",
      " 31  PctLess9thGrade        1994 non-null   float64\n",
      " 32  PctNotHSGrad           1994 non-null   float64\n",
      " 33  PctBSorMore            1994 non-null   float64\n",
      " 34  PctUnemployed          1994 non-null   float64\n",
      " 35  PctEmploy              1994 non-null   float64\n",
      " 36  PctEmplManu            1994 non-null   float64\n",
      " 37  PctEmplProfServ        1994 non-null   float64\n",
      " 38  MalePctDivorce         1994 non-null   float64\n",
      " 39  MalePctNevMarr         1994 non-null   float64\n",
      " 40  FemalePctDiv           1994 non-null   float64\n",
      " 41  TotalPctDiv            1994 non-null   float64\n",
      " 42  PersPerFam             1994 non-null   float64\n",
      " 43  PctFam2Par             1994 non-null   float64\n",
      " 44  PctKids2Par            1994 non-null   float64\n",
      " 45  PctYoungKids2Par       1994 non-null   float64\n",
      " 46  PctTeen2Par            1994 non-null   float64\n",
      " 47  PctWorkMomYoungKids    1994 non-null   float64\n",
      " 48  PctWorkMom             1994 non-null   float64\n",
      " 49  NumIlleg               1994 non-null   float64\n",
      " 50  PctIlleg               1994 non-null   float64\n",
      " 51  NumImmig               1994 non-null   float64\n",
      " 52  PctImmigRecent         1994 non-null   float64\n",
      " 53  PctImmigRec5           1994 non-null   float64\n",
      " 54  PctImmigRec8           1994 non-null   float64\n",
      " 55  PctImmigRec10          1994 non-null   float64\n",
      " 56  PctRecentImmig         1994 non-null   float64\n",
      " 57  PctRecImmig5           1994 non-null   float64\n",
      " 58  PctRecImmig8           1994 non-null   float64\n",
      " 59  PctRecImmig10          1994 non-null   float64\n",
      " 60  PctSpeakEnglOnly       1994 non-null   float64\n",
      " 61  PctNotSpeakEnglWell    1994 non-null   float64\n",
      " 62  PctLargHouseFam        1994 non-null   float64\n",
      " 63  PctLargHouseOccup      1994 non-null   float64\n",
      " 64  PersPerOccupHous       1994 non-null   float64\n",
      " 65  PersPerOwnOccHous      1994 non-null   float64\n",
      " 66  PersPerRentOccHous     1994 non-null   float64\n",
      " 67  PctPersOwnOccup        1994 non-null   float64\n",
      " 68  PctPersDenseHous       1994 non-null   float64\n",
      " 69  PctHousLess3BR         1994 non-null   float64\n",
      " 70  MedNumBR               1994 non-null   float64\n",
      " 71  HousVacant             1994 non-null   float64\n",
      " 72  PctHousOccup           1994 non-null   float64\n",
      " 73  PctHousOwnOcc          1994 non-null   float64\n",
      " 74  PctVacantBoarded       1994 non-null   float64\n",
      " 75  PctVacMore6Mos         1994 non-null   float64\n",
      " 76  MedYrHousBuilt         1994 non-null   float64\n",
      " 77  PctHousNoPhone         1994 non-null   float64\n",
      " 78  PctWOFullPlumb         1994 non-null   float64\n",
      " 79  OwnOccLowQuart         1994 non-null   float64\n",
      " 80  OwnOccMedVal           1994 non-null   float64\n",
      " 81  OwnOccHiQuart          1994 non-null   float64\n",
      " 82  RentLowQ               1994 non-null   float64\n",
      " 83  RentMedian             1994 non-null   float64\n",
      " 84  RentHighQ              1994 non-null   float64\n",
      " 85  MedRent                1994 non-null   float64\n",
      " 86  MedRentPctHousInc      1994 non-null   float64\n",
      " 87  MedOwnCostPctInc       1994 non-null   float64\n",
      " 88  MedOwnCostPctIncNoMtg  1994 non-null   float64\n",
      " 89  NumInShelters          1994 non-null   float64\n",
      " 90  NumStreet              1994 non-null   float64\n",
      " 91  PctForeignBorn         1994 non-null   float64\n",
      " 92  PctBornSameState       1994 non-null   float64\n",
      " 93  PctSameHouse85         1994 non-null   float64\n",
      " 94  PctSameCity85          1994 non-null   float64\n",
      " 95  PctSameState85         1994 non-null   float64\n",
      " 96  LandArea               1994 non-null   float64\n",
      " 97  PopDens                1994 non-null   float64\n",
      " 98  PctUsePubTrans         1994 non-null   float64\n",
      " 99  ViolentCrimesPerPop    1994 non-null   float64\n",
      "dtypes: float64(98), int64(1), object(1)\n",
      "memory usage: 1.5+ MB\n"
     ]
    }
   ],
   "source": [
    "community.info()\n",
    "\n",
    "##OtherPerCap has 1993 instances, replace the \"?\" with its mean"
   ]
  },
  {
   "cell_type": "code",
   "execution_count": 112,
   "id": "fac4332f",
   "metadata": {},
   "outputs": [
    {
     "data": {
      "text/html": [
       "<div>\n",
       "<style scoped>\n",
       "    .dataframe tbody tr th:only-of-type {\n",
       "        vertical-align: middle;\n",
       "    }\n",
       "\n",
       "    .dataframe tbody tr th {\n",
       "        vertical-align: top;\n",
       "    }\n",
       "\n",
       "    .dataframe thead th {\n",
       "        text-align: right;\n",
       "    }\n",
       "</style>\n",
       "<table border=\"1\" class=\"dataframe\">\n",
       "  <thead>\n",
       "    <tr style=\"text-align: right;\">\n",
       "      <th></th>\n",
       "      <th>state</th>\n",
       "      <th>communityname</th>\n",
       "      <th>population</th>\n",
       "      <th>householdsize</th>\n",
       "      <th>racepctblack</th>\n",
       "      <th>racePctWhite</th>\n",
       "      <th>racePctAsian</th>\n",
       "      <th>racePctHisp</th>\n",
       "      <th>agePct12t21</th>\n",
       "      <th>agePct12t29</th>\n",
       "      <th>...</th>\n",
       "      <th>NumStreet</th>\n",
       "      <th>PctForeignBorn</th>\n",
       "      <th>PctBornSameState</th>\n",
       "      <th>PctSameHouse85</th>\n",
       "      <th>PctSameCity85</th>\n",
       "      <th>PctSameState85</th>\n",
       "      <th>LandArea</th>\n",
       "      <th>PopDens</th>\n",
       "      <th>PctUsePubTrans</th>\n",
       "      <th>ViolentCrimesPerPop</th>\n",
       "    </tr>\n",
       "  </thead>\n",
       "  <tbody>\n",
       "    <tr>\n",
       "      <th>count</th>\n",
       "      <td>1994.000000</td>\n",
       "      <td>1994</td>\n",
       "      <td>1994.000000</td>\n",
       "      <td>1994.000000</td>\n",
       "      <td>1994.000000</td>\n",
       "      <td>1994.000000</td>\n",
       "      <td>1994.000000</td>\n",
       "      <td>1994.000000</td>\n",
       "      <td>1994.000000</td>\n",
       "      <td>1994.000000</td>\n",
       "      <td>...</td>\n",
       "      <td>1994.000000</td>\n",
       "      <td>1994.000000</td>\n",
       "      <td>1994.000000</td>\n",
       "      <td>1994.000000</td>\n",
       "      <td>1994.000000</td>\n",
       "      <td>1994.000000</td>\n",
       "      <td>1994.000000</td>\n",
       "      <td>1994.000000</td>\n",
       "      <td>1994.000000</td>\n",
       "      <td>1994.000000</td>\n",
       "    </tr>\n",
       "    <tr>\n",
       "      <th>unique</th>\n",
       "      <td>NaN</td>\n",
       "      <td>1828</td>\n",
       "      <td>NaN</td>\n",
       "      <td>NaN</td>\n",
       "      <td>NaN</td>\n",
       "      <td>NaN</td>\n",
       "      <td>NaN</td>\n",
       "      <td>NaN</td>\n",
       "      <td>NaN</td>\n",
       "      <td>NaN</td>\n",
       "      <td>...</td>\n",
       "      <td>NaN</td>\n",
       "      <td>NaN</td>\n",
       "      <td>NaN</td>\n",
       "      <td>NaN</td>\n",
       "      <td>NaN</td>\n",
       "      <td>NaN</td>\n",
       "      <td>NaN</td>\n",
       "      <td>NaN</td>\n",
       "      <td>NaN</td>\n",
       "      <td>NaN</td>\n",
       "    </tr>\n",
       "    <tr>\n",
       "      <th>top</th>\n",
       "      <td>NaN</td>\n",
       "      <td>Greenvillecity</td>\n",
       "      <td>NaN</td>\n",
       "      <td>NaN</td>\n",
       "      <td>NaN</td>\n",
       "      <td>NaN</td>\n",
       "      <td>NaN</td>\n",
       "      <td>NaN</td>\n",
       "      <td>NaN</td>\n",
       "      <td>NaN</td>\n",
       "      <td>...</td>\n",
       "      <td>NaN</td>\n",
       "      <td>NaN</td>\n",
       "      <td>NaN</td>\n",
       "      <td>NaN</td>\n",
       "      <td>NaN</td>\n",
       "      <td>NaN</td>\n",
       "      <td>NaN</td>\n",
       "      <td>NaN</td>\n",
       "      <td>NaN</td>\n",
       "      <td>NaN</td>\n",
       "    </tr>\n",
       "    <tr>\n",
       "      <th>freq</th>\n",
       "      <td>NaN</td>\n",
       "      <td>5</td>\n",
       "      <td>NaN</td>\n",
       "      <td>NaN</td>\n",
       "      <td>NaN</td>\n",
       "      <td>NaN</td>\n",
       "      <td>NaN</td>\n",
       "      <td>NaN</td>\n",
       "      <td>NaN</td>\n",
       "      <td>NaN</td>\n",
       "      <td>...</td>\n",
       "      <td>NaN</td>\n",
       "      <td>NaN</td>\n",
       "      <td>NaN</td>\n",
       "      <td>NaN</td>\n",
       "      <td>NaN</td>\n",
       "      <td>NaN</td>\n",
       "      <td>NaN</td>\n",
       "      <td>NaN</td>\n",
       "      <td>NaN</td>\n",
       "      <td>NaN</td>\n",
       "    </tr>\n",
       "    <tr>\n",
       "      <th>mean</th>\n",
       "      <td>28.683551</td>\n",
       "      <td>NaN</td>\n",
       "      <td>0.057593</td>\n",
       "      <td>0.463395</td>\n",
       "      <td>0.179629</td>\n",
       "      <td>0.753716</td>\n",
       "      <td>0.153681</td>\n",
       "      <td>0.144022</td>\n",
       "      <td>0.424218</td>\n",
       "      <td>0.493867</td>\n",
       "      <td>...</td>\n",
       "      <td>0.022778</td>\n",
       "      <td>0.215552</td>\n",
       "      <td>0.608892</td>\n",
       "      <td>0.535050</td>\n",
       "      <td>0.626424</td>\n",
       "      <td>0.651530</td>\n",
       "      <td>0.065231</td>\n",
       "      <td>0.232854</td>\n",
       "      <td>0.161685</td>\n",
       "      <td>0.237979</td>\n",
       "    </tr>\n",
       "    <tr>\n",
       "      <th>std</th>\n",
       "      <td>16.397553</td>\n",
       "      <td>NaN</td>\n",
       "      <td>0.126906</td>\n",
       "      <td>0.163717</td>\n",
       "      <td>0.253442</td>\n",
       "      <td>0.244039</td>\n",
       "      <td>0.208877</td>\n",
       "      <td>0.232492</td>\n",
       "      <td>0.155196</td>\n",
       "      <td>0.143564</td>\n",
       "      <td>...</td>\n",
       "      <td>0.100400</td>\n",
       "      <td>0.231134</td>\n",
       "      <td>0.204329</td>\n",
       "      <td>0.181352</td>\n",
       "      <td>0.200521</td>\n",
       "      <td>0.198221</td>\n",
       "      <td>0.109459</td>\n",
       "      <td>0.203092</td>\n",
       "      <td>0.229055</td>\n",
       "      <td>0.232985</td>\n",
       "    </tr>\n",
       "    <tr>\n",
       "      <th>min</th>\n",
       "      <td>1.000000</td>\n",
       "      <td>NaN</td>\n",
       "      <td>0.000000</td>\n",
       "      <td>0.000000</td>\n",
       "      <td>0.000000</td>\n",
       "      <td>0.000000</td>\n",
       "      <td>0.000000</td>\n",
       "      <td>0.000000</td>\n",
       "      <td>0.000000</td>\n",
       "      <td>0.000000</td>\n",
       "      <td>...</td>\n",
       "      <td>0.000000</td>\n",
       "      <td>0.000000</td>\n",
       "      <td>0.000000</td>\n",
       "      <td>0.000000</td>\n",
       "      <td>0.000000</td>\n",
       "      <td>0.000000</td>\n",
       "      <td>0.000000</td>\n",
       "      <td>0.000000</td>\n",
       "      <td>0.000000</td>\n",
       "      <td>0.000000</td>\n",
       "    </tr>\n",
       "    <tr>\n",
       "      <th>25%</th>\n",
       "      <td>12.000000</td>\n",
       "      <td>NaN</td>\n",
       "      <td>0.010000</td>\n",
       "      <td>0.350000</td>\n",
       "      <td>0.020000</td>\n",
       "      <td>0.630000</td>\n",
       "      <td>0.040000</td>\n",
       "      <td>0.010000</td>\n",
       "      <td>0.340000</td>\n",
       "      <td>0.410000</td>\n",
       "      <td>...</td>\n",
       "      <td>0.000000</td>\n",
       "      <td>0.060000</td>\n",
       "      <td>0.470000</td>\n",
       "      <td>0.420000</td>\n",
       "      <td>0.520000</td>\n",
       "      <td>0.560000</td>\n",
       "      <td>0.020000</td>\n",
       "      <td>0.100000</td>\n",
       "      <td>0.020000</td>\n",
       "      <td>0.070000</td>\n",
       "    </tr>\n",
       "    <tr>\n",
       "      <th>50%</th>\n",
       "      <td>34.000000</td>\n",
       "      <td>NaN</td>\n",
       "      <td>0.020000</td>\n",
       "      <td>0.440000</td>\n",
       "      <td>0.060000</td>\n",
       "      <td>0.850000</td>\n",
       "      <td>0.070000</td>\n",
       "      <td>0.040000</td>\n",
       "      <td>0.400000</td>\n",
       "      <td>0.480000</td>\n",
       "      <td>...</td>\n",
       "      <td>0.000000</td>\n",
       "      <td>0.130000</td>\n",
       "      <td>0.630000</td>\n",
       "      <td>0.540000</td>\n",
       "      <td>0.670000</td>\n",
       "      <td>0.700000</td>\n",
       "      <td>0.040000</td>\n",
       "      <td>0.170000</td>\n",
       "      <td>0.070000</td>\n",
       "      <td>0.150000</td>\n",
       "    </tr>\n",
       "    <tr>\n",
       "      <th>75%</th>\n",
       "      <td>42.000000</td>\n",
       "      <td>NaN</td>\n",
       "      <td>0.050000</td>\n",
       "      <td>0.540000</td>\n",
       "      <td>0.230000</td>\n",
       "      <td>0.940000</td>\n",
       "      <td>0.170000</td>\n",
       "      <td>0.160000</td>\n",
       "      <td>0.470000</td>\n",
       "      <td>0.540000</td>\n",
       "      <td>...</td>\n",
       "      <td>0.000000</td>\n",
       "      <td>0.280000</td>\n",
       "      <td>0.777500</td>\n",
       "      <td>0.660000</td>\n",
       "      <td>0.770000</td>\n",
       "      <td>0.790000</td>\n",
       "      <td>0.070000</td>\n",
       "      <td>0.280000</td>\n",
       "      <td>0.190000</td>\n",
       "      <td>0.330000</td>\n",
       "    </tr>\n",
       "    <tr>\n",
       "      <th>max</th>\n",
       "      <td>56.000000</td>\n",
       "      <td>NaN</td>\n",
       "      <td>1.000000</td>\n",
       "      <td>1.000000</td>\n",
       "      <td>1.000000</td>\n",
       "      <td>1.000000</td>\n",
       "      <td>1.000000</td>\n",
       "      <td>1.000000</td>\n",
       "      <td>1.000000</td>\n",
       "      <td>1.000000</td>\n",
       "      <td>...</td>\n",
       "      <td>1.000000</td>\n",
       "      <td>1.000000</td>\n",
       "      <td>1.000000</td>\n",
       "      <td>1.000000</td>\n",
       "      <td>1.000000</td>\n",
       "      <td>1.000000</td>\n",
       "      <td>1.000000</td>\n",
       "      <td>1.000000</td>\n",
       "      <td>1.000000</td>\n",
       "      <td>1.000000</td>\n",
       "    </tr>\n",
       "  </tbody>\n",
       "</table>\n",
       "<p>11 rows × 100 columns</p>\n",
       "</div>"
      ],
      "text/plain": [
       "              state   communityname   population  householdsize  racepctblack  \\\n",
       "count   1994.000000            1994  1994.000000    1994.000000   1994.000000   \n",
       "unique          NaN            1828          NaN            NaN           NaN   \n",
       "top             NaN  Greenvillecity          NaN            NaN           NaN   \n",
       "freq            NaN               5          NaN            NaN           NaN   \n",
       "mean      28.683551             NaN     0.057593       0.463395      0.179629   \n",
       "std       16.397553             NaN     0.126906       0.163717      0.253442   \n",
       "min        1.000000             NaN     0.000000       0.000000      0.000000   \n",
       "25%       12.000000             NaN     0.010000       0.350000      0.020000   \n",
       "50%       34.000000             NaN     0.020000       0.440000      0.060000   \n",
       "75%       42.000000             NaN     0.050000       0.540000      0.230000   \n",
       "max       56.000000             NaN     1.000000       1.000000      1.000000   \n",
       "\n",
       "        racePctWhite  racePctAsian  racePctHisp  agePct12t21  agePct12t29  \\\n",
       "count    1994.000000   1994.000000  1994.000000  1994.000000  1994.000000   \n",
       "unique           NaN           NaN          NaN          NaN          NaN   \n",
       "top              NaN           NaN          NaN          NaN          NaN   \n",
       "freq             NaN           NaN          NaN          NaN          NaN   \n",
       "mean        0.753716      0.153681     0.144022     0.424218     0.493867   \n",
       "std         0.244039      0.208877     0.232492     0.155196     0.143564   \n",
       "min         0.000000      0.000000     0.000000     0.000000     0.000000   \n",
       "25%         0.630000      0.040000     0.010000     0.340000     0.410000   \n",
       "50%         0.850000      0.070000     0.040000     0.400000     0.480000   \n",
       "75%         0.940000      0.170000     0.160000     0.470000     0.540000   \n",
       "max         1.000000      1.000000     1.000000     1.000000     1.000000   \n",
       "\n",
       "        ...    NumStreet  PctForeignBorn  PctBornSameState  PctSameHouse85  \\\n",
       "count   ...  1994.000000     1994.000000       1994.000000     1994.000000   \n",
       "unique  ...          NaN             NaN               NaN             NaN   \n",
       "top     ...          NaN             NaN               NaN             NaN   \n",
       "freq    ...          NaN             NaN               NaN             NaN   \n",
       "mean    ...     0.022778        0.215552          0.608892        0.535050   \n",
       "std     ...     0.100400        0.231134          0.204329        0.181352   \n",
       "min     ...     0.000000        0.000000          0.000000        0.000000   \n",
       "25%     ...     0.000000        0.060000          0.470000        0.420000   \n",
       "50%     ...     0.000000        0.130000          0.630000        0.540000   \n",
       "75%     ...     0.000000        0.280000          0.777500        0.660000   \n",
       "max     ...     1.000000        1.000000          1.000000        1.000000   \n",
       "\n",
       "        PctSameCity85  PctSameState85     LandArea      PopDens  \\\n",
       "count     1994.000000     1994.000000  1994.000000  1994.000000   \n",
       "unique            NaN             NaN          NaN          NaN   \n",
       "top               NaN             NaN          NaN          NaN   \n",
       "freq              NaN             NaN          NaN          NaN   \n",
       "mean         0.626424        0.651530     0.065231     0.232854   \n",
       "std          0.200521        0.198221     0.109459     0.203092   \n",
       "min          0.000000        0.000000     0.000000     0.000000   \n",
       "25%          0.520000        0.560000     0.020000     0.100000   \n",
       "50%          0.670000        0.700000     0.040000     0.170000   \n",
       "75%          0.770000        0.790000     0.070000     0.280000   \n",
       "max          1.000000        1.000000     1.000000     1.000000   \n",
       "\n",
       "        PctUsePubTrans  ViolentCrimesPerPop  \n",
       "count      1994.000000          1994.000000  \n",
       "unique             NaN                  NaN  \n",
       "top                NaN                  NaN  \n",
       "freq               NaN                  NaN  \n",
       "mean          0.161685             0.237979  \n",
       "std           0.229055             0.232985  \n",
       "min           0.000000             0.000000  \n",
       "25%           0.020000             0.070000  \n",
       "50%           0.070000             0.150000  \n",
       "75%           0.190000             0.330000  \n",
       "max           1.000000             1.000000  \n",
       "\n",
       "[11 rows x 100 columns]"
      ]
     },
     "execution_count": 112,
     "metadata": {},
     "output_type": "execute_result"
    }
   ],
   "source": [
    "community.describe(include = 'all')"
   ]
  },
  {
   "cell_type": "code",
   "execution_count": 113,
   "id": "532cf890",
   "metadata": {},
   "outputs": [
    {
     "data": {
      "text/plain": [
       "1"
      ]
     },
     "execution_count": 113,
     "metadata": {},
     "output_type": "execute_result"
    }
   ],
   "source": [
    "community.isnull().sum().sum()"
   ]
  },
  {
   "cell_type": "code",
   "execution_count": 114,
   "id": "52a7e8c8",
   "metadata": {},
   "outputs": [
    {
     "data": {
      "text/html": [
       "<div>\n",
       "<style scoped>\n",
       "    .dataframe tbody tr th:only-of-type {\n",
       "        vertical-align: middle;\n",
       "    }\n",
       "\n",
       "    .dataframe tbody tr th {\n",
       "        vertical-align: top;\n",
       "    }\n",
       "\n",
       "    .dataframe thead th {\n",
       "        text-align: right;\n",
       "    }\n",
       "</style>\n",
       "<table border=\"1\" class=\"dataframe\">\n",
       "  <thead>\n",
       "    <tr style=\"text-align: right;\">\n",
       "      <th></th>\n",
       "      <th>state</th>\n",
       "      <th>communityname</th>\n",
       "      <th>population</th>\n",
       "      <th>householdsize</th>\n",
       "      <th>racepctblack</th>\n",
       "      <th>racePctWhite</th>\n",
       "      <th>racePctAsian</th>\n",
       "      <th>racePctHisp</th>\n",
       "      <th>agePct12t21</th>\n",
       "      <th>agePct12t29</th>\n",
       "      <th>...</th>\n",
       "      <th>NumStreet</th>\n",
       "      <th>PctForeignBorn</th>\n",
       "      <th>PctBornSameState</th>\n",
       "      <th>PctSameHouse85</th>\n",
       "      <th>PctSameCity85</th>\n",
       "      <th>PctSameState85</th>\n",
       "      <th>LandArea</th>\n",
       "      <th>PopDens</th>\n",
       "      <th>PctUsePubTrans</th>\n",
       "      <th>ViolentCrimesPerPop</th>\n",
       "    </tr>\n",
       "  </thead>\n",
       "  <tbody>\n",
       "    <tr>\n",
       "      <th>130</th>\n",
       "      <td>28</td>\n",
       "      <td>Natchezcity</td>\n",
       "      <td>0.02</td>\n",
       "      <td>0.38</td>\n",
       "      <td>0.98</td>\n",
       "      <td>0.22</td>\n",
       "      <td>0.01</td>\n",
       "      <td>0.01</td>\n",
       "      <td>0.44</td>\n",
       "      <td>0.4</td>\n",
       "      <td>...</td>\n",
       "      <td>0.0</td>\n",
       "      <td>0.01</td>\n",
       "      <td>0.84</td>\n",
       "      <td>0.7</td>\n",
       "      <td>0.83</td>\n",
       "      <td>0.77</td>\n",
       "      <td>0.04</td>\n",
       "      <td>0.12</td>\n",
       "      <td>0.05</td>\n",
       "      <td>0.23</td>\n",
       "    </tr>\n",
       "  </tbody>\n",
       "</table>\n",
       "<p>1 rows × 100 columns</p>\n",
       "</div>"
      ],
      "text/plain": [
       "     state communityname  population  householdsize  racepctblack  \\\n",
       "130     28   Natchezcity        0.02           0.38          0.98   \n",
       "\n",
       "     racePctWhite  racePctAsian  racePctHisp  agePct12t21  agePct12t29  ...  \\\n",
       "130          0.22          0.01         0.01         0.44          0.4  ...   \n",
       "\n",
       "     NumStreet  PctForeignBorn  PctBornSameState  PctSameHouse85  \\\n",
       "130        0.0            0.01              0.84             0.7   \n",
       "\n",
       "     PctSameCity85  PctSameState85  LandArea  PopDens  PctUsePubTrans  \\\n",
       "130           0.83            0.77      0.04     0.12            0.05   \n",
       "\n",
       "     ViolentCrimesPerPop  \n",
       "130                 0.23  \n",
       "\n",
       "[1 rows x 100 columns]"
      ]
     },
     "execution_count": 114,
     "metadata": {},
     "output_type": "execute_result"
    }
   ],
   "source": [
    "community[community.isnull().any(axis =1)]"
   ]
  },
  {
   "cell_type": "code",
   "execution_count": 115,
   "id": "c82e45e8",
   "metadata": {},
   "outputs": [],
   "source": [
    "#Replacing the OtherPerCap missing value with its mean\n",
    "OtherPerCap_mean = community.OtherPerCap.mean()\n",
    "community.OtherPerCap.fillna(OtherPerCap_mean, axis =0, inplace =True)"
   ]
  },
  {
   "cell_type": "code",
   "execution_count": 116,
   "id": "a91151c0",
   "metadata": {},
   "outputs": [
    {
     "name": "stdout",
     "output_type": "stream",
     "text": [
      "<class 'pandas.core.frame.DataFrame'>\n",
      "RangeIndex: 1994 entries, 0 to 1993\n",
      "Data columns (total 100 columns):\n",
      " #   Column                 Non-Null Count  Dtype  \n",
      "---  ------                 --------------  -----  \n",
      " 0   state                  1994 non-null   int64  \n",
      " 1   communityname          1994 non-null   object \n",
      " 2   population             1994 non-null   float64\n",
      " 3   householdsize          1994 non-null   float64\n",
      " 4   racepctblack           1994 non-null   float64\n",
      " 5   racePctWhite           1994 non-null   float64\n",
      " 6   racePctAsian           1994 non-null   float64\n",
      " 7   racePctHisp            1994 non-null   float64\n",
      " 8   agePct12t21            1994 non-null   float64\n",
      " 9   agePct12t29            1994 non-null   float64\n",
      " 10  agePct16t24            1994 non-null   float64\n",
      " 11  agePct65up             1994 non-null   float64\n",
      " 12  numbUrban              1994 non-null   float64\n",
      " 13  pctUrban               1994 non-null   float64\n",
      " 14  medIncome              1994 non-null   float64\n",
      " 15  pctWWage               1994 non-null   float64\n",
      " 16  pctWFarmSelf           1994 non-null   float64\n",
      " 17  pctWInvInc             1994 non-null   float64\n",
      " 18  pctWSocSec             1994 non-null   float64\n",
      " 19  pctWPubAsst            1994 non-null   float64\n",
      " 20  pctWRetire             1994 non-null   float64\n",
      " 21  medFamInc              1994 non-null   float64\n",
      " 22  perCapInc              1994 non-null   float64\n",
      " 23  whitePerCap            1994 non-null   float64\n",
      " 24  blackPerCap            1994 non-null   float64\n",
      " 25  indianPerCap           1994 non-null   float64\n",
      " 26  AsianPerCap            1994 non-null   float64\n",
      " 27  OtherPerCap            1994 non-null   float64\n",
      " 28  HispPerCap             1994 non-null   float64\n",
      " 29  NumUnderPov            1994 non-null   float64\n",
      " 30  PctPopUnderPov         1994 non-null   float64\n",
      " 31  PctLess9thGrade        1994 non-null   float64\n",
      " 32  PctNotHSGrad           1994 non-null   float64\n",
      " 33  PctBSorMore            1994 non-null   float64\n",
      " 34  PctUnemployed          1994 non-null   float64\n",
      " 35  PctEmploy              1994 non-null   float64\n",
      " 36  PctEmplManu            1994 non-null   float64\n",
      " 37  PctEmplProfServ        1994 non-null   float64\n",
      " 38  MalePctDivorce         1994 non-null   float64\n",
      " 39  MalePctNevMarr         1994 non-null   float64\n",
      " 40  FemalePctDiv           1994 non-null   float64\n",
      " 41  TotalPctDiv            1994 non-null   float64\n",
      " 42  PersPerFam             1994 non-null   float64\n",
      " 43  PctFam2Par             1994 non-null   float64\n",
      " 44  PctKids2Par            1994 non-null   float64\n",
      " 45  PctYoungKids2Par       1994 non-null   float64\n",
      " 46  PctTeen2Par            1994 non-null   float64\n",
      " 47  PctWorkMomYoungKids    1994 non-null   float64\n",
      " 48  PctWorkMom             1994 non-null   float64\n",
      " 49  NumIlleg               1994 non-null   float64\n",
      " 50  PctIlleg               1994 non-null   float64\n",
      " 51  NumImmig               1994 non-null   float64\n",
      " 52  PctImmigRecent         1994 non-null   float64\n",
      " 53  PctImmigRec5           1994 non-null   float64\n",
      " 54  PctImmigRec8           1994 non-null   float64\n",
      " 55  PctImmigRec10          1994 non-null   float64\n",
      " 56  PctRecentImmig         1994 non-null   float64\n",
      " 57  PctRecImmig5           1994 non-null   float64\n",
      " 58  PctRecImmig8           1994 non-null   float64\n",
      " 59  PctRecImmig10          1994 non-null   float64\n",
      " 60  PctSpeakEnglOnly       1994 non-null   float64\n",
      " 61  PctNotSpeakEnglWell    1994 non-null   float64\n",
      " 62  PctLargHouseFam        1994 non-null   float64\n",
      " 63  PctLargHouseOccup      1994 non-null   float64\n",
      " 64  PersPerOccupHous       1994 non-null   float64\n",
      " 65  PersPerOwnOccHous      1994 non-null   float64\n",
      " 66  PersPerRentOccHous     1994 non-null   float64\n",
      " 67  PctPersOwnOccup        1994 non-null   float64\n",
      " 68  PctPersDenseHous       1994 non-null   float64\n",
      " 69  PctHousLess3BR         1994 non-null   float64\n",
      " 70  MedNumBR               1994 non-null   float64\n",
      " 71  HousVacant             1994 non-null   float64\n",
      " 72  PctHousOccup           1994 non-null   float64\n",
      " 73  PctHousOwnOcc          1994 non-null   float64\n",
      " 74  PctVacantBoarded       1994 non-null   float64\n",
      " 75  PctVacMore6Mos         1994 non-null   float64\n",
      " 76  MedYrHousBuilt         1994 non-null   float64\n",
      " 77  PctHousNoPhone         1994 non-null   float64\n",
      " 78  PctWOFullPlumb         1994 non-null   float64\n",
      " 79  OwnOccLowQuart         1994 non-null   float64\n",
      " 80  OwnOccMedVal           1994 non-null   float64\n",
      " 81  OwnOccHiQuart          1994 non-null   float64\n",
      " 82  RentLowQ               1994 non-null   float64\n",
      " 83  RentMedian             1994 non-null   float64\n",
      " 84  RentHighQ              1994 non-null   float64\n",
      " 85  MedRent                1994 non-null   float64\n",
      " 86  MedRentPctHousInc      1994 non-null   float64\n",
      " 87  MedOwnCostPctInc       1994 non-null   float64\n",
      " 88  MedOwnCostPctIncNoMtg  1994 non-null   float64\n",
      " 89  NumInShelters          1994 non-null   float64\n",
      " 90  NumStreet              1994 non-null   float64\n",
      " 91  PctForeignBorn         1994 non-null   float64\n",
      " 92  PctBornSameState       1994 non-null   float64\n",
      " 93  PctSameHouse85         1994 non-null   float64\n",
      " 94  PctSameCity85          1994 non-null   float64\n",
      " 95  PctSameState85         1994 non-null   float64\n",
      " 96  LandArea               1994 non-null   float64\n",
      " 97  PopDens                1994 non-null   float64\n",
      " 98  PctUsePubTrans         1994 non-null   float64\n",
      " 99  ViolentCrimesPerPop    1994 non-null   float64\n",
      "dtypes: float64(98), int64(1), object(1)\n",
      "memory usage: 1.5+ MB\n"
     ]
    }
   ],
   "source": [
    "community.info()\n",
    "\n",
    "#No null values"
   ]
  },
  {
   "cell_type": "code",
   "execution_count": 117,
   "id": "3232ac6d",
   "metadata": {},
   "outputs": [
    {
     "data": {
      "text/html": [
       "<div>\n",
       "<style scoped>\n",
       "    .dataframe tbody tr th:only-of-type {\n",
       "        vertical-align: middle;\n",
       "    }\n",
       "\n",
       "    .dataframe tbody tr th {\n",
       "        vertical-align: top;\n",
       "    }\n",
       "\n",
       "    .dataframe thead th {\n",
       "        text-align: right;\n",
       "    }\n",
       "</style>\n",
       "<table border=\"1\" class=\"dataframe\">\n",
       "  <thead>\n",
       "    <tr style=\"text-align: right;\">\n",
       "      <th></th>\n",
       "      <th>count</th>\n",
       "      <th>mean</th>\n",
       "      <th>std</th>\n",
       "      <th>min</th>\n",
       "      <th>25%</th>\n",
       "      <th>50%</th>\n",
       "      <th>75%</th>\n",
       "      <th>max</th>\n",
       "    </tr>\n",
       "  </thead>\n",
       "  <tbody>\n",
       "    <tr>\n",
       "      <th>state</th>\n",
       "      <td>1994.0</td>\n",
       "      <td>28.683551</td>\n",
       "      <td>16.397553</td>\n",
       "      <td>1.0</td>\n",
       "      <td>12.00</td>\n",
       "      <td>34.00</td>\n",
       "      <td>42.00</td>\n",
       "      <td>56.0</td>\n",
       "    </tr>\n",
       "    <tr>\n",
       "      <th>population</th>\n",
       "      <td>1994.0</td>\n",
       "      <td>0.057593</td>\n",
       "      <td>0.126906</td>\n",
       "      <td>0.0</td>\n",
       "      <td>0.01</td>\n",
       "      <td>0.02</td>\n",
       "      <td>0.05</td>\n",
       "      <td>1.0</td>\n",
       "    </tr>\n",
       "    <tr>\n",
       "      <th>householdsize</th>\n",
       "      <td>1994.0</td>\n",
       "      <td>0.463395</td>\n",
       "      <td>0.163717</td>\n",
       "      <td>0.0</td>\n",
       "      <td>0.35</td>\n",
       "      <td>0.44</td>\n",
       "      <td>0.54</td>\n",
       "      <td>1.0</td>\n",
       "    </tr>\n",
       "    <tr>\n",
       "      <th>racepctblack</th>\n",
       "      <td>1994.0</td>\n",
       "      <td>0.179629</td>\n",
       "      <td>0.253442</td>\n",
       "      <td>0.0</td>\n",
       "      <td>0.02</td>\n",
       "      <td>0.06</td>\n",
       "      <td>0.23</td>\n",
       "      <td>1.0</td>\n",
       "    </tr>\n",
       "    <tr>\n",
       "      <th>racePctWhite</th>\n",
       "      <td>1994.0</td>\n",
       "      <td>0.753716</td>\n",
       "      <td>0.244039</td>\n",
       "      <td>0.0</td>\n",
       "      <td>0.63</td>\n",
       "      <td>0.85</td>\n",
       "      <td>0.94</td>\n",
       "      <td>1.0</td>\n",
       "    </tr>\n",
       "    <tr>\n",
       "      <th>...</th>\n",
       "      <td>...</td>\n",
       "      <td>...</td>\n",
       "      <td>...</td>\n",
       "      <td>...</td>\n",
       "      <td>...</td>\n",
       "      <td>...</td>\n",
       "      <td>...</td>\n",
       "      <td>...</td>\n",
       "    </tr>\n",
       "    <tr>\n",
       "      <th>PctSameState85</th>\n",
       "      <td>1994.0</td>\n",
       "      <td>0.651530</td>\n",
       "      <td>0.198221</td>\n",
       "      <td>0.0</td>\n",
       "      <td>0.56</td>\n",
       "      <td>0.70</td>\n",
       "      <td>0.79</td>\n",
       "      <td>1.0</td>\n",
       "    </tr>\n",
       "    <tr>\n",
       "      <th>LandArea</th>\n",
       "      <td>1994.0</td>\n",
       "      <td>0.065231</td>\n",
       "      <td>0.109459</td>\n",
       "      <td>0.0</td>\n",
       "      <td>0.02</td>\n",
       "      <td>0.04</td>\n",
       "      <td>0.07</td>\n",
       "      <td>1.0</td>\n",
       "    </tr>\n",
       "    <tr>\n",
       "      <th>PopDens</th>\n",
       "      <td>1994.0</td>\n",
       "      <td>0.232854</td>\n",
       "      <td>0.203092</td>\n",
       "      <td>0.0</td>\n",
       "      <td>0.10</td>\n",
       "      <td>0.17</td>\n",
       "      <td>0.28</td>\n",
       "      <td>1.0</td>\n",
       "    </tr>\n",
       "    <tr>\n",
       "      <th>PctUsePubTrans</th>\n",
       "      <td>1994.0</td>\n",
       "      <td>0.161685</td>\n",
       "      <td>0.229055</td>\n",
       "      <td>0.0</td>\n",
       "      <td>0.02</td>\n",
       "      <td>0.07</td>\n",
       "      <td>0.19</td>\n",
       "      <td>1.0</td>\n",
       "    </tr>\n",
       "    <tr>\n",
       "      <th>ViolentCrimesPerPop</th>\n",
       "      <td>1994.0</td>\n",
       "      <td>0.237979</td>\n",
       "      <td>0.232985</td>\n",
       "      <td>0.0</td>\n",
       "      <td>0.07</td>\n",
       "      <td>0.15</td>\n",
       "      <td>0.33</td>\n",
       "      <td>1.0</td>\n",
       "    </tr>\n",
       "  </tbody>\n",
       "</table>\n",
       "<p>99 rows × 8 columns</p>\n",
       "</div>"
      ],
      "text/plain": [
       "                      count       mean        std  min    25%    50%    75%  \\\n",
       "state                1994.0  28.683551  16.397553  1.0  12.00  34.00  42.00   \n",
       "population           1994.0   0.057593   0.126906  0.0   0.01   0.02   0.05   \n",
       "householdsize        1994.0   0.463395   0.163717  0.0   0.35   0.44   0.54   \n",
       "racepctblack         1994.0   0.179629   0.253442  0.0   0.02   0.06   0.23   \n",
       "racePctWhite         1994.0   0.753716   0.244039  0.0   0.63   0.85   0.94   \n",
       "...                     ...        ...        ...  ...    ...    ...    ...   \n",
       "PctSameState85       1994.0   0.651530   0.198221  0.0   0.56   0.70   0.79   \n",
       "LandArea             1994.0   0.065231   0.109459  0.0   0.02   0.04   0.07   \n",
       "PopDens              1994.0   0.232854   0.203092  0.0   0.10   0.17   0.28   \n",
       "PctUsePubTrans       1994.0   0.161685   0.229055  0.0   0.02   0.07   0.19   \n",
       "ViolentCrimesPerPop  1994.0   0.237979   0.232985  0.0   0.07   0.15   0.33   \n",
       "\n",
       "                      max  \n",
       "state                56.0  \n",
       "population            1.0  \n",
       "householdsize         1.0  \n",
       "racepctblack          1.0  \n",
       "racePctWhite          1.0  \n",
       "...                   ...  \n",
       "PctSameState85        1.0  \n",
       "LandArea              1.0  \n",
       "PopDens               1.0  \n",
       "PctUsePubTrans        1.0  \n",
       "ViolentCrimesPerPop   1.0  \n",
       "\n",
       "[99 rows x 8 columns]"
      ]
     },
     "execution_count": 117,
     "metadata": {},
     "output_type": "execute_result"
    }
   ],
   "source": [
    "community.describe().T"
   ]
  },
  {
   "cell_type": "code",
   "execution_count": 118,
   "id": "70d34d42",
   "metadata": {},
   "outputs": [
    {
     "data": {
      "text/html": [
       "<div>\n",
       "<style scoped>\n",
       "    .dataframe tbody tr th:only-of-type {\n",
       "        vertical-align: middle;\n",
       "    }\n",
       "\n",
       "    .dataframe tbody tr th {\n",
       "        vertical-align: top;\n",
       "    }\n",
       "\n",
       "    .dataframe thead th {\n",
       "        text-align: right;\n",
       "    }\n",
       "</style>\n",
       "<table border=\"1\" class=\"dataframe\">\n",
       "  <thead>\n",
       "    <tr style=\"text-align: right;\">\n",
       "      <th></th>\n",
       "      <th>population</th>\n",
       "      <th>householdsize</th>\n",
       "      <th>racepctblack</th>\n",
       "      <th>racePctWhite</th>\n",
       "      <th>racePctAsian</th>\n",
       "      <th>racePctHisp</th>\n",
       "      <th>agePct12t21</th>\n",
       "      <th>agePct12t29</th>\n",
       "      <th>agePct16t24</th>\n",
       "      <th>agePct65up</th>\n",
       "      <th>...</th>\n",
       "      <th>NumStreet</th>\n",
       "      <th>PctForeignBorn</th>\n",
       "      <th>PctBornSameState</th>\n",
       "      <th>PctSameHouse85</th>\n",
       "      <th>PctSameCity85</th>\n",
       "      <th>PctSameState85</th>\n",
       "      <th>LandArea</th>\n",
       "      <th>PopDens</th>\n",
       "      <th>PctUsePubTrans</th>\n",
       "      <th>ViolentCrimesPerPop</th>\n",
       "    </tr>\n",
       "  </thead>\n",
       "  <tbody>\n",
       "    <tr>\n",
       "      <th>0</th>\n",
       "      <td>0.19</td>\n",
       "      <td>0.33</td>\n",
       "      <td>0.02</td>\n",
       "      <td>0.90</td>\n",
       "      <td>0.12</td>\n",
       "      <td>0.17</td>\n",
       "      <td>0.34</td>\n",
       "      <td>0.47</td>\n",
       "      <td>0.29</td>\n",
       "      <td>0.32</td>\n",
       "      <td>...</td>\n",
       "      <td>0.0</td>\n",
       "      <td>0.12</td>\n",
       "      <td>0.42</td>\n",
       "      <td>0.50</td>\n",
       "      <td>0.51</td>\n",
       "      <td>0.64</td>\n",
       "      <td>0.12</td>\n",
       "      <td>0.26</td>\n",
       "      <td>0.20</td>\n",
       "      <td>0.20</td>\n",
       "    </tr>\n",
       "    <tr>\n",
       "      <th>1</th>\n",
       "      <td>0.00</td>\n",
       "      <td>0.16</td>\n",
       "      <td>0.12</td>\n",
       "      <td>0.74</td>\n",
       "      <td>0.45</td>\n",
       "      <td>0.07</td>\n",
       "      <td>0.26</td>\n",
       "      <td>0.59</td>\n",
       "      <td>0.35</td>\n",
       "      <td>0.27</td>\n",
       "      <td>...</td>\n",
       "      <td>0.0</td>\n",
       "      <td>0.21</td>\n",
       "      <td>0.50</td>\n",
       "      <td>0.34</td>\n",
       "      <td>0.60</td>\n",
       "      <td>0.52</td>\n",
       "      <td>0.02</td>\n",
       "      <td>0.12</td>\n",
       "      <td>0.45</td>\n",
       "      <td>0.67</td>\n",
       "    </tr>\n",
       "    <tr>\n",
       "      <th>2</th>\n",
       "      <td>0.00</td>\n",
       "      <td>0.42</td>\n",
       "      <td>0.49</td>\n",
       "      <td>0.56</td>\n",
       "      <td>0.17</td>\n",
       "      <td>0.04</td>\n",
       "      <td>0.39</td>\n",
       "      <td>0.47</td>\n",
       "      <td>0.28</td>\n",
       "      <td>0.32</td>\n",
       "      <td>...</td>\n",
       "      <td>0.0</td>\n",
       "      <td>0.14</td>\n",
       "      <td>0.49</td>\n",
       "      <td>0.54</td>\n",
       "      <td>0.67</td>\n",
       "      <td>0.56</td>\n",
       "      <td>0.01</td>\n",
       "      <td>0.21</td>\n",
       "      <td>0.02</td>\n",
       "      <td>0.43</td>\n",
       "    </tr>\n",
       "    <tr>\n",
       "      <th>3</th>\n",
       "      <td>0.04</td>\n",
       "      <td>0.77</td>\n",
       "      <td>1.00</td>\n",
       "      <td>0.08</td>\n",
       "      <td>0.12</td>\n",
       "      <td>0.10</td>\n",
       "      <td>0.51</td>\n",
       "      <td>0.50</td>\n",
       "      <td>0.34</td>\n",
       "      <td>0.21</td>\n",
       "      <td>...</td>\n",
       "      <td>0.0</td>\n",
       "      <td>0.19</td>\n",
       "      <td>0.30</td>\n",
       "      <td>0.73</td>\n",
       "      <td>0.64</td>\n",
       "      <td>0.65</td>\n",
       "      <td>0.02</td>\n",
       "      <td>0.39</td>\n",
       "      <td>0.28</td>\n",
       "      <td>0.12</td>\n",
       "    </tr>\n",
       "    <tr>\n",
       "      <th>4</th>\n",
       "      <td>0.01</td>\n",
       "      <td>0.55</td>\n",
       "      <td>0.02</td>\n",
       "      <td>0.95</td>\n",
       "      <td>0.09</td>\n",
       "      <td>0.05</td>\n",
       "      <td>0.38</td>\n",
       "      <td>0.38</td>\n",
       "      <td>0.23</td>\n",
       "      <td>0.36</td>\n",
       "      <td>...</td>\n",
       "      <td>0.0</td>\n",
       "      <td>0.11</td>\n",
       "      <td>0.72</td>\n",
       "      <td>0.64</td>\n",
       "      <td>0.61</td>\n",
       "      <td>0.53</td>\n",
       "      <td>0.04</td>\n",
       "      <td>0.09</td>\n",
       "      <td>0.02</td>\n",
       "      <td>0.03</td>\n",
       "    </tr>\n",
       "  </tbody>\n",
       "</table>\n",
       "<p>5 rows × 98 columns</p>\n",
       "</div>"
      ],
      "text/plain": [
       "   population  householdsize  racepctblack  racePctWhite  racePctAsian  \\\n",
       "0        0.19           0.33          0.02          0.90          0.12   \n",
       "1        0.00           0.16          0.12          0.74          0.45   \n",
       "2        0.00           0.42          0.49          0.56          0.17   \n",
       "3        0.04           0.77          1.00          0.08          0.12   \n",
       "4        0.01           0.55          0.02          0.95          0.09   \n",
       "\n",
       "   racePctHisp  agePct12t21  agePct12t29  agePct16t24  agePct65up  ...  \\\n",
       "0         0.17         0.34         0.47         0.29        0.32  ...   \n",
       "1         0.07         0.26         0.59         0.35        0.27  ...   \n",
       "2         0.04         0.39         0.47         0.28        0.32  ...   \n",
       "3         0.10         0.51         0.50         0.34        0.21  ...   \n",
       "4         0.05         0.38         0.38         0.23        0.36  ...   \n",
       "\n",
       "   NumStreet  PctForeignBorn  PctBornSameState  PctSameHouse85  PctSameCity85  \\\n",
       "0        0.0            0.12              0.42            0.50           0.51   \n",
       "1        0.0            0.21              0.50            0.34           0.60   \n",
       "2        0.0            0.14              0.49            0.54           0.67   \n",
       "3        0.0            0.19              0.30            0.73           0.64   \n",
       "4        0.0            0.11              0.72            0.64           0.61   \n",
       "\n",
       "   PctSameState85  LandArea  PopDens  PctUsePubTrans  ViolentCrimesPerPop  \n",
       "0            0.64      0.12     0.26            0.20                 0.20  \n",
       "1            0.52      0.02     0.12            0.45                 0.67  \n",
       "2            0.56      0.01     0.21            0.02                 0.43  \n",
       "3            0.65      0.02     0.39            0.28                 0.12  \n",
       "4            0.53      0.04     0.09            0.02                 0.03  \n",
       "\n",
       "[5 rows x 98 columns]"
      ]
     },
     "execution_count": 118,
     "metadata": {},
     "output_type": "execute_result"
    }
   ],
   "source": [
    "#Removing the State adn CommunityName\n",
    "comm_table = community.iloc[:, 2:]\n",
    "comm_table.head()"
   ]
  },
  {
   "cell_type": "code",
   "execution_count": 119,
   "id": "eab4d7dc",
   "metadata": {},
   "outputs": [],
   "source": [
    "#Seperate the target varible \n",
    "target = comm_table.ViolentCrimesPerPop\n",
    "train = comm_table.iloc[:,:-1]"
   ]
  },
  {
   "cell_type": "code",
   "execution_count": 120,
   "id": "299b0f0d",
   "metadata": {},
   "outputs": [],
   "source": [
    "from sklearn.model_selection import train_test_split"
   ]
  },
  {
   "cell_type": "code",
   "execution_count": 121,
   "id": "ffa562a5",
   "metadata": {},
   "outputs": [],
   "source": [
    "#Splitting the training and testing data.\n",
    "X_train, X_test, Y_train, Y_test = train_test_split(train, target, test_size =0.2, random_state =33)"
   ]
  },
  {
   "cell_type": "code",
   "execution_count": 122,
   "id": "ce1c799d",
   "metadata": {},
   "outputs": [
    {
     "name": "stdout",
     "output_type": "stream",
     "text": [
      "(1595, 97)\n",
      "(399, 97)\n",
      "(1595,)\n",
      "(399,)\n"
     ]
    }
   ],
   "source": [
    "print(X_train.shape)\n",
    "print(X_test.shape)\n",
    "print(Y_train.shape)\n",
    "print(Y_test.shape)"
   ]
  },
  {
   "cell_type": "markdown",
   "id": "65545f04",
   "metadata": {},
   "source": [
    "# Question 2"
   ]
  },
  {
   "cell_type": "markdown",
   "id": "10a59f6e",
   "metadata": {},
   "source": [
    "Perform standard multiple linear regression on data using the scikit-learn Linear Regression module. Compute the RMSE values on the full training data (the 80% partition). Also, plot the correlation between the predicted and actual values of the target attribute. Display the obtained regression coefficients (weights) and plot them using matplotlib. Finally, perform 10-fold cross-validation on the training partition and compare the cross-validation RMSE to the training RMSE (for cross validation, you should use the KFold module from sklearn.model_selection)."
   ]
  },
  {
   "cell_type": "code",
   "execution_count": 123,
   "id": "7b93c3ae",
   "metadata": {},
   "outputs": [],
   "source": [
    "from sklearn.linear_model import LinearRegression"
   ]
  },
  {
   "cell_type": "code",
   "execution_count": 124,
   "id": "a875f1f4",
   "metadata": {},
   "outputs": [
    {
     "data": {
      "text/plain": [
       "LinearRegression()"
      ]
     },
     "execution_count": 124,
     "metadata": {},
     "output_type": "execute_result"
    }
   ],
   "source": [
    "linreg = LinearRegression()\n",
    "linreg.fit(X_train, Y_train)"
   ]
  },
  {
   "cell_type": "code",
   "execution_count": 125,
   "id": "e26fd0ab",
   "metadata": {},
   "outputs": [],
   "source": [
    "#finidng prediction for training data\n",
    "p_train = linreg.predict(X_train)"
   ]
  },
  {
   "cell_type": "code",
   "execution_count": 126,
   "id": "34c9641c",
   "metadata": {},
   "outputs": [
    {
     "name": "stdout",
     "output_type": "stream",
     "text": [
      "RMSE on Test Data:  0.1261959313342669\n"
     ]
    }
   ],
   "source": [
    "from sklearn.metrics import mean_squared_error, mean_absolute_error\n",
    "\n",
    "#Computing RMSE for train data\n",
    "rmse_train = np.sqrt(mean_squared_error(p_train, Y_train))\n",
    "print(\"RMSE on Test Data: \", rmse_train)"
   ]
  },
  {
   "cell_type": "code",
   "execution_count": 127,
   "id": "ce842af4",
   "metadata": {},
   "outputs": [
    {
     "data": {
      "image/png": "[encoded data removed]",
      "text/plain": [
       "<Figure size 432x288 with 1 Axes>"
      ]
     },
     "metadata": {
      "needs_background": "light"
     },
     "output_type": "display_data"
    }
   ],
   "source": [
    "#Plotting correlation between predicted and actual training target variable\n",
    "%matplotlib inline\n",
    "pl.plot(p_train, Y_train,'bo', markersize=4)\n",
    "pl.plot([0,1],[0,1], 'g-')\n",
    "pl.xlabel('Predicted')\n",
    "pl.ylabel('Actual')\n",
    "pl.show()"
   ]
  },
  {
   "cell_type": "code",
   "execution_count": 128,
   "id": "120f542a",
   "metadata": {},
   "outputs": [],
   "source": [
    "#Plotting the regression wieghts\n",
    "%matplotlib inline\n",
    "def plot_coefficients(model, n_features, feature_names):\n",
    "    pl.barh(range(n_features), model.coef_, align='center')\n",
    "    pl.yticks(np.arange(n_features), feature_names)\n",
    "    pl.xlabel(\"Coefficient Value\")\n",
    "    pl.ylabel(\"Feature\")\n",
    "    pl.ylim(-1, n_features)"
   ]
  },
  {
   "cell_type": "code",
   "execution_count": 135,
   "id": "1d38c84d",
   "metadata": {},
   "outputs": [
    {
     "data": {
      "image/png": "[encoded data removed]",
      "text/plain": [
       "<Figure size 1080x1440 with 1 Axes>"
      ]
     },
     "metadata": {
      "needs_background": "light"
     },
     "output_type": "display_data"
    }
   ],
   "source": [
    "#Plotting the coefficients\n",
    "plt.figure(figsize=(15,20))\n",
    "\n",
    "plot_coefficients(linreg, len(train.columns), train.columns)\n"
   ]
  },
  {
   "cell_type": "code",
   "execution_count": 136,
   "id": "2d25ab7e",
   "metadata": {},
   "outputs": [],
   "source": [
    "#10 fold cross-validation \n",
    "from sklearn.model_selection import cross_val_score\n"
   ]
  },
  {
   "cell_type": "code",
   "execution_count": 137,
   "id": "560a9ffe",
   "metadata": {},
   "outputs": [
    {
     "name": "stdout",
     "output_type": "stream",
     "text": [
      "[0.14373935 0.13848502 0.13298995 0.1360245  0.1351074  0.13231055\n",
      " 0.11917148 0.12158482 0.13669634 0.14684537]\n"
     ]
    }
   ],
   "source": [
    "cv_scores = cross_val_score(linreg, X_train, Y_train, scoring =\"neg_mean_squared_error\", cv=10)\n",
    "print(np.sqrt(abs(cv_scores)))\n",
    "cv_rmse = np.mean(np.sqrt(abs(cv_scores)))"
   ]
  },
  {
   "cell_type": "code",
   "execution_count": 138,
   "id": "f6888553",
   "metadata": {},
   "outputs": [
    {
     "name": "stdout",
     "output_type": "stream",
     "text": [
      "Method: Simple Linear Regression\n",
      "RMSE on training: 0.1262\n",
      "RMSE on 10-fold CV: 0.1343\n"
     ]
    }
   ],
   "source": [
    "method_name = 'Simple Linear Regression'\n",
    "print('Method: %s' %method_name)\n",
    "print('RMSE on training: %.4f' %rmse_train)\n",
    "print('RMSE on 10-fold CV: %.4f' %cv_rmse)"
   ]
  },
  {
   "cell_type": "markdown",
   "id": "a6654141",
   "metadata": {},
   "source": [
    "# RMSE performed better without 10-fold CV"
   ]
  },
  {
   "cell_type": "markdown",
   "id": "f9df495f",
   "metadata": {},
   "source": [
    "# Question 1-C"
   ]
  },
  {
   "cell_type": "markdown",
   "id": "c9f9cdcd",
   "metadata": {},
   "source": [
    "\n",
    "[15 pts] Feature Selection:  use the scikit-learn to select the best subset of features to perform linear regression. For feature selection, write a script or function that takes as input the training data; target variable; the regression model; and any other parameters you find necessary. The function should return the optimal percentage of the most informative features to use. Your approach should use k-fold cross-validation on the training data (use k=5 for consistency) and use feature_selection.SelectPercentile to find the most informative variables for a range of percentile values [Note: since this is regression not classification, in the SelectPercentile function you should use feature_selection.f_regression as scoring function rather than chi2). You should also plot the model's error values on cross-validation using only the selected features across the range of percentile values. For variety, in this part we will use Mean Absolute Error (MAE) as the error metric instead of RMSE. For cross-validation, use scikit's cross_val_score function. In order to use cross_val_score with regression you'll need to pass to it a specific error function. In this case, you will use scoring='neg_mean_absolute_error' as a parameter. You should use aboslute values to convert these negated MAE values to positive MAE values. Your plot should look similar (but won't be exactly the same as this example). Once you have identified the best percentile based on cross-validation, use it to identify and display the corresponding best features. As a final step, train your model on the full 80% training data with the optimal subset of features and then compute it's peformance (again using MAE) on the set-aside 20% test partitio"
   ]
  },
  {
   "cell_type": "code",
   "execution_count": 139,
   "id": "a41fded9",
   "metadata": {},
   "outputs": [],
   "source": [
    "#Univariate linear regression tests returning F-statistic and p-value\n",
    "from sklearn import feature_selection"
   ]
  },
  {
   "cell_type": "code",
   "execution_count": 147,
   "id": "6b922ef0",
   "metadata": {},
   "outputs": [],
   "source": [
    "from sklearn.feature_selection import f_regression, SelectPercentile\n",
    "import math"
   ]
  },
  {
   "cell_type": "code",
   "execution_count": 148,
   "id": "2663d4b0",
   "metadata": {},
   "outputs": [
    {
     "name": "stdout",
     "output_type": "stream",
     "text": [
      "[[0.02 0.91 0.83 ... 0.83 0.   0.01]\n",
      " [0.59 0.44 0.44 ... 0.31 0.86 0.33]\n",
      " [0.02 0.95 0.75 ... 0.86 0.04 0.02]\n",
      " ...\n",
      " [0.23 0.76 0.77 ... 0.78 0.   0.03]\n",
      " [0.09 0.77 0.42 ... 0.24 0.04 0.06]\n",
      " [1.   0.   0.37 ... 0.23 1.   0.25]]\n"
     ]
    }
   ],
   "source": [
    "fs = feature_selection.SelectPercentile(feature_selection.f_regression, percentile = 20)\n",
    "X_train_fs = fs.fit_transform(X_train, Y_train)\n",
    "print(X_train_fs)"
   ]
  },
  {
   "cell_type": "code",
   "execution_count": 159,
   "id": "bbf32888",
   "metadata": {},
   "outputs": [
    {
     "name": "stdout",
     "output_type": "stream",
     "text": [
      "1 0.11287401163402822\n",
      "6 0.09943268475677308\n",
      "11 0.09900510519125442\n",
      "16 0.09909059079526811\n",
      "21 0.0975068622131086\n",
      "26 0.09608904536542379\n",
      "31 0.09478480270197638\n",
      "36 0.09474955355002235\n",
      "41 0.09435370428857698\n",
      "46 0.09466441760571029\n",
      "51 0.0949877334678105\n",
      "56 0.0953208516480594\n",
      "61 0.09574966889254502\n",
      "66 0.09572089544915725\n",
      "71 0.09583132229767206\n",
      "76 0.09519157369784723\n",
      "81 0.0954256882753639\n",
      "86 0.09513624310358182\n",
      "91 0.09525366581598065\n",
      "96 0.09527627852883909\n",
      "Optimal percentile of features:41\n",
      "\n",
      "optimal_percent :  [8]  Optimal number of features:39 \n",
      "\n"
     ]
    },
    {
     "data": {
      "text/plain": [
       "[<matplotlib.lines.Line2D at 0x7f93b9008220>]"
      ]
     },
     "execution_count": 159,
     "metadata": {},
     "output_type": "execute_result"
    },
    {
     "data": {
      "image/png": "[encoded data removed]",
      "text/plain": [
       "<Figure size 432x288 with 1 Axes>"
      ]
     },
     "metadata": {
      "needs_background": "light"
     },
     "output_type": "display_data"
    }
   ],
   "source": [
    "import warnings\n",
    "warnings.filterwarnings(\"ignore\", category=RuntimeWarning) \n",
    "\n",
    "\n",
    "linreg = LinearRegression()\n",
    "percentiles = range(1, 100, 5)\n",
    "scorer ='neg_mean_absolute_error'\n",
    "N =5\n",
    "\n",
    "def optimal_num_features(model, X_train, Y_train, N, percentile, scorer):\n",
    "    results = []\n",
    "\n",
    "    for i in percentiles:\n",
    "        fs = SelectPercentile(f_regression, percentile=i)\n",
    "        X_train_fs = fs.fit_transform(X_train, Y_train)\n",
    "        scores = abs(cross_val_score(model, X_train_fs, Y_train, cv=N, scoring = scorer))\n",
    "        print (i, scores.mean())\n",
    "        results = np.append(results, scores.mean())\n",
    "\n",
    "    optimal_percentile = np.where(results == results.min())[0]\n",
    "    print (\"Optimal percentile of features:{0}\".format(percentiles[int(optimal_percentile)]))\n",
    "    return optimal_percentile, results\n",
    "\n",
    "optimal_percent, results = optimal_num_features(linreg,X_train,Y_train,N,percentiles,scorer)\n",
    "\n",
    "optimal_num_features = int(math.floor(percentiles[int(optimal_percent)]*X_train.shape[1])/100)\n",
    "print (\"\\noptimal_percent : \",optimal_percent,\" Optimal number of features:{0}\".format(optimal_num_features), \"\\n\")\n",
    "\n",
    "# Plot percentile of features VS. cross-validation scores\n",
    "import pylab as pl\n",
    "pl.figure()\n",
    "pl.title(\"Percentile of features VS cross-validation score\")\n",
    "pl.xlabel(\"Percentage of features selected\")\n",
    "pl.ylabel(\"Cross validation accuracy\")\n",
    "pl.plot(percentiles,results)\n"
   ]
  },
  {
   "cell_type": "code",
   "execution_count": 180,
   "id": "9dcb7675",
   "metadata": {},
   "outputs": [
    {
     "name": "stdout",
     "output_type": "stream",
     "text": [
      "optimal_percent  41\n",
      "\n",
      "population \t 256.03235473720673\n",
      "racepctblack \t 1074.8895092675361\n",
      "racePctWhite \t 1412.5078123923954\n",
      "numbUrban \t 247.77613854814695\n",
      "medIncome \t 341.6325375231909\n",
      "pctWWage \t 161.5707509415729\n",
      "pctWInvInc \t 756.0149723312808\n",
      "pctWPubAsst \t 784.5706408092502\n",
      "medFamInc \t 366.9004218440602\n",
      "perCapInc \t 214.99315799068873\n",
      "NumUnderPov \t 400.3078568907995\n",
      "PctPopUnderPov \t 578.817365213768\n",
      "PctLess9thGrade \t 319.21810810192545\n",
      "PctNotHSGrad \t 472.1962078690551\n",
      "PctBSorMore \t 173.36684318428337\n",
      "PctUnemployed \t 533.9131521991883\n",
      "PctEmploy \t 190.46526246383803\n",
      "MalePctDivorce \t 602.774893581606\n",
      "FemalePctDiv \t 704.7727390048287\n",
      "TotalPctDiv \t 693.1378303821938\n",
      "PctFam2Par \t 1657.8650169980986\n",
      "PctKids2Par \t 1972.8040638664002\n",
      "PctYoungKids2Par \t 1342.173613787548\n",
      "PctTeen2Par \t 1299.5351058426786\n",
      "NumIlleg \t 431.63556026914654\n",
      "PctIlleg \t 1936.1208737827078\n",
      "PctLargHouseFam \t 241.23381636029765\n",
      "PctPersOwnOccup \t 630.760339373988\n",
      "PctPersDenseHous \t 375.6459018761194\n",
      "PctHousLess3BR \t 487.96168084239935\n",
      "MedNumBR \t 242.0664299478884\n",
      "HousVacant \t 339.96861816208923\n",
      "PctHousOccup \t 173.73941701732457\n",
      "PctHousOwnOcc \t 478.53042971844667\n",
      "PctVacantBoarded \t 507.63640854198803\n",
      "PctHousNoPhone \t 505.8626527468836\n",
      "PctWOFullPlumb \t 209.11490495589393\n",
      "MedRentPctHousInc \t 178.68419423618857\n",
      "NumInShelters \t 265.84594187525676\n",
      "NumStreet \t 169.53426122290603\n"
     ]
    }
   ],
   "source": [
    "print(\"optimal_percent \",percentiles[int(optimal_percent)])\n",
    "print()\n",
    "fs = SelectPercentile(f_regression,percentile=percentiles[int(optimal_percent)])\n",
    "X_train_fs = fs.fit_transform(x_train,y_train)\n",
    "\n",
    "for i in range(len(X_train.columns.values)):\n",
    "    if fs.get_support()[i]:\n",
    "        print (X_train.columns.values[i], '\\t', fs.scores_[i])"
   ]
  },
  {
   "cell_type": "markdown",
   "id": "916fc617",
   "metadata": {},
   "source": [
    "The optimal percentile of features is 41 with CV accuracy of 0.0943. The optimal number of features are 39.  "
   ]
  },
  {
   "cell_type": "code",
   "execution_count": 226,
   "id": "832cf08b",
   "metadata": {},
   "outputs": [
    {
     "name": "stdout",
     "output_type": "stream",
     "text": [
      "MAE score for test data on cv: 0.024076717731537724\n"
     ]
    },
    {
     "name": "stderr",
     "output_type": "stream",
     "text": [
      "/Users/vinodpatel/opt/anaconda3/lib/python3.9/site-packages/sklearn/utils/validation.py:70: FutureWarning: Pass percentile=[8] as keyword args. From version 1.0 (renaming of 0.25) passing these as positional arguments will result in an error\n",
      "  warnings.warn(f\"Pass {args_msg} as keyword args. From version \"\n"
     ]
    }
   ],
   "source": [
    "fs = SelectPercentile(f_regression, optimal_percent)\n",
    "X_train_fs = fs.fit_transform(X_train, Y_train)\n",
    "linreg = LinearRegression()\n",
    "linreg.fit(X_train_fs, Y_train)\n",
    "X_test_fs = fs.transform(X_test)\n",
    "\n",
    "predict = linreg.predict(X_test_fs)\n",
    "\n",
    "score = mean_squared_error(Y_test,predict )\n",
    "print(\"MAE score for test data on cv: {}\".format(abs(score).mean()))\n"
   ]
  },
  {
   "cell_type": "markdown",
   "id": "bebdae88",
   "metadata": {},
   "source": [
    "# Que 1-D"
   ]
  },
  {
   "cell_type": "markdown",
   "id": "863a70d9",
   "metadata": {},
   "source": [
    "Next, using the original train and test data in part (a), perform Ridge Regression and Lasso Regression using the modules from sklearn.linear_model. In each case, perform systematic model selection to identify the optimal alpha hyperparameter (the regularization coefficient). You should create a function that takes as input the training data and target variable; the parameter to vary and a list of its values; the model to be trained; and any other relevant input needed to determine the optimal value for the specified parameter. The model selection process should perform k-fold cross validation (k should be a parameter, but you can select k=5 for this problem). For each model, you should also plot the error values (this time using RMSE as the error metric) on the training and cross-validation splits across the specified values of alpha. Finally, using the best alpha values for each regression model, train the model on the full training data and evaluate it on the set-aside test data. Discuss your observations and conclusions, especially about the impact of alpha on bias-variance trade-off. [Hint: for an example of a similar model optimization process please review the class example notebook.]"
   ]
  },
  {
   "cell_type": "code",
   "execution_count": 227,
   "id": "ab9f755d",
   "metadata": {},
   "outputs": [],
   "source": [
    "#Ridge Regression \n",
    "from sklearn.linear_model import Ridge"
   ]
  },
  {
   "cell_type": "code",
   "execution_count": 230,
   "id": "eb8326ea",
   "metadata": {},
   "outputs": [],
   "source": [
    "def calc_params(Data, y, model, param_values, param_name, K, verbose, model_name):\n",
    "    \n",
    "    # Convert input to Numpy arrays\n",
    "    Data = np.array(Data)\n",
    "    y = np.array(y)\n",
    "    \n",
    "    # initialize training and testing score arrays with zeros\n",
    "    train_scores = np.zeros(len(param_values))\n",
    "    test_scores = np.zeros(len(param_values))\n",
    "    \n",
    "    # iterate over the different parameter values\n",
    "    for i, param_value in enumerate(param_values):\n",
    "        \n",
    "        # set classifier parameters\n",
    "        model.set_params(**{param_name:param_value})\n",
    "        \n",
    "        # initialize the K scores obtained for each fold\n",
    "        k_train_scores = np.zeros(K)\n",
    "        k_test_scores = np.zeros(K)\n",
    "        \n",
    "        # create KFold cross validation\n",
    "        cv = KFold(n_splits=K, shuffle=True, random_state=0)\n",
    "        \n",
    "        # iterate over the K folds\n",
    "        for train, test in cv.split(Data):\n",
    "            # fit the classifier in the corresponding fold\n",
    "            # and obtain the corresponding accuracy scores on train and test sets\n",
    "            model.fit(Data[train], y[train])\n",
    "            \n",
    "            train_predict = model.predict(Data[train])\n",
    "            test_predict = model.predict(Data[test])\n",
    "            \n",
    "            k_train_scores = np.sqrt(mean_squared_error(y[train], train_predict))\n",
    "            k_test_scores = np.sqrt(mean_squared_error(y[test], test_predict))\n",
    "\n",
    "        \n",
    "        # store the mean of the K fold scores\n",
    "        train_scores[i] = np.mean(k_train_scores)\n",
    "        test_scores[i] = np.mean(k_test_scores)\n",
    "       \n",
    "    # plot the training and testing scores in a log scale\n",
    "    fig = plt.figure(figsize=(15,10))\n",
    "    \n",
    "    plt.plot(param_values, train_scores, label='Train', alpha=0.4, lw=2, c='b')\n",
    "    plt.plot(param_values, test_scores, label='Test', alpha=0.4, lw=2, c='g')\n",
    "    plt.title(model_name)\n",
    "    plt.legend(loc=7)\n",
    "    plt.xlabel(param_name + \" values\")\n",
    "    plt.ylabel(\"Cross validation RMSE\")\n",
    "\n",
    "    min_err_idx = np.where(test_scores == test_scores.min())\n",
    "    min_err_alpha = param_values[min_err_idx]\n",
    "    \n",
    "    ##print ('The minimum MAE using cross validation is:', test_scores[min_err_idx][0],'with', param_name,':', min_err_alpha[0])\n",
    "    \n",
    "    # return the training and testing scores on each parameter value\n",
    "    return train_scores, test_scores, min_err_alpha,min_err_idx"
   ]
  },
  {
   "cell_type": "code",
   "execution_count": 231,
   "id": "0c5decd9",
   "metadata": {},
   "outputs": [
    {
     "name": "stdout",
     "output_type": "stream",
     "text": [
      " train shape  (1595, 97)  y-train shape  (1595,)\n",
      "\n",
      "\n",
      " The minimum RMSE for \" Ridge \" using cross validation is: 0.13882110895925442 with alpha : 1.0060150753768842\n",
      "\n",
      "\n",
      " The minimum RMSE for \" Lasso \" using cross validation is: 0.14224582056412474 with alpha : 0.001\n"
     ]
    },
    {
     "data": {
      "image/png": "[encoded data removed]",
      "text/plain": [
       "<Figure size 1080x720 with 1 Axes>"
      ]
     },
     "metadata": {
      "needs_background": "light"
     },
     "output_type": "display_data"
    },
    {
     "data": {
      "image/png": "[encoded data removed]",
      "text/plain": [
       "<Figure size 1080x720 with 1 Axes>"
      ]
     },
     "metadata": {
      "needs_background": "light"
     },
     "output_type": "display_data"
    }
   ],
   "source": [
    "print(' train shape ',X_train.shape,' y-train shape ',Y_train.shape)\n",
    "\n",
    "alpha = np.linspace(0.001, 100, 200)\n",
    "alpha = np.array([float(e) for e in alpha])\n",
    "\n",
    "number_of_fold = 5\n",
    "param_name = 'alpha'\n",
    "param_values = alpha\n",
    "verbose = False\n",
    "\n",
    "models = {'Ridge': Ridge(),'Lasso':Lasso()}\n",
    "min_alpha = {}\n",
    "for key in models.keys():\n",
    "    \n",
    "    train_scores, test_scores, min_err_alpha,min_err_idx = calc_params(X_train, Y_train, models.get(key), param_values, param_name, number_of_fold,verbose,key)\n",
    "    \n",
    "    print ('\\n\\n The minimum RMSE for \\\"',key,'\\\" using cross validation is:', test_scores[min_err_idx][0],'with', param_name,':', min_err_alpha[0])\n",
    "    min_alpha[key]=min_err_alpha[0]"
   ]
  },
  {
   "cell_type": "code",
   "execution_count": 243,
   "id": "8a813e45",
   "metadata": {},
   "outputs": [
    {
     "name": "stdout",
     "output_type": "stream",
     "text": [
      "############################### running the models on Test #######################################\n",
      "Ridge  => Root Mean Squared error on test data: 0.14337675 using alpha = 1.0060150753768842\n",
      "Lasso  => Root Mean Squared error on test data: 0.14601641 using alpha = 0.001\n"
     ]
    }
   ],
   "source": [
    "print(\"############################### running the models on Test #######################################\")\n",
    "model = None\n",
    "for key in min_alpha.keys():\n",
    "    if(key=='Ridge'):\n",
    "        model = Ridge(fit_intercept=True, alpha=min_alpha.get(key))\n",
    "        model.fit(X_train, Y_train)    \n",
    "       \n",
    "    else :\n",
    "        model = Lasso(fit_intercept=True, alpha=min_alpha.get(key))\n",
    "        model.fit(X_train, Y_train)    \n",
    "        \n",
    "      \n",
    "    pred = model.predict(X_test)\n",
    "    RMSE = np.sqrt(mean_squared_error(Y_test, pred))\n",
    "    print(key,' => Root Mean Squared error on test data: %0.8f' % RMSE, 'using alpha =',min_alpha.get(key))"
   ]
  },
  {
   "cell_type": "markdown",
   "id": "971707ac",
   "metadata": {},
   "source": [
    "# Que 1-E"
   ]
  },
  {
   "cell_type": "markdown",
   "id": "d2ecf904",
   "metadata": {},
   "source": [
    "Next, perform regression using Stochastic Gradient Descent Regressor from scikit-learn (again use the original train-test split in part (a). Note that SGDRegessor requires that features be standardized (with 0 mean and scaled by standard deviation). Prior to fiting the model, perform the scaling using StandardScaler from sklearn.preprocessing. For this problem, perform a grid search (using GridSearchCV from sklearn.grid_search). Your grid search should compare combinations of two penalty parameters ('l2', 'l1') and different values of alpha (alpha could vary from 0.0001 which is the default to relatively large values, say 10). Using the best parameters, train the model on the full training partition and apply the model to the set-aside test data, comparing traning and test RMSE scores. Finally, perform model optimization (similar to part d, above) to find the best \"l1_ratio\" parameter using SGDRegressor with  the \"elasticnet\" penalty parameter. [Note: \"l1_ratio\" is The Elastic Net mixing parameter, with 0 <= l1_ratio <= 1;  l1_ratio=0 corresponds to L2 penalty, l1_ratio=1 to L1 penalty; defaults to 0.15.] Using the best mixing ratio, apply the Elastic Net model, trained on full training data, to the set-aside test data and compare to the training perfromance. Provide a brief summary of your findings from the above experiments."
   ]
  },
  {
   "cell_type": "code",
   "execution_count": 250,
   "id": "bdeea5d4",
   "metadata": {},
   "outputs": [],
   "source": [
    "from sklearn.linear_model import SGDRegressor\n",
    "from sklearn.preprocessing import StandardScaler\n",
    "from sklearn.model_selection import GridSearchCV"
   ]
  },
  {
   "cell_type": "code",
   "execution_count": 251,
   "id": "4303b0ec",
   "metadata": {},
   "outputs": [
    {
     "name": "stdout",
     "output_type": "stream",
     "text": [
      "input data Shape (1994, 100)\n",
      "vs_train shape  (1595, 97)  test shape  (399, 97)\n",
      "train target shape  (1595,)  Test target shape  (399,)\n"
     ]
    }
   ],
   "source": [
    "print('input data Shape',community.shape)\n",
    "\n",
    "vs_matrix = np.array(community.drop(['state','communityname','ViolentCrimesPerPop'],axis=1,inplace=False))\n",
    "\n",
    "# Standardize the data\n",
    "scaler = StandardScaler()\n",
    "scaler.fit(vs_matrix)\n",
    "vs_matrix = scaler.transform(vs_matrix)\n",
    "\n",
    "\n",
    "vs_train, vs_test, vs_target_train, vs_target_test = train_test_split(vs_matrix, community.ViolentCrimesPerPop, test_size=0.2, random_state=33)\n",
    "\n",
    "print(\"vs_train shape \",vs_train.shape, \" test shape \",vs_test.shape)\n",
    "\n",
    "print(\"train target shape \",vs_target_train.shape,\" Test target shape \",vs_target_test.shape)\n",
    "\n",
    "x_train = np.array(vs_train)\n",
    "y_train = np.array(vs_target_train)\n",
    "\n",
    "x_test = np.array(vs_test)\n",
    "y_test = np.array(vs_target_test)"
   ]
  },
  {
   "cell_type": "code",
   "execution_count": 252,
   "id": "2ce658f4",
   "metadata": {},
   "outputs": [],
   "source": [
    "sgdreg = SGDRegressor();\n",
    "\n",
    "alpha = np.linspace(.0001,10,100)\n",
    "alpha = np.array([float(e) for e in alpha])\n",
    "\n",
    "parameters = {\n",
    "    'penalty':[\"l2\",\"l1\"],\n",
    "    'alpha':alpha\n",
    "}\n",
    "gs = GridSearchCV(sgdreg, parameters, verbose=1, cv=5)\n"
   ]
  },
  {
   "cell_type": "code",
   "execution_count": 254,
   "id": "a9f661aa",
   "metadata": {},
   "outputs": [
    {
     "name": "stdout",
     "output_type": "stream",
     "text": [
      "Fitting 5 folds for each of 200 candidates, totalling 1000 fits\n",
      "CPU times: user 23.8 s, sys: 305 ms, total: 24.1 s\n",
      "Wall time: 12.7 s\n"
     ]
    },
    {
     "data": {
      "text/plain": [
       "({'alpha': 0.0001, 'penalty': 'l1'}, 0.6410489261073014)"
      ]
     },
     "execution_count": 254,
     "metadata": {},
     "output_type": "execute_result"
    }
   ],
   "source": [
    "%time _ = gs.fit(X_train, Y_train)\n",
    "\n",
    "gs.best_params_, gs.best_score_"
   ]
  },
  {
   "cell_type": "code",
   "execution_count": 255,
   "id": "aafabdf1",
   "metadata": {},
   "outputs": [
    {
     "name": "stdout",
     "output_type": "stream",
     "text": [
      "The optimum value of alpha is estimated as 0.0001\n",
      "\n",
      "\n",
      "The optimum value of penalty is estimated as l1\n",
      "\n",
      "\n",
      "RMSE on set-aside test data set: 0.32229459 with alpha=0.0001 penalty=l1 \n"
     ]
    }
   ],
   "source": [
    "# Using the best parameters, apply the model to the set-aside test data\n",
    "sgd = SGDRegressor()\n",
    "\n",
    "val = \"\"\n",
    "for (i, j) in gs.best_params_.items():\n",
    "    sgd.set_params(**{i:j})\n",
    "    print (\"The optimum value of\", i, \"is estimated as\", j)\n",
    "    val += str(i) + \"=\" + str(j) + \" \"\n",
    "    print(\"\\n\")\n",
    "    \n",
    "sgd.fit(X_train, Y_train)\n",
    "pred = sgd.predict(X_test)\n",
    "RMSE = np.sqrt(mean_absolute_error(Y_test, pred))\n",
    "\n",
    "print ('RMSE on set-aside test data set: %0.8f' % RMSE, \"with\",val)"
   ]
  },
  {
   "cell_type": "code",
   "execution_count": 256,
   "id": "397333ee",
   "metadata": {},
   "outputs": [
    {
     "name": "stdout",
     "output_type": "stream",
     "text": [
      "\n",
      "\n",
      " The minimum RMSE for \"SGDRegressor\" using cross validation is: 0.14360631095687407 with l1_ratio : 0.9393999999999999\n"
     ]
    },
    {
     "data": {
      "image/png": "[encoded data removed]",
      "text/plain": [
       "<Figure size 1080x720 with 1 Axes>"
      ]
     },
     "metadata": {
      "needs_background": "light"
     },
     "output_type": "display_data"
    }
   ],
   "source": [
    "l1_ratio_range = np.linspace(0.0001,1, 100)\n",
    "param_name = \"l1_ratio\" \n",
    "param_value = l1_ratio_range\n",
    "verbose=False\n",
    "\n",
    "model = SGDRegressor(penalty='elasticnet')\n",
    "\n",
    "train_scores, test_scores, min_err_alpha,min_err_idx = calc_params(X_train, Y_train,model, param_value, param_name, 5, verbose, \"SGDRegressor\")\n",
    "    \n",
    "print ('\\n\\n The minimum RMSE for \\\"SGDRegressor\\\" using cross validation is:', test_scores[min_err_idx][0],'with', param_name,':', min_err_alpha[0])"
   ]
  },
  {
   "cell_type": "markdown",
   "id": "4e37013c",
   "metadata": {},
   "source": [
    "###### From above output, we can say that the l1_ratio value of 0.4141 gives the lowest RMSE on training data (0.137 ). So, we will use that to run the model on set aside test data with \"elasticnet\" as the penalty parameter."
   ]
  },
  {
   "cell_type": "code",
   "execution_count": 257,
   "id": "712df9bd",
   "metadata": {},
   "outputs": [
    {
     "name": "stdout",
     "output_type": "stream",
     "text": [
      "MAE on set-aside test data set: 0.32172464 with penalty equals to 'elasticnet' and l1_ratio =  0.9393999999999999\n"
     ]
    }
   ],
   "source": [
    "# Using the best parameters, apply the model to the set-aside test data\n",
    "sgd = SGDRegressor(penalty='elasticnet', l1_ratio=min_err_alpha[0])\n",
    "sgd.fit(X_train, Y_train)\n",
    "pred = sgd.predict(X_test)\n",
    "MAE = np.sqrt(mean_absolute_error(Y_test, pred))\n",
    "\n",
    "print ('MAE on set-aside test data set: %0.8f' % MAE, \"with penalty equals to 'elasticnet' and l1_ratio = \",min_err_alpha[0])"
   ]
  },
  {
   "cell_type": "markdown",
   "id": "d411db13",
   "metadata": {},
   "source": [
    "# RMSE on Train Data"
   ]
  },
  {
   "cell_type": "raw",
   "id": "5539ff5e",
   "metadata": {},
   "source": [
    "Ridge ==> 0.1388\n",
    "Lasso ==> 0.1422\n",
    "SGB ==> 0.1437"
   ]
  },
  {
   "cell_type": "markdown",
   "id": "9647ee07",
   "metadata": {},
   "source": [
    "# RMSE on Test Data"
   ]
  },
  {
   "cell_type": "raw",
   "id": "9fe7d7fc",
   "metadata": {},
   "source": [
    "Ridge ==> 0.1433\n",
    "Lasso ==> 0.146\n",
    "SGB ==> 0.3217"
   ]
  },
  {
   "cell_type": "raw",
   "id": "d913faaf",
   "metadata": {},
   "source": [
    "RMSE for Lasso and Ridge were almost same. "
   ]
  },
  {
   "cell_type": "markdown",
   "id": "f63732e4",
   "metadata": {},
   "source": [
    "# Que 2-A"
   ]
  },
  {
   "cell_type": "markdown",
   "id": "b1c59e3e",
   "metadata": {},
   "source": [
    " Create your own distance function that, instead of using Euclidean distance, uses Cosine similarity. This is the distance function you will use to pass to the kMeans function in the included module. Note: you should not use external function for computing Cosine. Write your own version that computes Cosine similarity between two n-dimentional vectors and returns the inverse as the distance between these vectors.\n"
   ]
  },
  {
   "cell_type": "code",
   "execution_count": 259,
   "id": "565f269a",
   "metadata": {},
   "outputs": [],
   "source": [
    "import pandas as pd\n",
    "import numpy as np\n",
    "import matplotlib.pyplot as plt\n",
    "%matplotlib inline"
   ]
  },
  {
   "cell_type": "code",
   "execution_count": 260,
   "id": "9371f512",
   "metadata": {},
   "outputs": [],
   "source": [
    "def calculateEuclideanDistance(x,D):\n",
    "    dist = np.sqrt((D -x)**2).sum(axis=1)\n",
    "    return dist\n",
    "\n",
    "def calculateCosineSimilarityDistance(x,D):\n",
    "    \n",
    "    D_norm = np.linalg.norm(D) #np.array([np.linalg.norm(D[i]) for i in range(len(D))])\n",
    "    x_norm = np.linalg.norm(x)\n",
    "    #print(\"D_norm \",D_norm,\" x_norm \",x_norm)\n",
    "    sims = np.dot(D,x)/(D_norm * x_norm)\n",
    "    # The distance measure will be the inverse of Cosine similarity\n",
    "    dist = 1 - sims\n",
    "    \n",
    "    return dist"
   ]
  },
  {
   "cell_type": "markdown",
   "id": "3c703556",
   "metadata": {},
   "source": [
    "# Que 2-B"
   ]
  },
  {
   "cell_type": "markdown",
   "id": "de63fdb0",
   "metadata": {},
   "source": [
    "Load the data set [Note: the data matrix provided has terms as rows and documents as columns. Since you will be clustering documents, you'll need to take the transpose of this matrix so that your main data matrix is a document x term matrix. In Numpy, you may use the \".T\" operation to obtain the transpose.] Then, use the train_test_split function (with random_state = 99) to perform a randomized split the data set (the document by term matrix) and set aside 20% for later use (see below). Use the 80% segment for clustering in the next part. Next, as in the previous assignment, perform TFxIDF transformation on these data sets. [Note: if you have difficulty with TFxIDF conversion, then use the original non-transformed data for the remainder of this assignment]."
   ]
  },
  {
   "cell_type": "code",
   "execution_count": 261,
   "id": "b8d6a272",
   "metadata": {},
   "outputs": [],
   "source": [
    "matrix = pd.read_table(\"/Users/vinodpatel/Desktop/DePaul/DSC 478 Programming machine learning/Hw3/newsgroups5/matrix.txt\",delimiter=',',header=None)\n",
    "terms = pd.read_table(\"/Users/vinodpatel/Desktop/DePaul/DSC 478 Programming machine learning/Hw3/newsgroups5/terms.txt\",delimiter=',',header=None)\n",
    "classes = np.genfromtxt(\"/Users/vinodpatel/Desktop/DePaul/DSC 478 Programming machine learning/Hw3/newsgroups5/classes.txt\",delimiter=' ', dtype=int, skip_header=1, usecols=(1))"
   ]
  },
  {
   "cell_type": "code",
   "execution_count": 262,
   "id": "a154017d",
   "metadata": {},
   "outputs": [
    {
     "data": {
      "text/html": [
       "<div>\n",
       "<style scoped>\n",
       "    .dataframe tbody tr th:only-of-type {\n",
       "        vertical-align: middle;\n",
       "    }\n",
       "\n",
       "    .dataframe tbody tr th {\n",
       "        vertical-align: top;\n",
       "    }\n",
       "\n",
       "    .dataframe thead th {\n",
       "        text-align: right;\n",
       "    }\n",
       "</style>\n",
       "<table border=\"1\" class=\"dataframe\">\n",
       "  <thead>\n",
       "    <tr style=\"text-align: right;\">\n",
       "      <th></th>\n",
       "      <th>0</th>\n",
       "      <th>1</th>\n",
       "      <th>2</th>\n",
       "      <th>3</th>\n",
       "      <th>4</th>\n",
       "      <th>5</th>\n",
       "      <th>6</th>\n",
       "      <th>7</th>\n",
       "      <th>8</th>\n",
       "      <th>9</th>\n",
       "      <th>...</th>\n",
       "      <th>2490</th>\n",
       "      <th>2491</th>\n",
       "      <th>2492</th>\n",
       "      <th>2493</th>\n",
       "      <th>2494</th>\n",
       "      <th>2495</th>\n",
       "      <th>2496</th>\n",
       "      <th>2497</th>\n",
       "      <th>2498</th>\n",
       "      <th>2499</th>\n",
       "    </tr>\n",
       "  </thead>\n",
       "  <tbody>\n",
       "    <tr>\n",
       "      <th>0</th>\n",
       "      <td>0</td>\n",
       "      <td>0</td>\n",
       "      <td>0</td>\n",
       "      <td>0</td>\n",
       "      <td>0</td>\n",
       "      <td>0</td>\n",
       "      <td>0</td>\n",
       "      <td>0</td>\n",
       "      <td>0</td>\n",
       "      <td>0</td>\n",
       "      <td>...</td>\n",
       "      <td>0</td>\n",
       "      <td>0</td>\n",
       "      <td>0</td>\n",
       "      <td>0</td>\n",
       "      <td>0</td>\n",
       "      <td>0</td>\n",
       "      <td>0</td>\n",
       "      <td>0</td>\n",
       "      <td>0</td>\n",
       "      <td>0</td>\n",
       "    </tr>\n",
       "    <tr>\n",
       "      <th>1</th>\n",
       "      <td>0</td>\n",
       "      <td>0</td>\n",
       "      <td>0</td>\n",
       "      <td>0</td>\n",
       "      <td>0</td>\n",
       "      <td>0</td>\n",
       "      <td>0</td>\n",
       "      <td>0</td>\n",
       "      <td>0</td>\n",
       "      <td>0</td>\n",
       "      <td>...</td>\n",
       "      <td>0</td>\n",
       "      <td>0</td>\n",
       "      <td>0</td>\n",
       "      <td>0</td>\n",
       "      <td>0</td>\n",
       "      <td>0</td>\n",
       "      <td>0</td>\n",
       "      <td>0</td>\n",
       "      <td>0</td>\n",
       "      <td>0</td>\n",
       "    </tr>\n",
       "    <tr>\n",
       "      <th>2</th>\n",
       "      <td>0</td>\n",
       "      <td>0</td>\n",
       "      <td>0</td>\n",
       "      <td>0</td>\n",
       "      <td>0</td>\n",
       "      <td>0</td>\n",
       "      <td>0</td>\n",
       "      <td>0</td>\n",
       "      <td>0</td>\n",
       "      <td>0</td>\n",
       "      <td>...</td>\n",
       "      <td>0</td>\n",
       "      <td>0</td>\n",
       "      <td>0</td>\n",
       "      <td>0</td>\n",
       "      <td>0</td>\n",
       "      <td>0</td>\n",
       "      <td>0</td>\n",
       "      <td>0</td>\n",
       "      <td>0</td>\n",
       "      <td>0</td>\n",
       "    </tr>\n",
       "    <tr>\n",
       "      <th>3</th>\n",
       "      <td>0</td>\n",
       "      <td>0</td>\n",
       "      <td>0</td>\n",
       "      <td>0</td>\n",
       "      <td>0</td>\n",
       "      <td>0</td>\n",
       "      <td>0</td>\n",
       "      <td>0</td>\n",
       "      <td>0</td>\n",
       "      <td>0</td>\n",
       "      <td>...</td>\n",
       "      <td>0</td>\n",
       "      <td>0</td>\n",
       "      <td>0</td>\n",
       "      <td>0</td>\n",
       "      <td>0</td>\n",
       "      <td>0</td>\n",
       "      <td>0</td>\n",
       "      <td>0</td>\n",
       "      <td>0</td>\n",
       "      <td>0</td>\n",
       "    </tr>\n",
       "    <tr>\n",
       "      <th>4</th>\n",
       "      <td>0</td>\n",
       "      <td>0</td>\n",
       "      <td>0</td>\n",
       "      <td>0</td>\n",
       "      <td>0</td>\n",
       "      <td>0</td>\n",
       "      <td>0</td>\n",
       "      <td>0</td>\n",
       "      <td>0</td>\n",
       "      <td>0</td>\n",
       "      <td>...</td>\n",
       "      <td>0</td>\n",
       "      <td>0</td>\n",
       "      <td>0</td>\n",
       "      <td>0</td>\n",
       "      <td>0</td>\n",
       "      <td>0</td>\n",
       "      <td>0</td>\n",
       "      <td>0</td>\n",
       "      <td>0</td>\n",
       "      <td>0</td>\n",
       "    </tr>\n",
       "    <tr>\n",
       "      <th>...</th>\n",
       "      <td>...</td>\n",
       "      <td>...</td>\n",
       "      <td>...</td>\n",
       "      <td>...</td>\n",
       "      <td>...</td>\n",
       "      <td>...</td>\n",
       "      <td>...</td>\n",
       "      <td>...</td>\n",
       "      <td>...</td>\n",
       "      <td>...</td>\n",
       "      <td>...</td>\n",
       "      <td>...</td>\n",
       "      <td>...</td>\n",
       "      <td>...</td>\n",
       "      <td>...</td>\n",
       "      <td>...</td>\n",
       "      <td>...</td>\n",
       "      <td>...</td>\n",
       "      <td>...</td>\n",
       "      <td>...</td>\n",
       "      <td>...</td>\n",
       "    </tr>\n",
       "    <tr>\n",
       "      <th>9323</th>\n",
       "      <td>0</td>\n",
       "      <td>0</td>\n",
       "      <td>0</td>\n",
       "      <td>0</td>\n",
       "      <td>0</td>\n",
       "      <td>0</td>\n",
       "      <td>0</td>\n",
       "      <td>0</td>\n",
       "      <td>0</td>\n",
       "      <td>0</td>\n",
       "      <td>...</td>\n",
       "      <td>0</td>\n",
       "      <td>0</td>\n",
       "      <td>0</td>\n",
       "      <td>0</td>\n",
       "      <td>0</td>\n",
       "      <td>0</td>\n",
       "      <td>0</td>\n",
       "      <td>0</td>\n",
       "      <td>0</td>\n",
       "      <td>0</td>\n",
       "    </tr>\n",
       "    <tr>\n",
       "      <th>9324</th>\n",
       "      <td>0</td>\n",
       "      <td>0</td>\n",
       "      <td>0</td>\n",
       "      <td>0</td>\n",
       "      <td>0</td>\n",
       "      <td>0</td>\n",
       "      <td>0</td>\n",
       "      <td>0</td>\n",
       "      <td>0</td>\n",
       "      <td>0</td>\n",
       "      <td>...</td>\n",
       "      <td>0</td>\n",
       "      <td>0</td>\n",
       "      <td>0</td>\n",
       "      <td>0</td>\n",
       "      <td>0</td>\n",
       "      <td>0</td>\n",
       "      <td>0</td>\n",
       "      <td>0</td>\n",
       "      <td>0</td>\n",
       "      <td>0</td>\n",
       "    </tr>\n",
       "    <tr>\n",
       "      <th>9325</th>\n",
       "      <td>0</td>\n",
       "      <td>0</td>\n",
       "      <td>0</td>\n",
       "      <td>0</td>\n",
       "      <td>0</td>\n",
       "      <td>0</td>\n",
       "      <td>0</td>\n",
       "      <td>0</td>\n",
       "      <td>0</td>\n",
       "      <td>0</td>\n",
       "      <td>...</td>\n",
       "      <td>0</td>\n",
       "      <td>0</td>\n",
       "      <td>0</td>\n",
       "      <td>0</td>\n",
       "      <td>0</td>\n",
       "      <td>0</td>\n",
       "      <td>0</td>\n",
       "      <td>0</td>\n",
       "      <td>0</td>\n",
       "      <td>0</td>\n",
       "    </tr>\n",
       "    <tr>\n",
       "      <th>9326</th>\n",
       "      <td>0</td>\n",
       "      <td>0</td>\n",
       "      <td>0</td>\n",
       "      <td>0</td>\n",
       "      <td>0</td>\n",
       "      <td>0</td>\n",
       "      <td>0</td>\n",
       "      <td>0</td>\n",
       "      <td>0</td>\n",
       "      <td>0</td>\n",
       "      <td>...</td>\n",
       "      <td>0</td>\n",
       "      <td>0</td>\n",
       "      <td>0</td>\n",
       "      <td>0</td>\n",
       "      <td>0</td>\n",
       "      <td>0</td>\n",
       "      <td>0</td>\n",
       "      <td>0</td>\n",
       "      <td>0</td>\n",
       "      <td>0</td>\n",
       "    </tr>\n",
       "    <tr>\n",
       "      <th>9327</th>\n",
       "      <td>0</td>\n",
       "      <td>0</td>\n",
       "      <td>0</td>\n",
       "      <td>0</td>\n",
       "      <td>0</td>\n",
       "      <td>0</td>\n",
       "      <td>0</td>\n",
       "      <td>0</td>\n",
       "      <td>0</td>\n",
       "      <td>0</td>\n",
       "      <td>...</td>\n",
       "      <td>0</td>\n",
       "      <td>0</td>\n",
       "      <td>0</td>\n",
       "      <td>0</td>\n",
       "      <td>0</td>\n",
       "      <td>0</td>\n",
       "      <td>0</td>\n",
       "      <td>0</td>\n",
       "      <td>0</td>\n",
       "      <td>0</td>\n",
       "    </tr>\n",
       "  </tbody>\n",
       "</table>\n",
       "<p>9328 rows × 2500 columns</p>\n",
       "</div>"
      ],
      "text/plain": [
       "      0     1     2     3     4     5     6     7     8     9     ...  2490  \\\n",
       "0        0     0     0     0     0     0     0     0     0     0  ...     0   \n",
       "1        0     0     0     0     0     0     0     0     0     0  ...     0   \n",
       "2        0     0     0     0     0     0     0     0     0     0  ...     0   \n",
       "3        0     0     0     0     0     0     0     0     0     0  ...     0   \n",
       "4        0     0     0     0     0     0     0     0     0     0  ...     0   \n",
       "...    ...   ...   ...   ...   ...   ...   ...   ...   ...   ...  ...   ...   \n",
       "9323     0     0     0     0     0     0     0     0     0     0  ...     0   \n",
       "9324     0     0     0     0     0     0     0     0     0     0  ...     0   \n",
       "9325     0     0     0     0     0     0     0     0     0     0  ...     0   \n",
       "9326     0     0     0     0     0     0     0     0     0     0  ...     0   \n",
       "9327     0     0     0     0     0     0     0     0     0     0  ...     0   \n",
       "\n",
       "      2491  2492  2493  2494  2495  2496  2497  2498  2499  \n",
       "0        0     0     0     0     0     0     0     0     0  \n",
       "1        0     0     0     0     0     0     0     0     0  \n",
       "2        0     0     0     0     0     0     0     0     0  \n",
       "3        0     0     0     0     0     0     0     0     0  \n",
       "4        0     0     0     0     0     0     0     0     0  \n",
       "...    ...   ...   ...   ...   ...   ...   ...   ...   ...  \n",
       "9323     0     0     0     0     0     0     0     0     0  \n",
       "9324     0     0     0     0     0     0     0     0     0  \n",
       "9325     0     0     0     0     0     0     0     0     0  \n",
       "9326     0     0     0     0     0     0     0     0     0  \n",
       "9327     0     0     0     0     0     0     0     0     0  \n",
       "\n",
       "[9328 rows x 2500 columns]"
      ]
     },
     "execution_count": 262,
     "metadata": {},
     "output_type": "execute_result"
    }
   ],
   "source": [
    "matrix"
   ]
  },
  {
   "cell_type": "code",
   "execution_count": 263,
   "id": "972438be",
   "metadata": {},
   "outputs": [
    {
     "data": {
      "text/html": [
       "<div>\n",
       "<style scoped>\n",
       "    .dataframe tbody tr th:only-of-type {\n",
       "        vertical-align: middle;\n",
       "    }\n",
       "\n",
       "    .dataframe tbody tr th {\n",
       "        vertical-align: top;\n",
       "    }\n",
       "\n",
       "    .dataframe thead th {\n",
       "        text-align: right;\n",
       "    }\n",
       "</style>\n",
       "<table border=\"1\" class=\"dataframe\">\n",
       "  <thead>\n",
       "    <tr style=\"text-align: right;\">\n",
       "      <th></th>\n",
       "      <th>0</th>\n",
       "    </tr>\n",
       "  </thead>\n",
       "  <tbody>\n",
       "    <tr>\n",
       "      <th>0</th>\n",
       "      <td>aa</td>\n",
       "    </tr>\n",
       "    <tr>\n",
       "      <th>1</th>\n",
       "      <td>aargh</td>\n",
       "    </tr>\n",
       "    <tr>\n",
       "      <th>2</th>\n",
       "      <td>aaron</td>\n",
       "    </tr>\n",
       "    <tr>\n",
       "      <th>3</th>\n",
       "      <td>aaronc</td>\n",
       "    </tr>\n",
       "    <tr>\n",
       "      <th>4</th>\n",
       "      <td>ab</td>\n",
       "    </tr>\n",
       "    <tr>\n",
       "      <th>...</th>\n",
       "      <td>...</td>\n",
       "    </tr>\n",
       "    <tr>\n",
       "      <th>9323</th>\n",
       "      <td>zubov</td>\n",
       "    </tr>\n",
       "    <tr>\n",
       "      <th>9324</th>\n",
       "      <td>zv</td>\n",
       "    </tr>\n",
       "    <tr>\n",
       "      <th>9325</th>\n",
       "      <td>zw</td>\n",
       "    </tr>\n",
       "    <tr>\n",
       "      <th>9326</th>\n",
       "      <td>zx</td>\n",
       "    </tr>\n",
       "    <tr>\n",
       "      <th>9327</th>\n",
       "      <td>zz</td>\n",
       "    </tr>\n",
       "  </tbody>\n",
       "</table>\n",
       "<p>9328 rows × 1 columns</p>\n",
       "</div>"
      ],
      "text/plain": [
       "           0\n",
       "0         aa\n",
       "1      aargh\n",
       "2      aaron\n",
       "3     aaronc\n",
       "4         ab\n",
       "...      ...\n",
       "9323   zubov\n",
       "9324      zv\n",
       "9325      zw\n",
       "9326      zx\n",
       "9327      zz\n",
       "\n",
       "[9328 rows x 1 columns]"
      ]
     },
     "execution_count": 263,
     "metadata": {},
     "output_type": "execute_result"
    }
   ],
   "source": [
    "terms"
   ]
  },
  {
   "cell_type": "code",
   "execution_count": 264,
   "id": "7ad35131",
   "metadata": {},
   "outputs": [
    {
     "data": {
      "text/plain": [
       "array([0, 1, 1, ..., 3, 4, 2])"
      ]
     },
     "execution_count": 264,
     "metadata": {},
     "output_type": "execute_result"
    }
   ],
   "source": [
    "classes"
   ]
  },
  {
   "cell_type": "code",
   "execution_count": 265,
   "id": "464da5af",
   "metadata": {},
   "outputs": [
    {
     "name": "stdout",
     "output_type": "stream",
     "text": [
      "Matrix Shape: (9328, 2500)\n",
      "Terms Shape: (9328, 1)\n",
      "Classes Shape: (2500,)\n"
     ]
    }
   ],
   "source": [
    "print(\"Matrix Shape: \" + str(matrix.shape))\n",
    "print(\"Terms Shape: \" + str(terms.shape))\n",
    "print(\"Classes Shape: \" + str(classes.shape))"
   ]
  },
  {
   "cell_type": "code",
   "execution_count": 266,
   "id": "ae47a5f5",
   "metadata": {},
   "outputs": [
    {
     "data": {
      "text/plain": [
       "(2500, 9328)"
      ]
     },
     "execution_count": 266,
     "metadata": {},
     "output_type": "execute_result"
    }
   ],
   "source": [
    "matrixT = matrix.T\n",
    "matrixT.shape"
   ]
  },
  {
   "cell_type": "code",
   "execution_count": 267,
   "id": "59ee6c37",
   "metadata": {},
   "outputs": [
    {
     "data": {
      "text/plain": [
       "(2500, 9328)"
      ]
     },
     "execution_count": 267,
     "metadata": {},
     "output_type": "execute_result"
    }
   ],
   "source": [
    "DTmatrix = np.mat(matrixT)\n",
    "DTmatrix.shape"
   ]
  },
  {
   "cell_type": "code",
   "execution_count": 268,
   "id": "66afb808",
   "metadata": {},
   "outputs": [],
   "source": [
    "from sklearn.model_selection import train_test_split"
   ]
  },
  {
   "cell_type": "code",
   "execution_count": 272,
   "id": "47c3dab7",
   "metadata": {},
   "outputs": [],
   "source": [
    "x_train, x_test, y_train, ytest = train_test_split(matrixT, classes, test_size=0.2, random_state=99)"
   ]
  },
  {
   "cell_type": "code",
   "execution_count": 273,
   "id": "b35a0040",
   "metadata": {},
   "outputs": [
    {
     "name": "stdout",
     "output_type": "stream",
     "text": [
      "train :  (2000, 9328)\n",
      "Test :  (500, 9328)\n"
     ]
    }
   ],
   "source": [
    "print(\"train : \",x_train.shape)\n",
    "print(\"Test : \",x_test.shape)"
   ]
  },
  {
   "cell_type": "markdown",
   "id": "fce5a172",
   "metadata": {},
   "source": [
    "# Que 2-C"
   ]
  },
  {
   "cell_type": "markdown",
   "id": "1f18cb1e",
   "metadata": {},
   "source": [
    "Perform Kmeans clustering on the transformed training data from part (b) Perform a qualitative analysis of the clusters by examining top features in each cluster and identifying patterns in the data. To facilitate your analysis of the clusters, write a function to display the top N terms in each cluster sorted by the cluster DF values for each term, the centroid weights for each term in the top N terms in the cluster (mean TFxIDF weight of the term), and the size of the cluster. The cluster DF value for a term t in a cluster C is the percentage of docs in cluster C in which term t appears (so, if a cluster has 500 documents, and term \"game\" appears in 100 of those 500 documents, then DF value of \"game\" in that cluster is 0.2 or 20%). Sort the terms for each cluster in decreasing order of the DF percentage. Here is an example of how this output might look like (here the top 10 terms for a sample of clusters are displayed in decreasing order of cluster DF values, but the mean frequency (mean TFxIDF values) from the cluster centroid is also shown)."
   ]
  },
  {
   "cell_type": "code",
   "execution_count": 274,
   "id": "b83cee8b",
   "metadata": {},
   "outputs": [],
   "source": [
    "## get random centroids\n",
    "def randCent(dataSet, k):\n",
    "    n = np.shape(dataSet)[1]\n",
    "    centroids = np.zeros((k,n), dtype=float)\n",
    "    for j in range(n): #create random cluster centers\n",
    "        minJ = min(dataSet[:,j])\n",
    "        rangeJ = float(max(dataSet[:,j]) - minJ)\n",
    "        centroids[:,j] = minJ + rangeJ * np.random.rand(k)\n",
    "    return centroids"
   ]
  },
  {
   "cell_type": "code",
   "execution_count": 275,
   "id": "02bbd12d",
   "metadata": {},
   "outputs": [],
   "source": [
    "def kmeans(D,k,distMeas=calculateCosineSimilarityDistance,createCentroid = randCent):\n",
    "    m = np.shape(D)[0]\n",
    "    \n",
    "    ## cluster assignment matrix with 2 cols. one for cluster index and 2nd one for cluster error (distance from cluster centroid to the current point)\n",
    "    clusterAssment = np.mat(np.zeros((m,2)))\n",
    "    \n",
    "    print('calculating centroids : Start')\n",
    "    centroids = createCentroid(D,k)\n",
    "    print('calculating centroids : End','\\n centroids are :: \\n',centroids)\n",
    "    clusterChanged = True\n",
    "    while clusterChanged:\n",
    "        clusterChanged = False\n",
    "        ## loop over data points and assign assign it to the closest centroid\n",
    "        for i in range(m):\n",
    "            minDIst = np.inf;\n",
    "            minIndex = -1;\n",
    "            for j in range(k):\n",
    "                distJI = distMeas(centroids[j,:],D[i,:])\n",
    "    \n",
    "                if(distJI < minDIst):\n",
    "                    minDIst = distJI;\n",
    "                    minIndex = j;\n",
    "            if clusterAssment[i,0] !=minIndex : clusterChanged = True\n",
    "            clusterAssment[i,:] = minIndex, minDIst**2\n",
    "        \n",
    "        ## update the centroid\n",
    "        for cent in range(k):\n",
    "            ptsInClust = D[np.nonzero(clusterAssment[:,0] == cent)[0]]\n",
    "            centroids[cent,:] = np.mean(ptsInClust,axis=0)\n",
    "    return centroids, clusterAssment"
   ]
  },
  {
   "cell_type": "code",
   "execution_count": 276,
   "id": "ed0957ec",
   "metadata": {},
   "outputs": [
    {
     "name": "stdout",
     "output_type": "stream",
     "text": [
      "calculating centroids : Start\n",
      "calculating centroids : End \n",
      " centroids are :: \n",
      " [[ 0.62  0.68 14.12 ...  1.33  0.4   2.68]\n",
      " [ 0.67  0.18 27.54 ...  1.67  0.47  4.07]\n",
      " [ 0.49  0.97 38.95 ...  1.52  0.13  2.55]\n",
      " [ 0.24  0.14 33.58 ...  1.74  0.15  1.78]\n",
      " [ 0.78  0.14 25.67 ...  1.41  0.62  4.31]]\n"
     ]
    },
    {
     "name": "stderr",
     "output_type": "stream",
     "text": [
      "/var/folders/y1/rcx3rhfx4dj1v_rvs8qnbc0c0000gn/T/ipykernel_33479/11797310.py:24: DeprecationWarning: setting an array element with a sequence. This was supported in some cases where the elements are arrays with a single element. For example `np.array([1, np.array([2])], dtype=int)`. In the future this will raise the same ValueError as `np.array([1, [2]], dtype=int)`.\n",
      "  clusterAssment[i,:] = minIndex, minDIst**2\n"
     ]
    },
    {
     "name": "stdout",
     "output_type": "stream",
     "text": [
      "CPU times: user 4min 20s, sys: 1.03 s, total: 4min 21s\n",
      "Wall time: 4min 12s\n"
     ]
    }
   ],
   "source": [
    "%%time\n",
    "data = np.mat(x_train)\n",
    "centroids, clusterAssment = kmeans(data,5)"
   ]
  },
  {
   "cell_type": "code",
   "execution_count": 277,
   "id": "aac6ed93",
   "metadata": {},
   "outputs": [
    {
     "name": "stdout",
     "output_type": "stream",
     "text": [
      " centroids shape (5, 9328)\n",
      " clusterAssment shape  (2000, 2)\n"
     ]
    }
   ],
   "source": [
    "print(\" centroids shape\",centroids.shape)\n",
    "print(\" clusterAssment shape \",clusterAssment.shape)"
   ]
  },
  {
   "cell_type": "code",
   "execution_count": 278,
   "id": "5e3cb1fd",
   "metadata": {},
   "outputs": [],
   "source": [
    "def cluster_report(data,terms, clusters, centroids):\n",
    "    clustersDF = pd.DataFrame(clusters)\n",
    "    term_list = pd.Series(terms[0], name='Term')\n",
    "    \n",
    "    cluster_labels = np.unique(clustersDF[0])\n",
    "    result = {}\n",
    "    size ={}\n",
    "    for c in cluster_labels:\n",
    "        c = int(c)\n",
    "        print(c)\n",
    "        ## get the index of the train data from cluster c\n",
    "        cl_data = x_train.index[clustersDF[0]==c]\n",
    "\n",
    "        # gen centroids/frequency for the current (ith) cluster\n",
    "        centroid = pd.Series(centroids[c], name='Freq')\n",
    "\n",
    "        cl_size = len(cl_data)\n",
    "        size[c] = cl_size\n",
    "        \n",
    "        ## doc by term\n",
    "        docs_from_cluster = x_train[x_train.index.isin(cl_data)]\n",
    "\n",
    "        ## term by doc\n",
    "        docs_from_cluster = docs_from_cluster.T\n",
    "\n",
    "        ## count all non zero terms\n",
    "        DF = (pd.DataFrame([(docs_from_cluster!=0).sum(1)]).T)\n",
    "\n",
    "        ## if a cluster has 500 documents, and term \"game\" appears in 100 of those 500 documents, \n",
    "        ##then DF value of \"game\" in that cluster is 0.2 or 20%\n",
    "        DF = DF / size[c]\n",
    "        ## divide each term count by number of docs in cluser\n",
    "        \n",
    "        DF.columns=['DF']\n",
    "        \n",
    "        DF_PERCENT = DF.copy()\n",
    "        DF_PERCENT = DF_PERCENT * 100\n",
    "        DF_PERCENT.columns=['% of Docs']\n",
    "        ##print(\"docs_from_cluster \\n\",docs_from_cluster)\n",
    "\n",
    "        ## concatenate the terms, centroid and DF values for the cluster\n",
    "        term_centroid = pd.concat([term_list, centroid,DF,DF_PERCENT],axis=1)\n",
    "        \n",
    "        result[c] = term_centroid\n",
    "    return result , size"
   ]
  },
  {
   "cell_type": "code",
   "execution_count": 279,
   "id": "7a777f89",
   "metadata": {},
   "outputs": [],
   "source": [
    "def display_clusters(clusterDict, clusterSize, numTerms):\n",
    "    for c in clusterDict.keys():\n",
    "        cluster_rep = clusterDict[c]\n",
    "        print(\"\\nCluster \", c, \"size =\", clusterSize[c])\n",
    "        print(\"----------------------------------------------\")\n",
    "        print(cluster_rep.sort_values(by=\"DF\", ascending=False).head(numTerms))\n",
    "    return"
   ]
  },
  {
   "cell_type": "code",
   "execution_count": 280,
   "id": "079b90dc",
   "metadata": {},
   "outputs": [
    {
     "name": "stdout",
     "output_type": "stream",
     "text": [
      "1\n",
      "2\n",
      "4\n",
      "dict_keys([1, 2, 4])\n",
      "\n",
      "cluster# :: # of docs\n",
      "1  \t ::  5\n",
      "2  \t ::  394\n",
      "4  \t ::  1601\n"
     ]
    }
   ],
   "source": [
    "x_train = pd.DataFrame(x_train)\n",
    "clusterDict_nonidf , clusterSize_nonidf = cluster_report(x_train,terms,clusterAssment,centroids)\n",
    "print(clusterDict_nonidf.keys())\n",
    "\n",
    "print(\"\\ncluster# :: # of docs\")\n",
    "for key in clusterSize_nonidf.keys():\n",
    "      print(key,\" \\t :: \",clusterSize_nonidf[key])"
   ]
  },
  {
   "cell_type": "code",
   "execution_count": 281,
   "id": "c9a26543",
   "metadata": {},
   "outputs": [
    {
     "name": "stdout",
     "output_type": "stream",
     "text": [
      "\n",
      "Cluster  1 size = 5\n",
      "----------------------------------------------\n",
      "       Term  Freq   DF  % of Docs\n",
      "443    asqq   5.0  1.0      100.0\n",
      "2508     ei   8.2  1.0      100.0\n",
      "3317   gkwt   3.2  1.0      100.0\n",
      "744     bhj   4.6  1.0      100.0\n",
      "1420  cliff   1.0  1.0      100.0\n",
      "5680   nriz   4.0  1.0      100.0\n",
      "5428    mwt   3.8  1.0      100.0\n",
      "3385     gp   4.6  1.0      100.0\n",
      "4835     ma   7.0  1.0      100.0\n",
      "5426     mw  10.2  1.0      100.0\n",
      "\n",
      "Cluster  2 size = 394\n",
      "----------------------------------------------\n",
      "         Term  Freq    DF  % of Docs\n",
      "7895  subject  1.04  1.00     100.00\n",
      "3198     game  1.75  0.57      56.85\n",
      "9129    write  0.66  0.54      53.55\n",
      "8098     team  1.22  0.46      46.45\n",
      "3339       go  0.88  0.44      43.91\n",
      "3708   hockei  0.76  0.43      42.89\n",
      "417    articl  0.51  0.42      41.62\n",
      "6186     plai  1.11  0.41      41.37\n",
      "5795       on  0.63  0.38      38.32\n",
      "3266      get  0.70  0.35      34.77\n",
      "\n",
      "Cluster  4 size = 1601\n",
      "----------------------------------------------\n",
      "         Term  Freq    DF  % of Docs\n",
      "7895  subject  1.09  1.00     100.00\n",
      "9129    write  0.63  0.47      46.72\n",
      "5795       on  0.80  0.39      39.48\n",
      "417    articl  0.45  0.35      34.60\n",
      "4449     know  0.50  0.31      30.54\n",
      "3266      get  0.45  0.28      27.86\n",
      "4319     just  0.41  0.27      27.48\n",
      "8203    think  0.37  0.23      23.30\n",
      "6049    peopl  0.48  0.23      22.86\n",
      "9084     work  0.36  0.22      22.24\n"
     ]
    }
   ],
   "source": [
    "numOfTopNTerms = 10\n",
    "display_clusters(clusterDict_nonidf,clusterSize_nonidf,numOfTopNTerms)"
   ]
  },
  {
   "cell_type": "code",
   "execution_count": 282,
   "id": "acc53c42",
   "metadata": {},
   "outputs": [
    {
     "data": {
      "text/plain": [
       "(9328,)"
      ]
     },
     "execution_count": 282,
     "metadata": {},
     "output_type": "execute_result"
    }
   ],
   "source": [
    "## Repeating the above with DT_IDF\n",
    "termFreqs = matrix.sum(axis=1).astype(np.int64)\n",
    "termFreqs.shape"
   ]
  },
  {
   "cell_type": "code",
   "execution_count": 283,
   "id": "54d77eff",
   "metadata": {},
   "outputs": [
    {
     "data": {
      "image/png": "[encoded data removed]",
      "text/plain": [
       "<Figure size 432x288 with 1 Axes>"
      ]
     },
     "metadata": {
      "needs_background": "light"
     },
     "output_type": "display_data"
    }
   ],
   "source": [
    "plt.plot(sorted(termFreqs, reverse=True))\n",
    "plt.xlabel('Frequency')\n",
    "plt.ylabel('Terms')\n",
    "plt.show()"
   ]
  },
  {
   "cell_type": "markdown",
   "id": "6c34bae8",
   "metadata": {},
   "source": [
    "The above graph shows us a zift curve. This means that most of the terms are very less frequent"
   ]
  },
  {
   "cell_type": "code",
   "execution_count": 284,
   "id": "88d5a408",
   "metadata": {},
   "outputs": [
    {
     "name": "stdout",
     "output_type": "stream",
     "text": [
      "TD  (9328, 2500)\n",
      "DT  (2500, 9328)\n"
     ]
    }
   ],
   "source": [
    "print(\"TD \", matrix.shape)\n",
    "DTmatrix = matrix.T\n",
    "print(\"DT \",DTmatrix.shape)"
   ]
  },
  {
   "cell_type": "code",
   "execution_count": 285,
   "id": "f8904101",
   "metadata": {},
   "outputs": [
    {
     "name": "stdout",
     "output_type": "stream",
     "text": [
      "numTerms  9328  NDocs  2500\n",
      "(9328, 1)\n",
      "[[2500. 2500. 2500. ... 2500. 2500. 2500.]\n",
      " [2500. 2500. 2500. ... 2500. 2500. 2500.]\n",
      " [2500. 2500. 2500. ... 2500. 2500. 2500.]\n",
      " ...\n",
      " [2500. 2500. 2500. ... 2500. 2500. 2500.]\n",
      " [2500. 2500. 2500. ... 2500. 2500. 2500.]\n",
      " [2500. 2500. 2500. ... 2500. 2500. 2500.]]\n",
      "[[7.97 7.97 7.97 ... 7.97 7.97 7.97]\n",
      " [8.7  8.7  8.7  ... 8.7  8.7  8.7 ]\n",
      " [6.83 6.83 6.83 ... 6.83 6.83 6.83]\n",
      " ...\n",
      " [9.7  9.7  9.7  ... 9.7  9.7  9.7 ]\n",
      " [9.7  9.7  9.7  ... 9.7  9.7  9.7 ]\n",
      " [9.29 9.29 9.29 ... 9.29 9.29 9.29]]\n",
      "TD_tfidf       0     1     2     3     4     5     6     7     8     9     ...  2490  \\\n",
      "0      0.0   0.0   0.0   0.0   0.0   0.0   0.0   0.0   0.0   0.0  ...   0.0   \n",
      "1      0.0   0.0   0.0   0.0   0.0   0.0   0.0   0.0   0.0   0.0  ...   0.0   \n",
      "2      0.0   0.0   0.0   0.0   0.0   0.0   0.0   0.0   0.0   0.0  ...   0.0   \n",
      "3      0.0   0.0   0.0   0.0   0.0   0.0   0.0   0.0   0.0   0.0  ...   0.0   \n",
      "4      0.0   0.0   0.0   0.0   0.0   0.0   0.0   0.0   0.0   0.0  ...   0.0   \n",
      "...    ...   ...   ...   ...   ...   ...   ...   ...   ...   ...  ...   ...   \n",
      "9323   0.0   0.0   0.0   0.0   0.0   0.0   0.0   0.0   0.0   0.0  ...   0.0   \n",
      "9324   0.0   0.0   0.0   0.0   0.0   0.0   0.0   0.0   0.0   0.0  ...   0.0   \n",
      "9325   0.0   0.0   0.0   0.0   0.0   0.0   0.0   0.0   0.0   0.0  ...   0.0   \n",
      "9326   0.0   0.0   0.0   0.0   0.0   0.0   0.0   0.0   0.0   0.0  ...   0.0   \n",
      "9327   0.0   0.0   0.0   0.0   0.0   0.0   0.0   0.0   0.0   0.0  ...   0.0   \n",
      "\n",
      "      2491  2492  2493  2494  2495  2496  2497  2498  2499  \n",
      "0      0.0   0.0   0.0   0.0   0.0   0.0   0.0   0.0   0.0  \n",
      "1      0.0   0.0   0.0   0.0   0.0   0.0   0.0   0.0   0.0  \n",
      "2      0.0   0.0   0.0   0.0   0.0   0.0   0.0   0.0   0.0  \n",
      "3      0.0   0.0   0.0   0.0   0.0   0.0   0.0   0.0   0.0  \n",
      "4      0.0   0.0   0.0   0.0   0.0   0.0   0.0   0.0   0.0  \n",
      "...    ...   ...   ...   ...   ...   ...   ...   ...   ...  \n",
      "9323   0.0   0.0   0.0   0.0   0.0   0.0   0.0   0.0   0.0  \n",
      "9324   0.0   0.0   0.0   0.0   0.0   0.0   0.0   0.0   0.0  \n",
      "9325   0.0   0.0   0.0   0.0   0.0   0.0   0.0   0.0   0.0  \n",
      "9326   0.0   0.0   0.0   0.0   0.0   0.0   0.0   0.0   0.0  \n",
      "9327   0.0   0.0   0.0   0.0   0.0   0.0   0.0   0.0   0.0  \n",
      "\n",
      "[9328 rows x 2500 columns]\n",
      "DT_tfidf.shape : (2500, 9328)\n"
     ]
    }
   ],
   "source": [
    "numTerms=DTmatrix.shape[1]\n",
    "NDocs = DTmatrix.shape[0]\n",
    "TDmatrix = matrix\n",
    "print(\"numTerms \",numTerms,\" NDocs \",NDocs)\n",
    "\n",
    "# Note: doc frequency (df) for a term t is the number of docs in which t appears divided by total number of docs\n",
    "\n",
    "# first let's find the doc counts for each term\n",
    "\n",
    "DF = pd.DataFrame([(TDmatrix!=0).sum(1)]).T\n",
    "print(DF.shape)\n",
    "\n",
    "# Create a matrix with all entries = NDocs\n",
    "NMatrix=np.ones(np.shape(TDmatrix), dtype=float)*NDocs\n",
    "np.set_printoptions(precision=2,suppress=True,linewidth=120)\n",
    "print(NMatrix)\n",
    "\n",
    "# Convert each entry into IDF values\n",
    "# IDF is the log of the inverse of document frequency\n",
    "# Note that IDF is only a function of the term, so all columns will be identical.\n",
    "\n",
    "IDF = np.log2(np.divide(NMatrix, np.array(DF)))\n",
    "\n",
    "np.set_printoptions(precision=2,suppress=True)\n",
    "print(IDF)\n",
    "\n",
    "pd.set_option(\"display.precision\", 2)\n",
    "\n",
    "# Finally compute the TFxIDF values for each document-term entry\n",
    "TD_tfidf = TDmatrix * IDF\n",
    "\n",
    "print(\"TD_tfidf\",TD_tfidf)\n",
    "\n",
    "DT_tfidf = TD_tfidf.T\n",
    "DT_tfidf = np.mat(DT_tfidf)\n",
    "\n",
    "print(\"DT_tfidf.shape :\",DT_tfidf.shape)\n"
   ]
  },
  {
   "cell_type": "code",
   "execution_count": 286,
   "id": "07dbe683",
   "metadata": {},
   "outputs": [],
   "source": [
    "x_train_df, x_test_idf, y_train_idf, y_test_idf = train_test_split(DT_tfidf, classes, test_size=0.2, random_state=99)\n"
   ]
  },
  {
   "cell_type": "code",
   "execution_count": 287,
   "id": "d4941a32",
   "metadata": {},
   "outputs": [
    {
     "name": "stdout",
     "output_type": "stream",
     "text": [
      "calculating centroids : Start\n",
      "calculating centroids : End \n",
      " centroids are :: \n",
      " [[  6.3    0.25 189.49 ...   9.79   6.25  19.73]\n",
      " [  2.2    3.46 292.34 ...   3.8    8.4   26.72]\n",
      " [  7.47   0.73  84.22 ...   2.7    5.52  24.47]\n",
      " [  6.53   4.17 240.86 ...  13.22   0.76  30.6 ]\n",
      " [  7.31   7.89 248.44 ...  12.54   1.92   0.77]]\n"
     ]
    },
    {
     "name": "stderr",
     "output_type": "stream",
     "text": [
      "/var/folders/y1/rcx3rhfx4dj1v_rvs8qnbc0c0000gn/T/ipykernel_33479/11797310.py:24: DeprecationWarning: setting an array element with a sequence. This was supported in some cases where the elements are arrays with a single element. For example `np.array([1, np.array([2])], dtype=int)`. In the future this will raise the same ValueError as `np.array([1, [2]], dtype=int)`.\n",
      "  clusterAssment[i,:] = minIndex, minDIst**2\n"
     ]
    },
    {
     "name": "stdout",
     "output_type": "stream",
     "text": [
      " clusterAssment :  (2000, 2)\n",
      " centroids :  (5, 9328)\n"
     ]
    }
   ],
   "source": [
    "data = np.mat(x_train_df)\n",
    "centroids, clusterAssment = kmeans(data,5)\n",
    "\n",
    "print(\" clusterAssment : \",clusterAssment.shape)\n",
    "print(\" centroids : \",centroids.shape)"
   ]
  },
  {
   "cell_type": "code",
   "execution_count": 288,
   "id": "0abd55ff",
   "metadata": {},
   "outputs": [
    {
     "data": {
      "text/plain": [
       "array([[0.  , 0.  , 0.  , ..., 1.39, 0.  , 0.  ],\n",
       "       [0.02, 0.  , 1.22, ..., 0.  , 0.  , 0.  ],\n",
       "       [0.09, 0.2 , 0.16, ..., 0.  , 0.  , 0.  ],\n",
       "       [0.04, 0.  , 0.04, ..., 0.  , 0.  , 0.  ],\n",
       "       [0.02, 0.05, 0.  , ..., 0.03, 0.03, 0.14]])"
      ]
     },
     "execution_count": 288,
     "metadata": {},
     "output_type": "execute_result"
    }
   ],
   "source": [
    "centroids"
   ]
  },
  {
   "cell_type": "code",
   "execution_count": 289,
   "id": "990c4590",
   "metadata": {},
   "outputs": [
    {
     "name": "stdout",
     "output_type": "stream",
     "text": [
      "0\n",
      "1\n",
      "2\n",
      "3\n",
      "4\n",
      "dict_keys([0, 1, 2, 3, 4])\n",
      "\n",
      "cluster# :: # of docs\n",
      "0  \t ::  7\n",
      "1  \t ::  397\n",
      "2  \t ::  85\n",
      "3  \t ::  762\n",
      "4  \t ::  749\n"
     ]
    }
   ],
   "source": [
    "x_train_df = pd.DataFrame(x_train_df)\n",
    "clusterDict , clusterSize = cluster_report(x_train_df,terms,clusterAssment,centroids)\n",
    "print(clusterDict.keys())\n",
    "\n",
    "print(\"\\ncluster# :: # of docs\")\n",
    "for key in clusterSize.keys():\n",
    "      print(key,\" \\t :: \",clusterSize[key])"
   ]
  },
  {
   "cell_type": "code",
   "execution_count": 290,
   "id": "ee6232b3",
   "metadata": {},
   "outputs": [
    {
     "name": "stdout",
     "output_type": "stream",
     "text": [
      "\n",
      "Cluster  0 size = 7\n",
      "----------------------------------------------\n",
      "         Term      Freq    DF  % of Docs\n",
      "7895  subject      0.00  1.00     100.00\n",
      "547        ax  41371.61  0.86      85.71\n",
      "4982      max   2826.98  0.86      85.71\n",
      "9144       wt     41.19  0.71      71.43\n",
      "6183       pl    296.54  0.71      71.43\n",
      "8275       tm     51.71  0.71      71.43\n",
      "5238       ml     30.92  0.71      71.43\n",
      "5975     part      4.59  0.71      71.43\n",
      "3275    ghjkn     17.41  0.71      71.43\n",
      "3279       gi     15.39  0.71      71.43\n",
      "\n",
      "Cluster  1 size = 397\n",
      "----------------------------------------------\n",
      "           Term  Freq    DF  % of Docs\n",
      "7895    subject  0.00  1.00     100.00\n",
      "9129      write  0.91  0.63      63.22\n",
      "3345        god  7.66  0.56      55.92\n",
      "5795         on  1.91  0.55      54.91\n",
      "417      articl  0.93  0.48      47.86\n",
      "1335  christian  4.96  0.46      45.59\n",
      "6049      peopl  2.53  0.45      44.84\n",
      "4449       know  1.52  0.43      42.82\n",
      "8203      think  1.47  0.41      40.55\n",
      "693      believ  2.40  0.40      39.80\n",
      "\n",
      "Cluster  2 size = 85\n",
      "----------------------------------------------\n",
      "         Term  Freq    DF  % of Docs\n",
      "7895  subject  0.00  1.00     100.00\n",
      "5795       on  0.77  0.38      37.65\n",
      "7115     sale  1.35  0.32      31.76\n",
      "9129    write  0.42  0.29      29.41\n",
      "8174    thank  0.75  0.27      27.06\n",
      "3266      get  0.63  0.26      25.88\n",
      "3339       go  0.90  0.25      24.71\n",
      "8098     team  1.62  0.24      23.53\n",
      "5848   origin  1.55  0.22      22.35\n",
      "417    articl  0.46  0.22      22.35\n",
      "\n",
      "Cluster  3 size = 762\n",
      "----------------------------------------------\n",
      "         Term  Freq    DF  % of Docs\n",
      "7895  subject  0.00  1.00     100.00\n",
      "9025   window  3.17  0.39      38.85\n",
      "9129    write  0.46  0.30      30.31\n",
      "5795       on  0.63  0.29      28.87\n",
      "2550    email  0.91  0.29      28.61\n",
      "8174    thank  0.78  0.28      28.48\n",
      "7115     sale  1.28  0.27      26.90\n",
      "6207    pleas  0.82  0.26      26.38\n",
      "3266      get  0.72  0.26      25.72\n",
      "4449     know  0.59  0.24      23.88\n",
      "\n",
      "Cluster  4 size = 749\n",
      "----------------------------------------------\n",
      "         Term  Freq    DF  % of Docs\n",
      "7895  subject  0.00  1.00     100.00\n",
      "9129    write  0.84  0.60      60.35\n",
      "417    articl  0.88  0.47      47.00\n",
      "5795       on  1.03  0.42      41.79\n",
      "3266      get  1.19  0.36      35.51\n",
      "3339       go  1.28  0.32      32.04\n",
      "4319     just  0.88  0.32      31.51\n",
      "8203    think  0.96  0.29      29.24\n",
      "4449     know  0.82  0.29      28.84\n",
      "4364      kei  3.01  0.28      27.64\n"
     ]
    }
   ],
   "source": [
    "numOfTopNTerms = 10\n",
    "display_clusters(clusterDict,clusterSize,numOfTopNTerms)"
   ]
  },
  {
   "cell_type": "markdown",
   "id": "c3a168bc",
   "metadata": {},
   "source": [
    "# Que 2-D"
   ]
  },
  {
   "cell_type": "markdown",
   "id": "7ae7b56d",
   "metadata": {},
   "source": [
    "Using the cluster assignments from your Kmeans clustering and the original cluster labels for the training document, compare your clusters to the re-assigned classes by computing the Completeness and Homogeneity values. You should do this for the best values of k and the best clustering run you settled on in the previous part.\n"
   ]
  },
  {
   "cell_type": "code",
   "execution_count": 291,
   "id": "f9b14ff0",
   "metadata": {},
   "outputs": [
    {
     "data": {
      "text/plain": [
       "array([1, 0, 0, ..., 3, 1, 0])"
      ]
     },
     "execution_count": 291,
     "metadata": {},
     "output_type": "execute_result"
    }
   ],
   "source": [
    "y_train_idf\n"
   ]
  },
  {
   "cell_type": "code",
   "execution_count": 292,
   "id": "eaff7d9c",
   "metadata": {},
   "outputs": [
    {
     "data": {
      "text/plain": [
       "matrix([[4., 3., 3., ..., 4., 1., 3.]])"
      ]
     },
     "execution_count": 292,
     "metadata": {},
     "output_type": "execute_result"
    }
   ],
   "source": [
    "clusterAssment.T[0]\n"
   ]
  },
  {
   "cell_type": "code",
   "execution_count": 293,
   "id": "6b94ae07",
   "metadata": {},
   "outputs": [
    {
     "name": "stdout",
     "output_type": "stream",
     "text": [
      "completeness_score =  0.7038222149890767\n",
      "homogeneity_score =  0.5293598469263906\n"
     ]
    }
   ],
   "source": [
    "from sklearn.metrics import completeness_score, homogeneity_score\n",
    "\n",
    "#NOTE: this generates a random score every time you run the cluster\n",
    "print(\"completeness_score = \",completeness_score(y_train_idf,np.ravel(clusterAssment.T[0])))\n",
    "print(\"homogeneity_score = \",homogeneity_score(y_train_idf,np.ravel(clusterAssment.T[0])))"
   ]
  },
  {
   "cell_type": "markdown",
   "id": "bcf79b48",
   "metadata": {},
   "source": [
    "# Que 2-E"
   ]
  },
  {
   "cell_type": "markdown",
   "id": "c1bbea8c",
   "metadata": {},
   "source": [
    "Finally, using your cluster assignments as class labels, categorize each of the documents in the 20% set-aside data into each of the appropriate clusters (using your final clustering results in part c). Your categorization should be based on Cosine similarity between each test document and cluster centroids. For each test document show the assigned cluster label as well as Cosine similarity to the corresponding cluster.\n"
   ]
  },
  {
   "cell_type": "code",
   "execution_count": 294,
   "id": "0ea7de91",
   "metadata": {},
   "outputs": [
    {
     "name": "stdout",
     "output_type": "stream",
     "text": [
      "(5, 9328)\n",
      "[[0.   0.   0.   ... 1.39 0.   0.  ]\n",
      " [0.02 0.   1.22 ... 0.   0.   0.  ]\n",
      " [0.09 0.2  0.16 ... 0.   0.   0.  ]\n",
      " [0.04 0.   0.04 ... 0.   0.   0.  ]\n",
      " [0.02 0.05 0.   ... 0.03 0.03 0.14]]\n",
      "vs_test_idf shape  (500, 9328)\n"
     ]
    }
   ],
   "source": [
    "print(centroids.shape)\n",
    "print(centroids)\n",
    "print(\"vs_test_idf shape \",x_test_idf.shape)"
   ]
  },
  {
   "cell_type": "code",
   "execution_count": 295,
   "id": "a4b855a1",
   "metadata": {},
   "outputs": [],
   "source": [
    "results = []\n",
    "\n",
    "x_test = np.array(x_test_idf)\n",
    "for doc in x_test:\n",
    "    dic = {}\n",
    "    sim = []\n",
    "    cluster = 0\n",
    "    for centroid in centroids:\n",
    "        val = np.ravel(calculateCosineSimilarityDistance(doc,centroid))[0]\n",
    "        centroid_doc_sim = 1 - val #Need to subtract from 1 as our function returns distance and not similarity\n",
    "        #print(\"centroid_doc_sim \",centroid_doc_sim)\n",
    "        sim.append(centroid_doc_sim) \n",
    "        dic['Cosine Similarity to Cluster '+str(cluster)] = str(np.ravel(centroid_doc_sim)[0])\n",
    "        cluster += 1\n",
    "        \n",
    "    dic['Predicted Cluster'] = sim.index(max(sim)) \n",
    "    \n",
    "    results.append(dic)\n",
    "\n",
    "test_cluster = pd.DataFrame(results)"
   ]
  },
  {
   "cell_type": "code",
   "execution_count": 296,
   "id": "9c4029e0",
   "metadata": {},
   "outputs": [
    {
     "name": "stdout",
     "output_type": "stream",
     "text": [
      "Categorized test data shape  (500, 6)\n"
     ]
    },
    {
     "data": {
      "text/html": [
       "<div>\n",
       "<style scoped>\n",
       "    .dataframe tbody tr th:only-of-type {\n",
       "        vertical-align: middle;\n",
       "    }\n",
       "\n",
       "    .dataframe tbody tr th {\n",
       "        vertical-align: top;\n",
       "    }\n",
       "\n",
       "    .dataframe thead th {\n",
       "        text-align: right;\n",
       "    }\n",
       "</style>\n",
       "<table border=\"1\" class=\"dataframe\">\n",
       "  <thead>\n",
       "    <tr style=\"text-align: right;\">\n",
       "      <th></th>\n",
       "      <th>Cosine Similarity to Cluster 0</th>\n",
       "      <th>Cosine Similarity to Cluster 1</th>\n",
       "      <th>Cosine Similarity to Cluster 2</th>\n",
       "      <th>Cosine Similarity to Cluster 3</th>\n",
       "      <th>Cosine Similarity to Cluster 4</th>\n",
       "      <th>Predicted Cluster</th>\n",
       "    </tr>\n",
       "  </thead>\n",
       "  <tbody>\n",
       "    <tr>\n",
       "      <th>0</th>\n",
       "      <td>4.5583202166188386e-06</td>\n",
       "      <td>0.08944121167142005</td>\n",
       "      <td>0.047725441060355256</td>\n",
       "      <td>0.09720361533027644</td>\n",
       "      <td>0.1833544881819602</td>\n",
       "      <td>4</td>\n",
       "    </tr>\n",
       "    <tr>\n",
       "      <th>1</th>\n",
       "      <td>0.0</td>\n",
       "      <td>0.06185648309728442</td>\n",
       "      <td>0.04123648783097833</td>\n",
       "      <td>0.07969377664212973</td>\n",
       "      <td>0.08677937326923102</td>\n",
       "      <td>4</td>\n",
       "    </tr>\n",
       "    <tr>\n",
       "      <th>2</th>\n",
       "      <td>3.501293787033788e-05</td>\n",
       "      <td>0.06110296508438495</td>\n",
       "      <td>0.04688141581038019</td>\n",
       "      <td>0.18987198298442753</td>\n",
       "      <td>0.06760655603048515</td>\n",
       "      <td>3</td>\n",
       "    </tr>\n",
       "    <tr>\n",
       "      <th>3</th>\n",
       "      <td>3.934667201721531e-06</td>\n",
       "      <td>0.02274081886122059</td>\n",
       "      <td>0.014087762938468584</td>\n",
       "      <td>0.020530092916457354</td>\n",
       "      <td>0.07600505882203468</td>\n",
       "      <td>4</td>\n",
       "    </tr>\n",
       "    <tr>\n",
       "      <th>4</th>\n",
       "      <td>5.661633320164228e-06</td>\n",
       "      <td>0.3128043195712311</td>\n",
       "      <td>0.05192691242888736</td>\n",
       "      <td>0.0771693060384987</td>\n",
       "      <td>0.07490449031494484</td>\n",
       "      <td>1</td>\n",
       "    </tr>\n",
       "    <tr>\n",
       "      <th>...</th>\n",
       "      <td>...</td>\n",
       "      <td>...</td>\n",
       "      <td>...</td>\n",
       "      <td>...</td>\n",
       "      <td>...</td>\n",
       "      <td>...</td>\n",
       "    </tr>\n",
       "    <tr>\n",
       "      <th>495</th>\n",
       "      <td>0.0</td>\n",
       "      <td>0.19135234245668953</td>\n",
       "      <td>0.021125721148937182</td>\n",
       "      <td>0.03392802615102131</td>\n",
       "      <td>0.03710087138597007</td>\n",
       "      <td>1</td>\n",
       "    </tr>\n",
       "    <tr>\n",
       "      <th>496</th>\n",
       "      <td>1.0737448201236788e-05</td>\n",
       "      <td>0.03467982168154704</td>\n",
       "      <td>0.052756710889425906</td>\n",
       "      <td>0.033000059470316256</td>\n",
       "      <td>0.1299856602891316</td>\n",
       "      <td>4</td>\n",
       "    </tr>\n",
       "    <tr>\n",
       "      <th>497</th>\n",
       "      <td>6.75703351453727e-05</td>\n",
       "      <td>0.036971047685655845</td>\n",
       "      <td>0.03433798753139217</td>\n",
       "      <td>0.042949824438580864</td>\n",
       "      <td>0.07601441544082466</td>\n",
       "      <td>4</td>\n",
       "    </tr>\n",
       "    <tr>\n",
       "      <th>498</th>\n",
       "      <td>1.986801586029152e-06</td>\n",
       "      <td>0.031166076116140085</td>\n",
       "      <td>0.03811656860629686</td>\n",
       "      <td>0.19293650675300156</td>\n",
       "      <td>0.04659245839460602</td>\n",
       "      <td>3</td>\n",
       "    </tr>\n",
       "    <tr>\n",
       "      <th>499</th>\n",
       "      <td>3.128994675249963e-06</td>\n",
       "      <td>0.036093877348874925</td>\n",
       "      <td>0.04227926525790482</td>\n",
       "      <td>0.05364607096406171</td>\n",
       "      <td>0.12635364927742865</td>\n",
       "      <td>4</td>\n",
       "    </tr>\n",
       "  </tbody>\n",
       "</table>\n",
       "<p>500 rows × 6 columns</p>\n",
       "</div>"
      ],
      "text/plain": [
       "    Cosine Similarity to Cluster 0 Cosine Similarity to Cluster 1  \\\n",
       "0           4.5583202166188386e-06            0.08944121167142005   \n",
       "1                              0.0            0.06185648309728442   \n",
       "2            3.501293787033788e-05            0.06110296508438495   \n",
       "3            3.934667201721531e-06            0.02274081886122059   \n",
       "4            5.661633320164228e-06             0.3128043195712311   \n",
       "..                             ...                            ...   \n",
       "495                            0.0            0.19135234245668953   \n",
       "496         1.0737448201236788e-05            0.03467982168154704   \n",
       "497           6.75703351453727e-05           0.036971047685655845   \n",
       "498          1.986801586029152e-06           0.031166076116140085   \n",
       "499          3.128994675249963e-06           0.036093877348874925   \n",
       "\n",
       "    Cosine Similarity to Cluster 2 Cosine Similarity to Cluster 3  \\\n",
       "0             0.047725441060355256            0.09720361533027644   \n",
       "1              0.04123648783097833            0.07969377664212973   \n",
       "2              0.04688141581038019            0.18987198298442753   \n",
       "3             0.014087762938468584           0.020530092916457354   \n",
       "4              0.05192691242888736             0.0771693060384987   \n",
       "..                             ...                            ...   \n",
       "495           0.021125721148937182            0.03392802615102131   \n",
       "496           0.052756710889425906           0.033000059470316256   \n",
       "497            0.03433798753139217           0.042949824438580864   \n",
       "498            0.03811656860629686            0.19293650675300156   \n",
       "499            0.04227926525790482            0.05364607096406171   \n",
       "\n",
       "    Cosine Similarity to Cluster 4  Predicted Cluster  \n",
       "0               0.1833544881819602                  4  \n",
       "1              0.08677937326923102                  4  \n",
       "2              0.06760655603048515                  3  \n",
       "3              0.07600505882203468                  4  \n",
       "4              0.07490449031494484                  1  \n",
       "..                             ...                ...  \n",
       "495            0.03710087138597007                  1  \n",
       "496             0.1299856602891316                  4  \n",
       "497            0.07601441544082466                  4  \n",
       "498            0.04659245839460602                  3  \n",
       "499            0.12635364927742865                  4  \n",
       "\n",
       "[500 rows x 6 columns]"
      ]
     },
     "execution_count": 296,
     "metadata": {},
     "output_type": "execute_result"
    }
   ],
   "source": [
    "pd.options.display.max_rows = 50\n",
    "print(\"Categorized test data shape \",test_cluster.shape)\n",
    "\n",
    "test_cluster"
   ]
  },
  {
   "cell_type": "code",
   "execution_count": null,
   "id": "0183b827",
   "metadata": {},
   "outputs": [],
   "source": []
  },
  {
   "cell_type": "code",
   "execution_count": null,
   "id": "3762d4fe",
   "metadata": {},
   "outputs": [],
   "source": []
  },
  {
   "cell_type": "code",
   "execution_count": null,
   "id": "4a792d38",
   "metadata": {},
   "outputs": [],
   "source": []
  }
 ],
 "metadata": {
  "kernelspec": {
   "display_name": "Python 3 (ipykernel)",
   "language": "python",
   "name": "python3"
  },
  "language_info": {
   "codemirror_mode": {
    "name": "ipython",
    "version": 3
   },
   "file_extension": ".py",
   "mimetype": "text/x-python",
   "name": "python",
   "nbconvert_exporter": "python",
   "pygments_lexer": "ipython3",
   "version": "3.9.7"
  }
 },
 "nbformat": 4,
 "nbformat_minor": 5
}
